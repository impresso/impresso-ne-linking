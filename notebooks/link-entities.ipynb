{
 "cells": [
  {
   "cell_type": "code",
   "execution_count": 2,
   "metadata": {},
   "outputs": [],
   "source": [
    "import json\n",
    "from impresso_commons.path.path_s3 import IMPRESSO_STORAGEOPT\n",
    "from impresso_commons.utils.s3 import fixed_s3fs_glob\n",
    "from dask import bag as db\n",
    "# from tabulate import tabulate\n",
    "#import matplotlib\n",
    "#from matplotlib import pyplot as plt"
   ]
  },
  {
   "cell_type": "code",
   "execution_count": 3,
   "metadata": {},
   "outputs": [],
   "source": [
    "import os\n",
    "from dask_k8 import DaskCluster\n",
    "from dask import bag as db\n",
    "from impresso_commons.path.path_s3 import read_s3_issues\n",
    "from impresso_commons.text.rebuilder import rebuild_issues, compress, upload, cleanup"
   ]
  },
  {
   "cell_type": "code",
   "execution_count": 4,
   "metadata": {},
   "outputs": [],
   "source": [
    "import dask"
   ]
  },
  {
   "cell_type": "code",
   "execution_count": 5,
   "metadata": {},
   "outputs": [
    {
     "data": {
      "text/plain": [
       "'2.3.0'"
      ]
     },
     "execution_count": 5,
     "metadata": {},
     "output_type": "execute_result"
    }
   ],
   "source": [
    "dask.__version__"
   ]
  },
  {
   "cell_type": "markdown",
   "metadata": {},
   "source": [
    "## Set up dask kubernetes cluster"
   ]
  },
  {
   "cell_type": "code",
   "execution_count": 6,
   "metadata": {},
   "outputs": [],
   "source": [
    "from impresso_commons.utils.kube import (\n",
    "    make_scheduler_configuration,\n",
    "    make_worker_configuration,\n",
    ")"
   ]
  },
  {
   "cell_type": "code",
   "execution_count": 7,
   "metadata": {},
   "outputs": [],
   "source": [
    "image_uri = \"ic-registry.epfl.ch/dhlab/impresso_pycommons:v1\""
   ]
  },
  {
   "cell_type": "code",
   "execution_count": 8,
   "metadata": {},
   "outputs": [],
   "source": [
    "memory = \"30G\""
   ]
  },
  {
   "cell_type": "code",
   "execution_count": 9,
   "metadata": {},
   "outputs": [],
   "source": [
    "cluster = DaskCluster(\n",
    "            namespace=\"dhlab\",\n",
    "            cluster_id=\"impresso-entity-linking\",\n",
    "            scheduler_pod_spec=make_scheduler_configuration(),\n",
    "            worker_pod_spec=make_worker_configuration(\n",
    "                docker_image=image_uri, memory=memory\n",
    "            ),\n",
    "        )"
   ]
  },
  {
   "cell_type": "code",
   "execution_count": 10,
   "metadata": {},
   "outputs": [
    {
     "name": "stdout",
     "output_type": "stream",
     "text": [
      "Scheduler: tcp://10.90.47.30:8884\n",
      "Dashboard: http://10.90.47.30:7705\n"
     ]
    }
   ],
   "source": [
    "cluster.create()"
   ]
  },
  {
   "cell_type": "code",
   "execution_count": 44,
   "metadata": {},
   "outputs": [],
   "source": [
    "cluster.close()"
   ]
  },
  {
   "cell_type": "code",
   "execution_count": 11,
   "metadata": {},
   "outputs": [],
   "source": [
    "cluster.scale(100, blocking=False)"
   ]
  },
  {
   "cell_type": "code",
   "execution_count": 12,
   "metadata": {},
   "outputs": [],
   "source": [
    "dask_client = cluster.make_dask_client()"
   ]
  },
  {
   "cell_type": "code",
   "execution_count": 13,
   "metadata": {
    "collapsed": true
   },
   "outputs": [
    {
     "data": {
      "text/plain": [
       "{'scheduler': {'host': (('python', '3.7.3.final.0'),\n",
       "   ('python-bits', 64),\n",
       "   ('OS', 'Linux'),\n",
       "   ('OS-release', '4.15.0-70-generic'),\n",
       "   ('machine', 'x86_64'),\n",
       "   ('processor', ''),\n",
       "   ('byteorder', 'little'),\n",
       "   ('LC_ALL', 'C.UTF-8'),\n",
       "   ('LANG', 'C.UTF-8'),\n",
       "   ('LOCALE', 'en_US.UTF-8')),\n",
       "  'packages': {'required': (('dask', '2.3.0'),\n",
       "    ('distributed', '2.3.2'),\n",
       "    ('msgpack', '0.6.1'),\n",
       "    ('cloudpickle', '1.2.1'),\n",
       "    ('tornado', '6.0.3'),\n",
       "    ('toolz', '0.10.0')),\n",
       "   'optional': (('numpy', '1.16.2'),\n",
       "    ('pandas', '0.24.2'),\n",
       "    ('bokeh', '1.3.4'),\n",
       "    ('lz4', None),\n",
       "    ('dask_ml', None),\n",
       "    ('blosc', '1.8.1'))}},\n",
       " 'workers': {},\n",
       " 'client': {'host': [('python', '3.6.7.final.0'),\n",
       "   ('python-bits', 64),\n",
       "   ('OS', 'Linux'),\n",
       "   ('OS-release', '4.15.0-46-generic'),\n",
       "   ('machine', 'x86_64'),\n",
       "   ('processor', 'x86_64'),\n",
       "   ('byteorder', 'little'),\n",
       "   ('LC_ALL', 'None'),\n",
       "   ('LANG', 'en_US.UTF-8'),\n",
       "   ('LOCALE', 'en_US.UTF-8')],\n",
       "  'packages': {'required': [('dask', '2.3.0'),\n",
       "    ('distributed', '2.3.2'),\n",
       "    ('msgpack', '0.6.1'),\n",
       "    ('cloudpickle', '1.2.1'),\n",
       "    ('tornado', '6.0.3'),\n",
       "    ('toolz', '0.10.0')],\n",
       "   'optional': [('numpy', '1.16.2'),\n",
       "    ('pandas', '0.24.2'),\n",
       "    ('bokeh', '1.3.4'),\n",
       "    ('lz4', None),\n",
       "    ('dask_ml', None),\n",
       "    ('blosc', '1.8.1')]}}}"
      ]
     },
     "execution_count": 13,
     "metadata": {},
     "output_type": "execute_result"
    }
   ],
   "source": [
    "dask_client.get_versions(check=True)"
   ]
  },
  {
   "cell_type": "code",
   "execution_count": 14,
   "metadata": {},
   "outputs": [
    {
     "data": {
      "text/html": [
       "<table style=\"border: 2px solid white;\">\n",
       "<tr>\n",
       "<td style=\"vertical-align: top; border: 0px solid white\">\n",
       "<h3 style=\"text-align: left;\">Client</h3>\n",
       "<ul style=\"text-align: left; list-style: none; margin: 0; padding: 0;\">\n",
       "  <li><b>Scheduler: </b>tcp://10.90.47.30:8884</li>\n",
       "  <li><b>Dashboard: </b><a href='http://10.90.47.30:8787/status' target='_blank'>http://10.90.47.30:8787/status</a>\n",
       "</ul>\n",
       "</td>\n",
       "<td style=\"vertical-align: top; border: 0px solid white\">\n",
       "<h3 style=\"text-align: left;\">Cluster</h3>\n",
       "<ul style=\"text-align: left; list-style:none; margin: 0; padding: 0;\">\n",
       "  <li><b>Workers: </b>2</li>\n",
       "  <li><b>Cores: </b>2</li>\n",
       "  <li><b>Memory: </b>60.00 GB</li>\n",
       "</ul>\n",
       "</td>\n",
       "</tr>\n",
       "</table>"
      ],
      "text/plain": [
       "<Client: scheduler='tcp://10.233.111.139:8786' processes=0 cores=0>"
      ]
     },
     "execution_count": 14,
     "metadata": {},
     "output_type": "execute_result"
    }
   ],
   "source": [
    "dask_client"
   ]
  },
  {
   "cell_type": "markdown",
   "metadata": {},
   "source": [
    "## Process named entity mentions"
   ]
  },
  {
   "cell_type": "code",
   "execution_count": 22,
   "metadata": {},
   "outputs": [],
   "source": [
    "files = fixed_s3fs_glob(f\"s3://processed-canonical-data/ne-mentions/public_release/*.bz2\")"
   ]
  },
  {
   "cell_type": "code",
   "execution_count": 21,
   "metadata": {},
   "outputs": [
    {
     "data": {
      "text/plain": [
       "397"
      ]
     },
     "execution_count": 21,
     "metadata": {},
     "output_type": "execute_result"
    }
   ],
   "source": [
    "len(files)"
   ]
  },
  {
   "cell_type": "code",
   "execution_count": 72,
   "metadata": {},
   "outputs": [],
   "source": [
    "mentions_bag = db.read_text(\n",
    "    files,\n",
    "    storage_options=IMPRESSO_STORAGEOPT\n",
    ").map(json.loads).persist()"
   ]
  },
  {
   "cell_type": "code",
   "execution_count": 27,
   "metadata": {},
   "outputs": [],
   "source": [
    "dask_client.cancel(mentions_bag)"
   ]
  },
  {
   "cell_type": "code",
   "execution_count": 74,
   "metadata": {},
   "outputs": [
    {
     "data": {
      "text/plain": [
       "({'id': 'LSE-1897-09-25-a-i0032',\n",
       "  's3v': None,\n",
       "  'ts': '2019-06-17T11:00:30Z',\n",
       "  'sys_id': 'nerb-0001',\n",
       "  'nes': [{'type': 'Person',\n",
       "    'surface': 'RUE DU GRENIER',\n",
       "    'name': 'RUE DU GRENIER',\n",
       "    'firstname': 'RUE',\n",
       "    'surname': 'DU GRENIER',\n",
       "    'lOffset': 146,\n",
       "    'rOffset': 160,\n",
       "    'mrule': 'person1_basic_6_passed',\n",
       "    'confidence': 'high',\n",
       "    'id': 'LSE-1897-09-25-a-i0032:146:160:person:nerb-0001'}]},)"
      ]
     },
     "execution_count": 74,
     "metadata": {},
     "output_type": "execute_result"
    }
   ],
   "source": [
    "mentions_bag.take(1)"
   ]
  },
  {
   "cell_type": "code",
   "execution_count": 76,
   "metadata": {},
   "outputs": [
    {
     "data": {
      "text/plain": [
       "30233580"
      ]
     },
     "execution_count": 76,
     "metadata": {},
     "output_type": "execute_result"
    }
   ],
   "source": [
    "mentions_bag.count().compute()"
   ]
  },
  {
   "cell_type": "markdown",
   "metadata": {},
   "source": [
    "### try join between dataframes"
   ]
  },
  {
   "cell_type": "markdown",
   "metadata": {},
   "source": [
    "Merging between dataframes is more performant than between bags."
   ]
  },
  {
   "cell_type": "code",
   "execution_count": 15,
   "metadata": {},
   "outputs": [],
   "source": [
    "from impresso_commons.utils.s3 import alternative_read_text"
   ]
  },
  {
   "cell_type": "code",
   "execution_count": 22,
   "metadata": {},
   "outputs": [
    {
     "data": {
      "text/html": [
       "<table style=\"border: 2px solid white;\">\n",
       "<tr>\n",
       "<td style=\"vertical-align: top; border: 0px solid white\">\n",
       "<h3 style=\"text-align: left;\">Client</h3>\n",
       "<ul style=\"text-align: left; list-style: none; margin: 0; padding: 0;\">\n",
       "  <li><b>Scheduler: </b>tcp://10.90.47.30:8884</li>\n",
       "  <li><b>Dashboard: </b><a href='http://10.90.47.30:8787/status' target='_blank'>http://10.90.47.30:8787/status</a>\n",
       "</ul>\n",
       "</td>\n",
       "<td style=\"vertical-align: top; border: 0px solid white\">\n",
       "<h3 style=\"text-align: left;\">Cluster</h3>\n",
       "<ul style=\"text-align: left; list-style:none; margin: 0; padding: 0;\">\n",
       "  <li><b>Workers: </b>100</li>\n",
       "  <li><b>Cores: </b>100</li>\n",
       "  <li><b>Memory: </b>3.00 TB</li>\n",
       "</ul>\n",
       "</td>\n",
       "</tr>\n",
       "</table>"
      ],
      "text/plain": [
       "<Client: scheduler='tcp://10.233.111.139:8786' processes=100 cores=100>"
      ]
     },
     "execution_count": 22,
     "metadata": {},
     "output_type": "execute_result"
    }
   ],
   "source": [
    "dask_client"
   ]
  },
  {
   "cell_type": "code",
   "execution_count": 23,
   "metadata": {},
   "outputs": [],
   "source": [
    "mentions_bucket = \"s3://processed-canonical-data/mentions/v01/\"\n",
    "files = fixed_s3fs_glob(f\"{mentions_bucket}*.bz2\")"
   ]
  },
  {
   "cell_type": "code",
   "execution_count": 24,
   "metadata": {},
   "outputs": [],
   "source": [
    "# files = fixed_s3fs_glob(f\"s3://processed-canonical-data/mentions_public/*.bz2\")"
   ]
  },
  {
   "cell_type": "code",
   "execution_count": 25,
   "metadata": {},
   "outputs": [],
   "source": [
    "mentions_df = db.read_text(\n",
    "    files,\n",
    "    storage_options=IMPRESSO_STORAGEOPT\n",
    ").map(json.loads).to_dataframe().set_index('id').persist()"
   ]
  },
  {
   "cell_type": "code",
   "execution_count": 26,
   "metadata": {},
   "outputs": [
    {
     "data": {
      "text/plain": [
       "Dask Index Structure:\n",
       "npartitions=397\n",
       "BDC-1839-01-20-a-i0001          object\n",
       "BDC-1839-03-28-a-i0005             ...\n",
       "                                 ...  \n",
       "waeschfra-1884-05-24-a-i0006       ...\n",
       "waeschfra-1884-07-05-a-i0017       ...\n",
       "Name: id, dtype: object\n",
       "Dask Name: sort_index, 794 tasks"
      ]
     },
     "execution_count": 26,
     "metadata": {},
     "output_type": "execute_result"
    }
   ],
   "source": [
    "mentions_df.index"
   ]
  },
  {
   "cell_type": "code",
   "execution_count": 17,
   "metadata": {},
   "outputs": [],
   "source": [
    "rebuilt_bucket = \"s3://canonical-rebuilt-release-evenized-light\"\n",
    "rebuilt_files = fixed_s3fs_glob(f\"{rebuilt_bucket}/*.bz2\")"
   ]
  },
  {
   "cell_type": "code",
   "execution_count": 56,
   "metadata": {},
   "outputs": [],
   "source": [
    "from random import shuffle"
   ]
  },
  {
   "cell_type": "code",
   "execution_count": 57,
   "metadata": {},
   "outputs": [],
   "source": [
    "shuffle(rebuilt_files)"
   ]
  },
  {
   "cell_type": "code",
   "execution_count": 58,
   "metadata": {},
   "outputs": [
    {
     "data": {
      "text/plain": [
       "['s3://canonical-rebuilt-release-evenized-light/1450.jsonl.bz2',\n",
       " 's3://canonical-rebuilt-release-evenized-light/0079.jsonl.bz2',\n",
       " 's3://canonical-rebuilt-release-evenized-light/0984.jsonl.bz2',\n",
       " 's3://canonical-rebuilt-release-evenized-light/0199.jsonl.bz2',\n",
       " 's3://canonical-rebuilt-release-evenized-light/0605.jsonl.bz2']"
      ]
     },
     "execution_count": 58,
     "metadata": {},
     "output_type": "execute_result"
    }
   ],
   "source": [
    "rebuilt_files[:5]"
   ]
  },
  {
   "cell_type": "code",
   "execution_count": 20,
   "metadata": {},
   "outputs": [],
   "source": [
    "# s3://evenized-light-canonical-rebuilt-pubrelease\n",
    "rebuilt_df = db.from_sequence(\n",
    "    rebuilt_files,\n",
    "    partition_size=2\n",
    ").map(\n",
    "    alternative_read_text,\n",
    "    IMPRESSO_STORAGEOPT\n",
    ").flatten().map(json.loads).to_dataframe().set_index('id').persist()"
   ]
  },
  {
   "cell_type": "code",
   "execution_count": 21,
   "metadata": {},
   "outputs": [
    {
     "data": {
      "text/plain": [
       "Dask Index Structure:\n",
       "npartitions=1099\n",
       "BDC-1839-01-20-a-i0001          object\n",
       "BLB-1846-09-12-a-i0004             ...\n",
       "                                 ...  \n",
       "waeschfra-1884-03-30-a-i0015       ...\n",
       "waeschfra-1884-07-05-a-i0021       ...\n",
       "Name: id, dtype: object\n",
       "Dask Name: sort_index, 2198 tasks"
      ]
     },
     "execution_count": 21,
     "metadata": {},
     "output_type": "execute_result"
    }
   ],
   "source": [
    "rebuilt_df.index"
   ]
  },
  {
   "cell_type": "code",
   "execution_count": 27,
   "metadata": {},
   "outputs": [],
   "source": [
    "merged_dfs = mentions_df.merge(rebuilt_df, left_index=True, right_index=True)"
   ]
  },
  {
   "cell_type": "code",
   "execution_count": 22,
   "metadata": {
    "collapsed": true
   },
   "outputs": [
    {
     "ename": "KeyboardInterrupt",
     "evalue": "",
     "output_type": "error",
     "traceback": [
      "\u001b[0;31m---------------------------------------------------------------------------\u001b[0m",
      "\u001b[0;31mKeyboardInterrupt\u001b[0m                         Traceback (most recent call last)",
      "\u001b[0;32m<ipython-input-22-467556ec3ecc>\u001b[0m in \u001b[0;36m<module>\u001b[0;34m\u001b[0m\n\u001b[0;32m----> 1\u001b[0;31m \u001b[0mmerged_dfs\u001b[0m\u001b[0;34m.\u001b[0m\u001b[0mhead\u001b[0m\u001b[0;34m(\u001b[0m\u001b[0;34m)\u001b[0m\u001b[0;34m\u001b[0m\u001b[0;34m\u001b[0m\u001b[0m\n\u001b[0m",
      "\u001b[0;32m~/.local/share/virtualenvs/impresso-ne-linking-3S6qaXXb/lib/python3.6/site-packages/dask/dataframe/core.py\u001b[0m in \u001b[0;36mhead\u001b[0;34m(self, n, npartitions, compute)\u001b[0m\n\u001b[1;32m    903\u001b[0m \u001b[0;34m\u001b[0m\u001b[0m\n\u001b[1;32m    904\u001b[0m         \u001b[0;32mif\u001b[0m \u001b[0mcompute\u001b[0m\u001b[0;34m:\u001b[0m\u001b[0;34m\u001b[0m\u001b[0;34m\u001b[0m\u001b[0m\n\u001b[0;32m--> 905\u001b[0;31m             \u001b[0mresult\u001b[0m \u001b[0;34m=\u001b[0m \u001b[0mresult\u001b[0m\u001b[0;34m.\u001b[0m\u001b[0mcompute\u001b[0m\u001b[0;34m(\u001b[0m\u001b[0;34m)\u001b[0m\u001b[0;34m\u001b[0m\u001b[0;34m\u001b[0m\u001b[0m\n\u001b[0m\u001b[1;32m    906\u001b[0m         \u001b[0;32mreturn\u001b[0m \u001b[0mresult\u001b[0m\u001b[0;34m\u001b[0m\u001b[0;34m\u001b[0m\u001b[0m\n\u001b[1;32m    907\u001b[0m \u001b[0;34m\u001b[0m\u001b[0m\n",
      "\u001b[0;32m~/.local/share/virtualenvs/impresso-ne-linking-3S6qaXXb/lib/python3.6/site-packages/dask/base.py\u001b[0m in \u001b[0;36mcompute\u001b[0;34m(self, **kwargs)\u001b[0m\n\u001b[1;32m    154\u001b[0m         \u001b[0mdask\u001b[0m\u001b[0;34m.\u001b[0m\u001b[0mbase\u001b[0m\u001b[0;34m.\u001b[0m\u001b[0mcompute\u001b[0m\u001b[0;34m\u001b[0m\u001b[0;34m\u001b[0m\u001b[0m\n\u001b[1;32m    155\u001b[0m         \"\"\"\n\u001b[0;32m--> 156\u001b[0;31m         \u001b[0;34m(\u001b[0m\u001b[0mresult\u001b[0m\u001b[0;34m,\u001b[0m\u001b[0;34m)\u001b[0m \u001b[0;34m=\u001b[0m \u001b[0mcompute\u001b[0m\u001b[0;34m(\u001b[0m\u001b[0mself\u001b[0m\u001b[0;34m,\u001b[0m \u001b[0mtraverse\u001b[0m\u001b[0;34m=\u001b[0m\u001b[0;32mFalse\u001b[0m\u001b[0;34m,\u001b[0m \u001b[0;34m**\u001b[0m\u001b[0mkwargs\u001b[0m\u001b[0;34m)\u001b[0m\u001b[0;34m\u001b[0m\u001b[0;34m\u001b[0m\u001b[0m\n\u001b[0m\u001b[1;32m    157\u001b[0m         \u001b[0;32mreturn\u001b[0m \u001b[0mresult\u001b[0m\u001b[0;34m\u001b[0m\u001b[0;34m\u001b[0m\u001b[0m\n\u001b[1;32m    158\u001b[0m \u001b[0;34m\u001b[0m\u001b[0m\n",
      "\u001b[0;32m~/.local/share/virtualenvs/impresso-ne-linking-3S6qaXXb/lib/python3.6/site-packages/dask/base.py\u001b[0m in \u001b[0;36mcompute\u001b[0;34m(*args, **kwargs)\u001b[0m\n\u001b[1;32m    396\u001b[0m     \u001b[0mkeys\u001b[0m \u001b[0;34m=\u001b[0m \u001b[0;34m[\u001b[0m\u001b[0mx\u001b[0m\u001b[0;34m.\u001b[0m\u001b[0m__dask_keys__\u001b[0m\u001b[0;34m(\u001b[0m\u001b[0;34m)\u001b[0m \u001b[0;32mfor\u001b[0m \u001b[0mx\u001b[0m \u001b[0;32min\u001b[0m \u001b[0mcollections\u001b[0m\u001b[0;34m]\u001b[0m\u001b[0;34m\u001b[0m\u001b[0;34m\u001b[0m\u001b[0m\n\u001b[1;32m    397\u001b[0m     \u001b[0mpostcomputes\u001b[0m \u001b[0;34m=\u001b[0m \u001b[0;34m[\u001b[0m\u001b[0mx\u001b[0m\u001b[0;34m.\u001b[0m\u001b[0m__dask_postcompute__\u001b[0m\u001b[0;34m(\u001b[0m\u001b[0;34m)\u001b[0m \u001b[0;32mfor\u001b[0m \u001b[0mx\u001b[0m \u001b[0;32min\u001b[0m \u001b[0mcollections\u001b[0m\u001b[0;34m]\u001b[0m\u001b[0;34m\u001b[0m\u001b[0;34m\u001b[0m\u001b[0m\n\u001b[0;32m--> 398\u001b[0;31m     \u001b[0mresults\u001b[0m \u001b[0;34m=\u001b[0m \u001b[0mschedule\u001b[0m\u001b[0;34m(\u001b[0m\u001b[0mdsk\u001b[0m\u001b[0;34m,\u001b[0m \u001b[0mkeys\u001b[0m\u001b[0;34m,\u001b[0m \u001b[0;34m**\u001b[0m\u001b[0mkwargs\u001b[0m\u001b[0;34m)\u001b[0m\u001b[0;34m\u001b[0m\u001b[0;34m\u001b[0m\u001b[0m\n\u001b[0m\u001b[1;32m    399\u001b[0m     \u001b[0;32mreturn\u001b[0m \u001b[0mrepack\u001b[0m\u001b[0;34m(\u001b[0m\u001b[0;34m[\u001b[0m\u001b[0mf\u001b[0m\u001b[0;34m(\u001b[0m\u001b[0mr\u001b[0m\u001b[0;34m,\u001b[0m \u001b[0;34m*\u001b[0m\u001b[0ma\u001b[0m\u001b[0;34m)\u001b[0m \u001b[0;32mfor\u001b[0m \u001b[0mr\u001b[0m\u001b[0;34m,\u001b[0m \u001b[0;34m(\u001b[0m\u001b[0mf\u001b[0m\u001b[0;34m,\u001b[0m \u001b[0ma\u001b[0m\u001b[0;34m)\u001b[0m \u001b[0;32min\u001b[0m \u001b[0mzip\u001b[0m\u001b[0;34m(\u001b[0m\u001b[0mresults\u001b[0m\u001b[0;34m,\u001b[0m \u001b[0mpostcomputes\u001b[0m\u001b[0;34m)\u001b[0m\u001b[0;34m]\u001b[0m\u001b[0;34m)\u001b[0m\u001b[0;34m\u001b[0m\u001b[0;34m\u001b[0m\u001b[0m\n\u001b[1;32m    400\u001b[0m \u001b[0;34m\u001b[0m\u001b[0m\n",
      "\u001b[0;32m~/.local/share/virtualenvs/impresso-ne-linking-3S6qaXXb/lib/python3.6/site-packages/distributed/client.py\u001b[0m in \u001b[0;36mget\u001b[0;34m(self, dsk, keys, restrictions, loose_restrictions, resources, sync, asynchronous, direct, retries, priority, fifo_timeout, actors, **kwargs)\u001b[0m\n\u001b[1;32m   2566\u001b[0m                     \u001b[0mshould_rejoin\u001b[0m \u001b[0;34m=\u001b[0m \u001b[0;32mFalse\u001b[0m\u001b[0;34m\u001b[0m\u001b[0;34m\u001b[0m\u001b[0m\n\u001b[1;32m   2567\u001b[0m             \u001b[0;32mtry\u001b[0m\u001b[0;34m:\u001b[0m\u001b[0;34m\u001b[0m\u001b[0;34m\u001b[0m\u001b[0m\n\u001b[0;32m-> 2568\u001b[0;31m                 \u001b[0mresults\u001b[0m \u001b[0;34m=\u001b[0m \u001b[0mself\u001b[0m\u001b[0;34m.\u001b[0m\u001b[0mgather\u001b[0m\u001b[0;34m(\u001b[0m\u001b[0mpacked\u001b[0m\u001b[0;34m,\u001b[0m \u001b[0masynchronous\u001b[0m\u001b[0;34m=\u001b[0m\u001b[0masynchronous\u001b[0m\u001b[0;34m,\u001b[0m \u001b[0mdirect\u001b[0m\u001b[0;34m=\u001b[0m\u001b[0mdirect\u001b[0m\u001b[0;34m)\u001b[0m\u001b[0;34m\u001b[0m\u001b[0;34m\u001b[0m\u001b[0m\n\u001b[0m\u001b[1;32m   2569\u001b[0m             \u001b[0;32mfinally\u001b[0m\u001b[0;34m:\u001b[0m\u001b[0;34m\u001b[0m\u001b[0;34m\u001b[0m\u001b[0m\n\u001b[1;32m   2570\u001b[0m                 \u001b[0;32mfor\u001b[0m \u001b[0mf\u001b[0m \u001b[0;32min\u001b[0m \u001b[0mfutures\u001b[0m\u001b[0;34m.\u001b[0m\u001b[0mvalues\u001b[0m\u001b[0;34m(\u001b[0m\u001b[0;34m)\u001b[0m\u001b[0;34m:\u001b[0m\u001b[0;34m\u001b[0m\u001b[0;34m\u001b[0m\u001b[0m\n",
      "\u001b[0;32m~/.local/share/virtualenvs/impresso-ne-linking-3S6qaXXb/lib/python3.6/site-packages/distributed/client.py\u001b[0m in \u001b[0;36mgather\u001b[0;34m(self, futures, errors, maxsize, direct, asynchronous)\u001b[0m\n\u001b[1;32m   1820\u001b[0m                 \u001b[0mdirect\u001b[0m\u001b[0;34m=\u001b[0m\u001b[0mdirect\u001b[0m\u001b[0;34m,\u001b[0m\u001b[0;34m\u001b[0m\u001b[0;34m\u001b[0m\u001b[0m\n\u001b[1;32m   1821\u001b[0m                 \u001b[0mlocal_worker\u001b[0m\u001b[0;34m=\u001b[0m\u001b[0mlocal_worker\u001b[0m\u001b[0;34m,\u001b[0m\u001b[0;34m\u001b[0m\u001b[0;34m\u001b[0m\u001b[0m\n\u001b[0;32m-> 1822\u001b[0;31m                 \u001b[0masynchronous\u001b[0m\u001b[0;34m=\u001b[0m\u001b[0masynchronous\u001b[0m\u001b[0;34m,\u001b[0m\u001b[0;34m\u001b[0m\u001b[0;34m\u001b[0m\u001b[0m\n\u001b[0m\u001b[1;32m   1823\u001b[0m             )\n\u001b[1;32m   1824\u001b[0m \u001b[0;34m\u001b[0m\u001b[0m\n",
      "\u001b[0;32m~/.local/share/virtualenvs/impresso-ne-linking-3S6qaXXb/lib/python3.6/site-packages/distributed/client.py\u001b[0m in \u001b[0;36msync\u001b[0;34m(self, func, *args, **kwargs)\u001b[0m\n\u001b[1;32m    751\u001b[0m             \u001b[0;32mreturn\u001b[0m \u001b[0mfuture\u001b[0m\u001b[0;34m\u001b[0m\u001b[0;34m\u001b[0m\u001b[0m\n\u001b[1;32m    752\u001b[0m         \u001b[0;32melse\u001b[0m\u001b[0;34m:\u001b[0m\u001b[0;34m\u001b[0m\u001b[0;34m\u001b[0m\u001b[0m\n\u001b[0;32m--> 753\u001b[0;31m             \u001b[0;32mreturn\u001b[0m \u001b[0msync\u001b[0m\u001b[0;34m(\u001b[0m\u001b[0mself\u001b[0m\u001b[0;34m.\u001b[0m\u001b[0mloop\u001b[0m\u001b[0;34m,\u001b[0m \u001b[0mfunc\u001b[0m\u001b[0;34m,\u001b[0m \u001b[0;34m*\u001b[0m\u001b[0margs\u001b[0m\u001b[0;34m,\u001b[0m \u001b[0;34m**\u001b[0m\u001b[0mkwargs\u001b[0m\u001b[0;34m)\u001b[0m\u001b[0;34m\u001b[0m\u001b[0;34m\u001b[0m\u001b[0m\n\u001b[0m\u001b[1;32m    754\u001b[0m \u001b[0;34m\u001b[0m\u001b[0m\n\u001b[1;32m    755\u001b[0m     \u001b[0;32mdef\u001b[0m \u001b[0m__repr__\u001b[0m\u001b[0;34m(\u001b[0m\u001b[0mself\u001b[0m\u001b[0;34m)\u001b[0m\u001b[0;34m:\u001b[0m\u001b[0;34m\u001b[0m\u001b[0;34m\u001b[0m\u001b[0m\n",
      "\u001b[0;32m~/.local/share/virtualenvs/impresso-ne-linking-3S6qaXXb/lib/python3.6/site-packages/distributed/utils.py\u001b[0m in \u001b[0;36msync\u001b[0;34m(loop, func, *args, **kwargs)\u001b[0m\n\u001b[1;32m    327\u001b[0m     \u001b[0;32melse\u001b[0m\u001b[0;34m:\u001b[0m\u001b[0;34m\u001b[0m\u001b[0;34m\u001b[0m\u001b[0m\n\u001b[1;32m    328\u001b[0m         \u001b[0;32mwhile\u001b[0m \u001b[0;32mnot\u001b[0m \u001b[0me\u001b[0m\u001b[0;34m.\u001b[0m\u001b[0mis_set\u001b[0m\u001b[0;34m(\u001b[0m\u001b[0;34m)\u001b[0m\u001b[0;34m:\u001b[0m\u001b[0;34m\u001b[0m\u001b[0;34m\u001b[0m\u001b[0m\n\u001b[0;32m--> 329\u001b[0;31m             \u001b[0me\u001b[0m\u001b[0;34m.\u001b[0m\u001b[0mwait\u001b[0m\u001b[0;34m(\u001b[0m\u001b[0;36m10\u001b[0m\u001b[0;34m)\u001b[0m\u001b[0;34m\u001b[0m\u001b[0;34m\u001b[0m\u001b[0m\n\u001b[0m\u001b[1;32m    330\u001b[0m     \u001b[0;32mif\u001b[0m \u001b[0merror\u001b[0m\u001b[0;34m[\u001b[0m\u001b[0;36m0\u001b[0m\u001b[0;34m]\u001b[0m\u001b[0;34m:\u001b[0m\u001b[0;34m\u001b[0m\u001b[0;34m\u001b[0m\u001b[0m\n\u001b[1;32m    331\u001b[0m         \u001b[0msix\u001b[0m\u001b[0;34m.\u001b[0m\u001b[0mreraise\u001b[0m\u001b[0;34m(\u001b[0m\u001b[0;34m*\u001b[0m\u001b[0merror\u001b[0m\u001b[0;34m[\u001b[0m\u001b[0;36m0\u001b[0m\u001b[0;34m]\u001b[0m\u001b[0;34m)\u001b[0m\u001b[0;34m\u001b[0m\u001b[0;34m\u001b[0m\u001b[0m\n",
      "\u001b[0;32m~/.pyenv/versions/3.6.7/lib/python3.6/threading.py\u001b[0m in \u001b[0;36mwait\u001b[0;34m(self, timeout)\u001b[0m\n\u001b[1;32m    549\u001b[0m             \u001b[0msignaled\u001b[0m \u001b[0;34m=\u001b[0m \u001b[0mself\u001b[0m\u001b[0;34m.\u001b[0m\u001b[0m_flag\u001b[0m\u001b[0;34m\u001b[0m\u001b[0;34m\u001b[0m\u001b[0m\n\u001b[1;32m    550\u001b[0m             \u001b[0;32mif\u001b[0m \u001b[0;32mnot\u001b[0m \u001b[0msignaled\u001b[0m\u001b[0;34m:\u001b[0m\u001b[0;34m\u001b[0m\u001b[0;34m\u001b[0m\u001b[0m\n\u001b[0;32m--> 551\u001b[0;31m                 \u001b[0msignaled\u001b[0m \u001b[0;34m=\u001b[0m \u001b[0mself\u001b[0m\u001b[0;34m.\u001b[0m\u001b[0m_cond\u001b[0m\u001b[0;34m.\u001b[0m\u001b[0mwait\u001b[0m\u001b[0;34m(\u001b[0m\u001b[0mtimeout\u001b[0m\u001b[0;34m)\u001b[0m\u001b[0;34m\u001b[0m\u001b[0;34m\u001b[0m\u001b[0m\n\u001b[0m\u001b[1;32m    552\u001b[0m             \u001b[0;32mreturn\u001b[0m \u001b[0msignaled\u001b[0m\u001b[0;34m\u001b[0m\u001b[0;34m\u001b[0m\u001b[0m\n\u001b[1;32m    553\u001b[0m \u001b[0;34m\u001b[0m\u001b[0m\n",
      "\u001b[0;32m~/.pyenv/versions/3.6.7/lib/python3.6/threading.py\u001b[0m in \u001b[0;36mwait\u001b[0;34m(self, timeout)\u001b[0m\n\u001b[1;32m    297\u001b[0m             \u001b[0;32melse\u001b[0m\u001b[0;34m:\u001b[0m\u001b[0;34m\u001b[0m\u001b[0;34m\u001b[0m\u001b[0m\n\u001b[1;32m    298\u001b[0m                 \u001b[0;32mif\u001b[0m \u001b[0mtimeout\u001b[0m \u001b[0;34m>\u001b[0m \u001b[0;36m0\u001b[0m\u001b[0;34m:\u001b[0m\u001b[0;34m\u001b[0m\u001b[0;34m\u001b[0m\u001b[0m\n\u001b[0;32m--> 299\u001b[0;31m                     \u001b[0mgotit\u001b[0m \u001b[0;34m=\u001b[0m \u001b[0mwaiter\u001b[0m\u001b[0;34m.\u001b[0m\u001b[0macquire\u001b[0m\u001b[0;34m(\u001b[0m\u001b[0;32mTrue\u001b[0m\u001b[0;34m,\u001b[0m \u001b[0mtimeout\u001b[0m\u001b[0;34m)\u001b[0m\u001b[0;34m\u001b[0m\u001b[0;34m\u001b[0m\u001b[0m\n\u001b[0m\u001b[1;32m    300\u001b[0m                 \u001b[0;32melse\u001b[0m\u001b[0;34m:\u001b[0m\u001b[0;34m\u001b[0m\u001b[0;34m\u001b[0m\u001b[0m\n\u001b[1;32m    301\u001b[0m                     \u001b[0mgotit\u001b[0m \u001b[0;34m=\u001b[0m \u001b[0mwaiter\u001b[0m\u001b[0;34m.\u001b[0m\u001b[0macquire\u001b[0m\u001b[0;34m(\u001b[0m\u001b[0;32mFalse\u001b[0m\u001b[0;34m)\u001b[0m\u001b[0;34m\u001b[0m\u001b[0;34m\u001b[0m\u001b[0m\n",
      "\u001b[0;31mKeyboardInterrupt\u001b[0m: "
     ]
    }
   ],
   "source": [
    "merged_dfs.head()"
   ]
  },
  {
   "cell_type": "code",
   "execution_count": 28,
   "metadata": {},
   "outputs": [],
   "source": [
    "merged_bag = merged_dfs[['ft', 'nes', 'sys_id']].to_bag(index=True)"
   ]
  },
  {
   "cell_type": "code",
   "execution_count": 29,
   "metadata": {},
   "outputs": [],
   "source": [
    "dask_client.cancel(merged_bag)"
   ]
  },
  {
   "cell_type": "code",
   "execution_count": 29,
   "metadata": {
    "code_folding": [
     0
    ]
   },
   "outputs": [],
   "source": [
    "def prepare_input(ci_id, fulltext, mentions, system_id):\n",
    "    start = 0\n",
    "    prepared_input = \"\"\n",
    "    \n",
    "    for mention in mentions:\n",
    "        \n",
    "        if isinstance(fulltext, float):\n",
    "            continue\n",
    "        \n",
    "        if isinstance(mention, float):\n",
    "            continue\n",
    "        \n",
    "        prepared_input += fulltext[start:mention['lOffset']]\n",
    "        prepared_input += f\"[[{fulltext[mention['lOffset']:mention['rOffset']]}]]\"\n",
    "        start = mention['rOffset']\n",
    "    return {\n",
    "        \"id\": ci_id,\n",
    "        \"ft\": fulltext,\n",
    "        \"input\": prepared_input,\n",
    "        \"nes\": mentions,\n",
    "        \"sys_id\": system_id\n",
    "    }\n",
    "        "
   ]
  },
  {
   "cell_type": "code",
   "execution_count": null,
   "metadata": {},
   "outputs": [],
   "source": [
    "prepared_input = merged_bag.starmap(prepare_input).map(json.dumps).to_textfiles(\n",
    "    f\"s3://processed-canonical-data/entities/v01/aida-input/*.bz2\",\n",
    "    storage_options=IMPRESSO_STORAGEOPT\n",
    ")"
   ]
  },
  {
   "cell_type": "code",
   "execution_count": 30,
   "metadata": {},
   "outputs": [],
   "source": [
    "prepared_input = merged_bag.starmap(prepare_input).map(json.dumps).to_textfiles(\n",
    "    f\"/scratch/*.bz2\"\n",
    ")"
   ]
  },
  {
   "cell_type": "code",
   "execution_count": 30,
   "metadata": {},
   "outputs": [
    {
     "data": {
      "text/plain": [
       "3198"
      ]
     },
     "execution_count": 30,
     "metadata": {},
     "output_type": "execute_result"
    }
   ],
   "source": [
    "len(prepared_input)"
   ]
  },
  {
   "cell_type": "code",
   "execution_count": 32,
   "metadata": {},
   "outputs": [],
   "source": [
    "cluster.close()"
   ]
  },
  {
   "cell_type": "markdown",
   "metadata": {},
   "source": [
    "## try disambiguating"
   ]
  },
  {
   "cell_type": "markdown",
   "metadata": {},
   "source": [
    "**NB**: `findExtractedMentions()` doesn't seem to work when the character preceding a mention is an apostrophe (e.g. l'[[Egypte]])."
   ]
  },
  {
   "cell_type": "code",
   "execution_count": 118,
   "metadata": {},
   "outputs": [],
   "source": [
    "from py4j.java_gateway import JavaGateway, GatewayParameters\n",
    "gateway = JavaGateway()\n",
    "\n",
    "aida_server = gateway.entry_point.getAida()"
   ]
  },
  {
   "cell_type": "code",
   "execution_count": 214,
   "metadata": {},
   "outputs": [],
   "source": [
    "x = prepared_input.take(21, npartitions=100)[-1]"
   ]
  },
  {
   "cell_type": "code",
   "execution_count": 215,
   "metadata": {},
   "outputs": [],
   "source": [
    "test_sentence = x['input']"
   ]
  },
  {
   "cell_type": "code",
   "execution_count": 216,
   "metadata": {},
   "outputs": [
    {
     "data": {
      "text/plain": [
       "\"RÉPUBLIQUE [[SUISSE]]. De St. Gall, le 28 juillet. L'on recommence de nouveau, d'après le système ifincamération trichienne-, à procéder contre toutes les propriétés helvétiques situées de l'autre côté du Rhin, & déjà les possessions des communes du Rheinthal, qui sont d'une valeur très-considérable, viennent d'être séquestrées. De Berne, le 29 juillet. Parmi le grand nombre de voyageurs de marque qui ont passé ici, l'on distingue le général Sebastiani, connu par son rapport sur l'[[Egypte]]. Il n'a fait qu'un très-petit séjour dans notre ville, qu'il a en majeure partie . passé chez son excellence le ministre français. Il y a eu en outre plusieurs suédois, danois & allemands, qui tous sont allés voir l'institut de Pestalozzi, à Bouchsée. — Dans la séance de la diète du 14, à l'occasion de la discussion sur les troubles du canton de [[Zurich]], la proposition de faire une loi organique en explication du 20. art. de fafte de médiation, a été mise à l'ordre du jour. Cet article est de la teneur suivante : •, 5 En cas de révolte dans l'intérieur d'un canton, ou de tout autre besoin pressant, le landaman fait marcher des troupes d'un canton à l'autre, mais seulement sur la demande du grand ou du petit conseil du canton qui réclame des secours, & après avoir pris l'avis du petit-conseil du canton directeur, sauf à convoquer la diète après la répression des hostilités, ou si le danger continue ,,. — Mais comme il n'a pas été question de cet objet dans la compétence du. landamman, presque toutes les députations, à l'exception de celles des nouveaux cantons, se trouvaient sans instructions. Les députés d'Uri, d'Unterwalden, [[Fribourg]]\""
      ]
     },
     "execution_count": 216,
     "metadata": {},
     "output_type": "execute_result"
    }
   ],
   "source": [
    "x['input']"
   ]
  },
  {
   "cell_type": "code",
   "execution_count": 217,
   "metadata": {},
   "outputs": [],
   "source": [
    "mentions = gateway.entry_point.findExtractedMentions(test_sentence)\n",
    "annotations = aida_server.disambiguate(test_sentence, mentions, \"fullSettings\")"
   ]
  },
  {
   "cell_type": "code",
   "execution_count": 218,
   "metadata": {},
   "outputs": [
    {
     "name": "stdout",
     "output_type": "stream",
     "text": [
      "Zurich http://en.wikipedia.org/wiki/Zürich\n",
      "SUISSE http://en.wikipedia.org/wiki/Suisse,_Moselle\n",
      "Fribourg http://en.wikipedia.org/wiki/Fribourg\n"
     ]
    }
   ],
   "source": [
    "for mention in annotations.keySet():\n",
    "    wikipedia_entity_id = f\"http://en.wikipedia.org/wiki/{annotations.get(mention).getName()}\"\n",
    "    print(mention.getMention(), wikipedia_entity_id)"
   ]
  },
  {
   "cell_type": "code",
   "execution_count": 166,
   "metadata": {},
   "outputs": [
    {
     "data": {
      "text/plain": [
       "4990"
      ]
     },
     "execution_count": 166,
     "metadata": {},
     "output_type": "execute_result"
    }
   ],
   "source": [
    "prepared_input.count().compute()"
   ]
  },
  {
   "cell_type": "code",
   "execution_count": 220,
   "metadata": {},
   "outputs": [],
   "source": [
    "cluster.close()"
   ]
  },
  {
   "cell_type": "markdown",
   "metadata": {},
   "source": [
    "## Disambiguation test"
   ]
  },
  {
   "cell_type": "code",
   "execution_count": 5,
   "metadata": {},
   "outputs": [],
   "source": [
    "from dask.distributed import Client, progress\n",
    "from py4j.java_gateway import JavaGateway\n",
    "from time import strftime"
   ]
  },
  {
   "cell_type": "code",
   "execution_count": 6,
   "metadata": {},
   "outputs": [],
   "source": [
    "dask_client = Client()"
   ]
  },
  {
   "cell_type": "code",
   "execution_count": 7,
   "metadata": {},
   "outputs": [
    {
     "data": {
      "text/html": [
       "<table style=\"border: 2px solid white;\">\n",
       "<tr>\n",
       "<td style=\"vertical-align: top; border: 0px solid white\">\n",
       "<h3>Client</h3>\n",
       "<ul>\n",
       "  <li><b>Scheduler: </b>tcp://127.0.0.1:36657\n",
       "</ul>\n",
       "</td>\n",
       "<td style=\"vertical-align: top; border: 0px solid white\">\n",
       "<h3>Cluster</h3>\n",
       "<ul>\n",
       "  <li><b>Workers: </b>4</li>\n",
       "  <li><b>Cores: </b>8</li>\n",
       "  <li><b>Memory: </b>33.65 GB</li>\n",
       "</ul>\n",
       "</td>\n",
       "</tr>\n",
       "</table>"
      ],
      "text/plain": [
       "<Client: scheduler='tcp://127.0.0.1:36657' processes=4 cores=8>"
      ]
     },
     "execution_count": 7,
     "metadata": {},
     "output_type": "execute_result"
    }
   ],
   "source": [
    "dask_client"
   ]
  },
  {
   "cell_type": "code",
   "execution_count": 17,
   "metadata": {},
   "outputs": [],
   "source": [
    "gateway = JavaGateway()"
   ]
  },
  {
   "cell_type": "code",
   "execution_count": 115,
   "metadata": {
    "code_folding": []
   },
   "outputs": [],
   "source": [
    "def aida_disambiguate_documents(documents, gateway_port):\n",
    "\n",
    "    # do py4j business\n",
    "    gateway = JavaGateway(\n",
    "        gateway_parameters=GatewayParameters(port=gateway_port)\n",
    "    )\n",
    "    aida_server = gateway.entry_point.getAida()\n",
    "\n",
    "    output = []\n",
    "\n",
    "    for document in documents:\n",
    "\n",
    "        prepared_input = document['input']\n",
    "        mentions = gateway.entry_point.findExtractedMentions(prepared_input)\n",
    "        annotations = aida_server.disambiguate(\n",
    "            prepared_input,\n",
    "            mentions,\n",
    "            \"fullSettings\"\n",
    "        )\n",
    "\n",
    "        output_doc = {\n",
    "            \"id\": document['id'],\n",
    "            \"sys_id\": \"aidalight-fullSettings\",\n",
    "            \"cdt\": strftime(\"%Y-%m-%d %H:%M:%S\")\n",
    "        }\n",
    "        linked_entities = []\n",
    "\n",
    "        annotations = [\n",
    "            {\n",
    "                \"surface\": ann.getMention(),\n",
    "                \"entity_id\": annotations.get(ann).getName(),\n",
    "                \"normalized_name\": annotations.get(ann).getNMEnormalizedName(),\n",
    "                \"char_offset\": ann.getCharOffset(),\n",
    "                \"mention_entity_similarity\": annotations.get(ann).getMentionEntitySimilarity()\n",
    "            }\n",
    "            for ann in annotations.keySet()\n",
    "        ]\n",
    "\n",
    "        for mention in document['nes']:\n",
    "\n",
    "            # since some character offsets are broken we rely\n",
    "            # on the surface to realign mention and disambiguations\n",
    "            matching_entity = [\n",
    "                annotation\n",
    "                for annotation in annotations\n",
    "                if annotation['surface'] == mention['surface']\n",
    "            ]\n",
    "\n",
    "            if len(matching_entity) == 0:\n",
    "                continue\n",
    "            else:\n",
    "                matching_entity = matching_entity[0]\n",
    "\n",
    "            # import ipdb; ipdb.set_trace()\n",
    "\n",
    "            entity_id = matching_entity['entity_id']\n",
    "            linked_entities.append(\n",
    "                {\n",
    "                    \"mention_id\": mention['id'],\n",
    "                    \"surface\": mention['surface'],\n",
    "                    \"entity_id\": entity_id,\n",
    "                    \"entity_link\": f\"http://en.wikipedia.org/wiki/{entity_id}\",\n",
    "                    \"normalized_name\": matching_entity['normalized_name'],\n",
    "                    \"mention_entity_similarity\": matching_entity[\"mention_entity_similarity\"]\n",
    "                }\n",
    "            )\n",
    "        output_doc['ne_links'] = linked_entities\n",
    "        output.append(output_doc)\n",
    "\n",
    "    return output"
   ]
  },
  {
   "cell_type": "code",
   "execution_count": 66,
   "metadata": {},
   "outputs": [],
   "source": [
    "!s3cmd ls s3://processed-canonical-data/entities/aida-output/"
   ]
  },
  {
   "cell_type": "code",
   "execution_count": 11,
   "metadata": {},
   "outputs": [],
   "source": [
    "aida_input_files = fixed_s3fs_glob(\"s3://processed-canonical-data/entities/aida-input/000*.bz2\")"
   ]
  },
  {
   "cell_type": "code",
   "execution_count": 12,
   "metadata": {},
   "outputs": [
    {
     "data": {
      "text/plain": [
       "['s3://processed-canonical-data/entities/aida-input/0000.bz2',\n",
       " 's3://processed-canonical-data/entities/aida-input/0001.bz2',\n",
       " 's3://processed-canonical-data/entities/aida-input/0002.bz2',\n",
       " 's3://processed-canonical-data/entities/aida-input/0003.bz2',\n",
       " 's3://processed-canonical-data/entities/aida-input/0004.bz2',\n",
       " 's3://processed-canonical-data/entities/aida-input/0005.bz2',\n",
       " 's3://processed-canonical-data/entities/aida-input/0006.bz2',\n",
       " 's3://processed-canonical-data/entities/aida-input/0007.bz2',\n",
       " 's3://processed-canonical-data/entities/aida-input/0008.bz2',\n",
       " 's3://processed-canonical-data/entities/aida-input/0009.bz2']"
      ]
     },
     "execution_count": 12,
     "metadata": {},
     "output_type": "execute_result"
    }
   ],
   "source": [
    "aida_input_files"
   ]
  },
  {
   "cell_type": "code",
   "execution_count": 13,
   "metadata": {},
   "outputs": [
    {
     "data": {
      "text/plain": [
       "10"
      ]
     },
     "execution_count": 13,
     "metadata": {},
     "output_type": "execute_result"
    }
   ],
   "source": [
    "len(aida_input_files)"
   ]
  },
  {
   "cell_type": "code",
   "execution_count": 19,
   "metadata": {},
   "outputs": [],
   "source": [
    "aida_input_bag = db.read_text(\n",
    "    aida_input_files,\n",
    "    storage_options=IMPRESSO_STORAGEOPT\n",
    ").map(json.loads).persist()"
   ]
  },
  {
   "cell_type": "code",
   "execution_count": 29,
   "metadata": {},
   "outputs": [],
   "source": [
    "test = aida_input_bag.take(10)"
   ]
  },
  {
   "cell_type": "code",
   "execution_count": 31,
   "metadata": {
    "collapsed": true
   },
   "outputs": [
    {
     "data": {
      "text/plain": [
       "[{'id': 'BDC-1839-01-20-a-i0001',\n",
       "  'sys_id': 'aidalight-fullSettings',\n",
       "  'cdt': '2019-06-20 18:12:12',\n",
       "  'ne_links': [{'mention_id': 'BDC-1839-01-20-a-i0001:0:9:person:nerb-0001',\n",
       "    'surface': 'AVIS Dans',\n",
       "    'entity_id': '--NME--',\n",
       "    'entity_link': 'http://en.wikipedia.org/wiki/--NME--',\n",
       "    'normalized_name': '--NME--',\n",
       "    'mention_entity_similarity': -1.0},\n",
       "   {'mention_id': 'BDC-1839-01-20-a-i0001:1438:1444:location:nerb-0001',\n",
       "    'surface': 'Suisse',\n",
       "    'entity_id': 'Suisse,_Moselle',\n",
       "    'entity_link': 'http://en.wikipedia.org/wiki/Suisse,_Moselle',\n",
       "    'normalized_name': 'Suisse,_Moselle',\n",
       "    'mention_entity_similarity': -1.0}]},\n",
       " {'id': 'BDC-1839-01-20-a-i0002',\n",
       "  'sys_id': 'aidalight-fullSettings',\n",
       "  'cdt': '2019-06-20 18:12:12',\n",
       "  'ne_links': [{'mention_id': 'BDC-1839-01-20-a-i0002:2691:2698:location:nerb-0001',\n",
       "    'surface': 'Maurice',\n",
       "    'entity_id': 'Maurice_Cox',\n",
       "    'entity_link': 'http://en.wikipedia.org/wiki/Maurice_Cox',\n",
       "    'normalized_name': 'Maurice_Cox',\n",
       "    'mention_entity_similarity': -1.0},\n",
       "   {'mention_id': 'BDC-1839-01-20-a-i0002:0:4:location:nerb-0001',\n",
       "    'surface': 'Sion',\n",
       "    'entity_id': 'FC_Sion',\n",
       "    'entity_link': 'http://en.wikipedia.org/wiki/FC_Sion',\n",
       "    'normalized_name': 'FC_Sion',\n",
       "    'mention_entity_similarity': -1.0},\n",
       "   {'mention_id': 'BDC-1839-01-20-a-i0002:2666:2674:location:nerb-0001',\n",
       "    'surface': 'Martigny',\n",
       "    'entity_id': 'Martigny',\n",
       "    'entity_link': 'http://en.wikipedia.org/wiki/Martigny',\n",
       "    'normalized_name': 'Martigny',\n",
       "    'mention_entity_similarity': -1.0},\n",
       "   {'mention_id': 'BDC-1839-01-20-a-i0002:2702:2709:location:nerb-0001',\n",
       "    'surface': 'Monthey',\n",
       "    'entity_id': 'Monthey',\n",
       "    'entity_link': 'http://en.wikipedia.org/wiki/Monthey',\n",
       "    'normalized_name': 'Monthey',\n",
       "    'mention_entity_similarity': -1.0}]},\n",
       " {'id': 'BDC-1839-01-20-a-i0003',\n",
       "  'sys_id': 'aidalight-fullSettings',\n",
       "  'cdt': '2019-06-20 18:12:12',\n",
       "  'ne_links': []},\n",
       " {'id': 'BDC-1839-01-20-a-i0004',\n",
       "  'sys_id': 'aidalight-fullSettings',\n",
       "  'cdt': '2019-06-20 18:12:12',\n",
       "  'ne_links': [{'mention_id': 'BDC-1839-01-20-a-i0004:159:165:location:nerb-0001',\n",
       "    'surface': 'Suisse',\n",
       "    'entity_id': 'Suisse,_Moselle',\n",
       "    'entity_link': 'http://en.wikipedia.org/wiki/Suisse,_Moselle',\n",
       "    'normalized_name': 'Suisse,_Moselle',\n",
       "    'mention_entity_similarity': -1.0},\n",
       "   {'mention_id': 'BDC-1839-01-20-a-i0004:1715:1725:location:nerb-0001',\n",
       "    'surface': 'Providence',\n",
       "    'entity_id': 'Providence,_Rhode_Island',\n",
       "    'entity_link': 'http://en.wikipedia.org/wiki/Providence,_Rhode_Island',\n",
       "    'normalized_name': 'Providence,_Rhode_Island',\n",
       "    'mention_entity_similarity': -1.0}]},\n",
       " {'id': 'BDC-1839-01-20-a-i0005',\n",
       "  'sys_id': 'aidalight-fullSettings',\n",
       "  'cdt': '2019-06-20 18:12:12',\n",
       "  'ne_links': [{'mention_id': 'BDC-1839-01-20-a-i0005:63:67:location:nerb-0001',\n",
       "    'surface': 'Sion',\n",
       "    'entity_id': 'FC_Sion',\n",
       "    'entity_link': 'http://en.wikipedia.org/wiki/FC_Sion',\n",
       "    'normalized_name': 'FC_Sion',\n",
       "    'mention_entity_similarity': -1.0}]},\n",
       " {'id': 'BDC-1839-01-20-a-i0006',\n",
       "  'sys_id': 'aidalight-fullSettings',\n",
       "  'cdt': '2019-06-20 18:12:12',\n",
       "  'ne_links': []},\n",
       " {'id': 'BDC-1839-01-20-a-i0007',\n",
       "  'sys_id': 'aidalight-fullSettings',\n",
       "  'cdt': '2019-06-20 18:12:12',\n",
       "  'ne_links': [{'mention_id': 'BDC-1839-01-20-a-i0007:73:79:location:nerb-0001',\n",
       "    'surface': 'Canton',\n",
       "    'entity_id': 'Cantons_of_Switzerland',\n",
       "    'entity_link': 'http://en.wikipedia.org/wiki/Cantons_of_Switzerland',\n",
       "    'normalized_name': 'Cantons_of_Switzerland',\n",
       "    'mention_entity_similarity': -1.0}]},\n",
       " {'id': 'BDC-1839-01-20-a-i0008',\n",
       "  'sys_id': 'aidalight-fullSettings',\n",
       "  'cdt': '2019-06-20 18:12:12',\n",
       "  'ne_links': [{'mention_id': 'BDC-1839-01-20-a-i0008:366:372:location:nerb-0001',\n",
       "    'surface': 'Canton',\n",
       "    'entity_id': 'Cantons_of_Switzerland',\n",
       "    'entity_link': 'http://en.wikipedia.org/wiki/Cantons_of_Switzerland',\n",
       "    'normalized_name': 'Cantons_of_Switzerland',\n",
       "    'mention_entity_similarity': -1.0}]},\n",
       " {'id': 'BDC-1839-01-20-a-i0009',\n",
       "  'sys_id': 'aidalight-fullSettings',\n",
       "  'cdt': '2019-06-20 18:12:12',\n",
       "  'ne_links': []},\n",
       " {'id': 'BDC-1839-01-20-a-i0011',\n",
       "  'sys_id': 'aidalight-fullSettings',\n",
       "  'cdt': '2019-06-20 18:12:12',\n",
       "  'ne_links': [{'mention_id': 'BDC-1839-01-20-a-i0011:15:40:person:nerb-0001',\n",
       "    'surface': 'JOSEPH CALPINI-ALBERTAZZU',\n",
       "    'entity_id': '--NME--',\n",
       "    'entity_link': 'http://en.wikipedia.org/wiki/--NME--',\n",
       "    'normalized_name': '--NME--',\n",
       "    'mention_entity_similarity': -1.0}]}]"
      ]
     },
     "execution_count": 31,
     "metadata": {},
     "output_type": "execute_result"
    }
   ],
   "source": [
    "aida_disambiguate_documents(test, gateway)"
   ]
  },
  {
   "cell_type": "code",
   "execution_count": 32,
   "metadata": {},
   "outputs": [],
   "source": [
    "local_input_dir = \"/media/romanell/4T/matteo/impresso-entities/aida-input/\"\n",
    "local_output_dir = \"/media/romanell/4T/matteo/impresso-entities/aida-output/\""
   ]
  },
  {
   "cell_type": "code",
   "execution_count": 62,
   "metadata": {},
   "outputs": [],
   "source": [
    "range_start = 0\n",
    "range_end = 1000"
   ]
  },
  {
   "cell_type": "code",
   "execution_count": 66,
   "metadata": {},
   "outputs": [],
   "source": [
    "aida_input_files = [\n",
    "    os.path.join(local_input_dir, file)\n",
    "    for file in os.listdir(local_input_dir)\n",
    "    if int(file.replace(\".bz2\", \"\")) >= range_start and int(file.replace(\".bz2\", \"\")) < range_end\n",
    "]"
   ]
  },
  {
   "cell_type": "code",
   "execution_count": 67,
   "metadata": {},
   "outputs": [],
   "source": [
    "aida_output_files = [\n",
    "    file.replace('aida-input', 'aida-output')\n",
    "    for file in aida_input_files\n",
    "]"
   ]
  },
  {
   "cell_type": "code",
   "execution_count": 68,
   "metadata": {},
   "outputs": [
    {
     "data": {
      "text/plain": [
       "1000"
      ]
     },
     "execution_count": 68,
     "metadata": {},
     "output_type": "execute_result"
    }
   ],
   "source": [
    "len(aida_input_files)"
   ]
  },
  {
   "cell_type": "code",
   "execution_count": 69,
   "metadata": {},
   "outputs": [
    {
     "data": {
      "text/plain": [
       "['/media/romanell/4T/matteo/impresso-entities/aida-input/0013.bz2',\n",
       " '/media/romanell/4T/matteo/impresso-entities/aida-input/0128.bz2',\n",
       " '/media/romanell/4T/matteo/impresso-entities/aida-input/0973.bz2',\n",
       " '/media/romanell/4T/matteo/impresso-entities/aida-input/0058.bz2',\n",
       " '/media/romanell/4T/matteo/impresso-entities/aida-input/0095.bz2',\n",
       " '/media/romanell/4T/matteo/impresso-entities/aida-input/0601.bz2',\n",
       " '/media/romanell/4T/matteo/impresso-entities/aida-input/0099.bz2',\n",
       " '/media/romanell/4T/matteo/impresso-entities/aida-input/0433.bz2',\n",
       " '/media/romanell/4T/matteo/impresso-entities/aida-input/0721.bz2',\n",
       " '/media/romanell/4T/matteo/impresso-entities/aida-input/0756.bz2']"
      ]
     },
     "execution_count": 69,
     "metadata": {},
     "output_type": "execute_result"
    }
   ],
   "source": [
    "aida_input_files[:10]"
   ]
  },
  {
   "cell_type": "code",
   "execution_count": 71,
   "metadata": {},
   "outputs": [
    {
     "data": {
      "text/plain": [
       "['/media/romanell/4T/matteo/impresso-entities/aida-output/0013.bz2',\n",
       " '/media/romanell/4T/matteo/impresso-entities/aida-output/0128.bz2',\n",
       " '/media/romanell/4T/matteo/impresso-entities/aida-output/0973.bz2',\n",
       " '/media/romanell/4T/matteo/impresso-entities/aida-output/0058.bz2',\n",
       " '/media/romanell/4T/matteo/impresso-entities/aida-output/0095.bz2',\n",
       " '/media/romanell/4T/matteo/impresso-entities/aida-output/0601.bz2',\n",
       " '/media/romanell/4T/matteo/impresso-entities/aida-output/0099.bz2',\n",
       " '/media/romanell/4T/matteo/impresso-entities/aida-output/0433.bz2',\n",
       " '/media/romanell/4T/matteo/impresso-entities/aida-output/0721.bz2',\n",
       " '/media/romanell/4T/matteo/impresso-entities/aida-output/0756.bz2']"
      ]
     },
     "execution_count": 71,
     "metadata": {},
     "output_type": "execute_result"
    }
   ],
   "source": [
    "aida_output_files[:10]"
   ]
  },
  {
   "cell_type": "code",
   "execution_count": 72,
   "metadata": {
    "collapsed": true
   },
   "outputs": [
    {
     "ename": "KeyboardInterrupt",
     "evalue": "",
     "output_type": "error",
     "traceback": [
      "\u001b[0;31m---------------------------------------------------------------------------\u001b[0m",
      "\u001b[0;31mKeyboardInterrupt\u001b[0m                         Traceback (most recent call last)",
      "\u001b[0;32m<ipython-input-72-eb575143f357>\u001b[0m in \u001b[0;36m<module>\u001b[0;34m\u001b[0m\n\u001b[1;32m      6\u001b[0m \u001b[0;34m.\u001b[0m\u001b[0mmap\u001b[0m\u001b[0;34m(\u001b[0m\u001b[0mjson\u001b[0m\u001b[0;34m.\u001b[0m\u001b[0mdumps\u001b[0m\u001b[0;34m)\u001b[0m\u001b[0;31m\\\u001b[0m\u001b[0;34m\u001b[0m\u001b[0;34m\u001b[0m\u001b[0m\n\u001b[1;32m      7\u001b[0m .to_textfiles(\n\u001b[0;32m----> 8\u001b[0;31m     \u001b[0maida_output_files\u001b[0m\u001b[0;34m\u001b[0m\u001b[0;34m\u001b[0m\u001b[0m\n\u001b[0m\u001b[1;32m      9\u001b[0m     \u001b[0;31m# storage_options=IMPRESSO_STORAGEOPT\u001b[0m\u001b[0;34m\u001b[0m\u001b[0;34m\u001b[0m\u001b[0;34m\u001b[0m\u001b[0m\n\u001b[1;32m     10\u001b[0m )\n",
      "\u001b[0;32m~/.local/share/virtualenvs/impresso-ne-linking-3S6qaXXb/lib/python3.6/site-packages/dask/bag/core.py\u001b[0m in \u001b[0;36mto_textfiles\u001b[0;34m(self, path, name_function, compression, encoding, compute, storage_options, last_endline, **kwargs)\u001b[0m\n\u001b[1;32m    718\u001b[0m         return to_textfiles(self, path, name_function, compression, encoding,\n\u001b[1;32m    719\u001b[0m                             \u001b[0mcompute\u001b[0m\u001b[0;34m,\u001b[0m \u001b[0mstorage_options\u001b[0m\u001b[0;34m=\u001b[0m\u001b[0mstorage_options\u001b[0m\u001b[0;34m,\u001b[0m\u001b[0;34m\u001b[0m\u001b[0;34m\u001b[0m\u001b[0m\n\u001b[0;32m--> 720\u001b[0;31m                             last_endline=last_endline, **kwargs)\n\u001b[0m\u001b[1;32m    721\u001b[0m \u001b[0;34m\u001b[0m\u001b[0m\n\u001b[1;32m    722\u001b[0m     \u001b[0;34m@\u001b[0m\u001b[0mwraps\u001b[0m\u001b[0;34m(\u001b[0m\u001b[0mto_avro\u001b[0m\u001b[0;34m)\u001b[0m\u001b[0;34m\u001b[0m\u001b[0;34m\u001b[0m\u001b[0m\n",
      "\u001b[0;32m~/.local/share/virtualenvs/impresso-ne-linking-3S6qaXXb/lib/python3.6/site-packages/dask/bag/core.py\u001b[0m in \u001b[0;36mto_textfiles\u001b[0;34m(b, path, name_function, compression, encoding, compute, storage_options, last_endline, **kwargs)\u001b[0m\n\u001b[1;32m    211\u001b[0m \u001b[0;34m\u001b[0m\u001b[0m\n\u001b[1;32m    212\u001b[0m     \u001b[0;32mif\u001b[0m \u001b[0mcompute\u001b[0m\u001b[0;34m:\u001b[0m\u001b[0;34m\u001b[0m\u001b[0;34m\u001b[0m\u001b[0m\n\u001b[0;32m--> 213\u001b[0;31m         \u001b[0mout\u001b[0m\u001b[0;34m.\u001b[0m\u001b[0mcompute\u001b[0m\u001b[0;34m(\u001b[0m\u001b[0;34m**\u001b[0m\u001b[0mkwargs\u001b[0m\u001b[0;34m)\u001b[0m\u001b[0;34m\u001b[0m\u001b[0;34m\u001b[0m\u001b[0m\n\u001b[0m\u001b[1;32m    214\u001b[0m         \u001b[0;32mreturn\u001b[0m \u001b[0;34m[\u001b[0m\u001b[0mf\u001b[0m\u001b[0;34m.\u001b[0m\u001b[0mpath\u001b[0m \u001b[0;32mfor\u001b[0m \u001b[0mf\u001b[0m \u001b[0;32min\u001b[0m \u001b[0mfiles\u001b[0m\u001b[0;34m]\u001b[0m\u001b[0;34m\u001b[0m\u001b[0;34m\u001b[0m\u001b[0m\n\u001b[1;32m    215\u001b[0m     \u001b[0;32melse\u001b[0m\u001b[0;34m:\u001b[0m\u001b[0;34m\u001b[0m\u001b[0;34m\u001b[0m\u001b[0m\n",
      "\u001b[0;32m~/.local/share/virtualenvs/impresso-ne-linking-3S6qaXXb/lib/python3.6/site-packages/dask/base.py\u001b[0m in \u001b[0;36mcompute\u001b[0;34m(self, **kwargs)\u001b[0m\n\u001b[1;32m    154\u001b[0m         \u001b[0mdask\u001b[0m\u001b[0;34m.\u001b[0m\u001b[0mbase\u001b[0m\u001b[0;34m.\u001b[0m\u001b[0mcompute\u001b[0m\u001b[0;34m\u001b[0m\u001b[0;34m\u001b[0m\u001b[0m\n\u001b[1;32m    155\u001b[0m         \"\"\"\n\u001b[0;32m--> 156\u001b[0;31m         \u001b[0;34m(\u001b[0m\u001b[0mresult\u001b[0m\u001b[0;34m,\u001b[0m\u001b[0;34m)\u001b[0m \u001b[0;34m=\u001b[0m \u001b[0mcompute\u001b[0m\u001b[0;34m(\u001b[0m\u001b[0mself\u001b[0m\u001b[0;34m,\u001b[0m \u001b[0mtraverse\u001b[0m\u001b[0;34m=\u001b[0m\u001b[0;32mFalse\u001b[0m\u001b[0;34m,\u001b[0m \u001b[0;34m**\u001b[0m\u001b[0mkwargs\u001b[0m\u001b[0;34m)\u001b[0m\u001b[0;34m\u001b[0m\u001b[0;34m\u001b[0m\u001b[0m\n\u001b[0m\u001b[1;32m    157\u001b[0m         \u001b[0;32mreturn\u001b[0m \u001b[0mresult\u001b[0m\u001b[0;34m\u001b[0m\u001b[0;34m\u001b[0m\u001b[0m\n\u001b[1;32m    158\u001b[0m \u001b[0;34m\u001b[0m\u001b[0m\n",
      "\u001b[0;32m~/.local/share/virtualenvs/impresso-ne-linking-3S6qaXXb/lib/python3.6/site-packages/dask/base.py\u001b[0m in \u001b[0;36mcompute\u001b[0;34m(*args, **kwargs)\u001b[0m\n\u001b[1;32m    396\u001b[0m     \u001b[0mkeys\u001b[0m \u001b[0;34m=\u001b[0m \u001b[0;34m[\u001b[0m\u001b[0mx\u001b[0m\u001b[0;34m.\u001b[0m\u001b[0m__dask_keys__\u001b[0m\u001b[0;34m(\u001b[0m\u001b[0;34m)\u001b[0m \u001b[0;32mfor\u001b[0m \u001b[0mx\u001b[0m \u001b[0;32min\u001b[0m \u001b[0mcollections\u001b[0m\u001b[0;34m]\u001b[0m\u001b[0;34m\u001b[0m\u001b[0;34m\u001b[0m\u001b[0m\n\u001b[1;32m    397\u001b[0m     \u001b[0mpostcomputes\u001b[0m \u001b[0;34m=\u001b[0m \u001b[0;34m[\u001b[0m\u001b[0mx\u001b[0m\u001b[0;34m.\u001b[0m\u001b[0m__dask_postcompute__\u001b[0m\u001b[0;34m(\u001b[0m\u001b[0;34m)\u001b[0m \u001b[0;32mfor\u001b[0m \u001b[0mx\u001b[0m \u001b[0;32min\u001b[0m \u001b[0mcollections\u001b[0m\u001b[0;34m]\u001b[0m\u001b[0;34m\u001b[0m\u001b[0;34m\u001b[0m\u001b[0m\n\u001b[0;32m--> 398\u001b[0;31m     \u001b[0mresults\u001b[0m \u001b[0;34m=\u001b[0m \u001b[0mschedule\u001b[0m\u001b[0;34m(\u001b[0m\u001b[0mdsk\u001b[0m\u001b[0;34m,\u001b[0m \u001b[0mkeys\u001b[0m\u001b[0;34m,\u001b[0m \u001b[0;34m**\u001b[0m\u001b[0mkwargs\u001b[0m\u001b[0;34m)\u001b[0m\u001b[0;34m\u001b[0m\u001b[0;34m\u001b[0m\u001b[0m\n\u001b[0m\u001b[1;32m    399\u001b[0m     \u001b[0;32mreturn\u001b[0m \u001b[0mrepack\u001b[0m\u001b[0;34m(\u001b[0m\u001b[0;34m[\u001b[0m\u001b[0mf\u001b[0m\u001b[0;34m(\u001b[0m\u001b[0mr\u001b[0m\u001b[0;34m,\u001b[0m \u001b[0;34m*\u001b[0m\u001b[0ma\u001b[0m\u001b[0;34m)\u001b[0m \u001b[0;32mfor\u001b[0m \u001b[0mr\u001b[0m\u001b[0;34m,\u001b[0m \u001b[0;34m(\u001b[0m\u001b[0mf\u001b[0m\u001b[0;34m,\u001b[0m \u001b[0ma\u001b[0m\u001b[0;34m)\u001b[0m \u001b[0;32min\u001b[0m \u001b[0mzip\u001b[0m\u001b[0;34m(\u001b[0m\u001b[0mresults\u001b[0m\u001b[0;34m,\u001b[0m \u001b[0mpostcomputes\u001b[0m\u001b[0;34m)\u001b[0m\u001b[0;34m]\u001b[0m\u001b[0;34m)\u001b[0m\u001b[0;34m\u001b[0m\u001b[0;34m\u001b[0m\u001b[0m\n\u001b[1;32m    400\u001b[0m \u001b[0;34m\u001b[0m\u001b[0m\n",
      "\u001b[0;32m~/.local/share/virtualenvs/impresso-ne-linking-3S6qaXXb/lib/python3.6/site-packages/distributed/client.py\u001b[0m in \u001b[0;36mget\u001b[0;34m(self, dsk, keys, restrictions, loose_restrictions, resources, sync, asynchronous, direct, retries, priority, fifo_timeout, actors, **kwargs)\u001b[0m\n\u001b[1;32m   2566\u001b[0m                     \u001b[0mshould_rejoin\u001b[0m \u001b[0;34m=\u001b[0m \u001b[0;32mFalse\u001b[0m\u001b[0;34m\u001b[0m\u001b[0;34m\u001b[0m\u001b[0m\n\u001b[1;32m   2567\u001b[0m             \u001b[0;32mtry\u001b[0m\u001b[0;34m:\u001b[0m\u001b[0;34m\u001b[0m\u001b[0;34m\u001b[0m\u001b[0m\n\u001b[0;32m-> 2568\u001b[0;31m                 \u001b[0mresults\u001b[0m \u001b[0;34m=\u001b[0m \u001b[0mself\u001b[0m\u001b[0;34m.\u001b[0m\u001b[0mgather\u001b[0m\u001b[0;34m(\u001b[0m\u001b[0mpacked\u001b[0m\u001b[0;34m,\u001b[0m \u001b[0masynchronous\u001b[0m\u001b[0;34m=\u001b[0m\u001b[0masynchronous\u001b[0m\u001b[0;34m,\u001b[0m \u001b[0mdirect\u001b[0m\u001b[0;34m=\u001b[0m\u001b[0mdirect\u001b[0m\u001b[0;34m)\u001b[0m\u001b[0;34m\u001b[0m\u001b[0;34m\u001b[0m\u001b[0m\n\u001b[0m\u001b[1;32m   2569\u001b[0m             \u001b[0;32mfinally\u001b[0m\u001b[0;34m:\u001b[0m\u001b[0;34m\u001b[0m\u001b[0;34m\u001b[0m\u001b[0m\n\u001b[1;32m   2570\u001b[0m                 \u001b[0;32mfor\u001b[0m \u001b[0mf\u001b[0m \u001b[0;32min\u001b[0m \u001b[0mfutures\u001b[0m\u001b[0;34m.\u001b[0m\u001b[0mvalues\u001b[0m\u001b[0;34m(\u001b[0m\u001b[0;34m)\u001b[0m\u001b[0;34m:\u001b[0m\u001b[0;34m\u001b[0m\u001b[0;34m\u001b[0m\u001b[0m\n",
      "\u001b[0;32m~/.local/share/virtualenvs/impresso-ne-linking-3S6qaXXb/lib/python3.6/site-packages/distributed/client.py\u001b[0m in \u001b[0;36mgather\u001b[0;34m(self, futures, errors, maxsize, direct, asynchronous)\u001b[0m\n\u001b[1;32m   1820\u001b[0m                 \u001b[0mdirect\u001b[0m\u001b[0;34m=\u001b[0m\u001b[0mdirect\u001b[0m\u001b[0;34m,\u001b[0m\u001b[0;34m\u001b[0m\u001b[0;34m\u001b[0m\u001b[0m\n\u001b[1;32m   1821\u001b[0m                 \u001b[0mlocal_worker\u001b[0m\u001b[0;34m=\u001b[0m\u001b[0mlocal_worker\u001b[0m\u001b[0;34m,\u001b[0m\u001b[0;34m\u001b[0m\u001b[0;34m\u001b[0m\u001b[0m\n\u001b[0;32m-> 1822\u001b[0;31m                 \u001b[0masynchronous\u001b[0m\u001b[0;34m=\u001b[0m\u001b[0masynchronous\u001b[0m\u001b[0;34m,\u001b[0m\u001b[0;34m\u001b[0m\u001b[0;34m\u001b[0m\u001b[0m\n\u001b[0m\u001b[1;32m   1823\u001b[0m             )\n\u001b[1;32m   1824\u001b[0m \u001b[0;34m\u001b[0m\u001b[0m\n",
      "\u001b[0;32m~/.local/share/virtualenvs/impresso-ne-linking-3S6qaXXb/lib/python3.6/site-packages/distributed/client.py\u001b[0m in \u001b[0;36msync\u001b[0;34m(self, func, *args, **kwargs)\u001b[0m\n\u001b[1;32m    751\u001b[0m             \u001b[0;32mreturn\u001b[0m \u001b[0mfuture\u001b[0m\u001b[0;34m\u001b[0m\u001b[0;34m\u001b[0m\u001b[0m\n\u001b[1;32m    752\u001b[0m         \u001b[0;32melse\u001b[0m\u001b[0;34m:\u001b[0m\u001b[0;34m\u001b[0m\u001b[0;34m\u001b[0m\u001b[0m\n\u001b[0;32m--> 753\u001b[0;31m             \u001b[0;32mreturn\u001b[0m \u001b[0msync\u001b[0m\u001b[0;34m(\u001b[0m\u001b[0mself\u001b[0m\u001b[0;34m.\u001b[0m\u001b[0mloop\u001b[0m\u001b[0;34m,\u001b[0m \u001b[0mfunc\u001b[0m\u001b[0;34m,\u001b[0m \u001b[0;34m*\u001b[0m\u001b[0margs\u001b[0m\u001b[0;34m,\u001b[0m \u001b[0;34m**\u001b[0m\u001b[0mkwargs\u001b[0m\u001b[0;34m)\u001b[0m\u001b[0;34m\u001b[0m\u001b[0;34m\u001b[0m\u001b[0m\n\u001b[0m\u001b[1;32m    754\u001b[0m \u001b[0;34m\u001b[0m\u001b[0m\n\u001b[1;32m    755\u001b[0m     \u001b[0;32mdef\u001b[0m \u001b[0m__repr__\u001b[0m\u001b[0;34m(\u001b[0m\u001b[0mself\u001b[0m\u001b[0;34m)\u001b[0m\u001b[0;34m:\u001b[0m\u001b[0;34m\u001b[0m\u001b[0;34m\u001b[0m\u001b[0m\n",
      "\u001b[0;32m~/.local/share/virtualenvs/impresso-ne-linking-3S6qaXXb/lib/python3.6/site-packages/distributed/utils.py\u001b[0m in \u001b[0;36msync\u001b[0;34m(loop, func, *args, **kwargs)\u001b[0m\n\u001b[1;32m    327\u001b[0m     \u001b[0;32melse\u001b[0m\u001b[0;34m:\u001b[0m\u001b[0;34m\u001b[0m\u001b[0;34m\u001b[0m\u001b[0m\n\u001b[1;32m    328\u001b[0m         \u001b[0;32mwhile\u001b[0m \u001b[0;32mnot\u001b[0m \u001b[0me\u001b[0m\u001b[0;34m.\u001b[0m\u001b[0mis_set\u001b[0m\u001b[0;34m(\u001b[0m\u001b[0;34m)\u001b[0m\u001b[0;34m:\u001b[0m\u001b[0;34m\u001b[0m\u001b[0;34m\u001b[0m\u001b[0m\n\u001b[0;32m--> 329\u001b[0;31m             \u001b[0me\u001b[0m\u001b[0;34m.\u001b[0m\u001b[0mwait\u001b[0m\u001b[0;34m(\u001b[0m\u001b[0;36m10\u001b[0m\u001b[0;34m)\u001b[0m\u001b[0;34m\u001b[0m\u001b[0;34m\u001b[0m\u001b[0m\n\u001b[0m\u001b[1;32m    330\u001b[0m     \u001b[0;32mif\u001b[0m \u001b[0merror\u001b[0m\u001b[0;34m[\u001b[0m\u001b[0;36m0\u001b[0m\u001b[0;34m]\u001b[0m\u001b[0;34m:\u001b[0m\u001b[0;34m\u001b[0m\u001b[0;34m\u001b[0m\u001b[0m\n\u001b[1;32m    331\u001b[0m         \u001b[0msix\u001b[0m\u001b[0;34m.\u001b[0m\u001b[0mreraise\u001b[0m\u001b[0;34m(\u001b[0m\u001b[0;34m*\u001b[0m\u001b[0merror\u001b[0m\u001b[0;34m[\u001b[0m\u001b[0;36m0\u001b[0m\u001b[0;34m]\u001b[0m\u001b[0;34m)\u001b[0m\u001b[0;34m\u001b[0m\u001b[0;34m\u001b[0m\u001b[0m\n",
      "\u001b[0;32m~/.pyenv/versions/3.6.7/lib/python3.6/threading.py\u001b[0m in \u001b[0;36mwait\u001b[0;34m(self, timeout)\u001b[0m\n\u001b[1;32m    549\u001b[0m             \u001b[0msignaled\u001b[0m \u001b[0;34m=\u001b[0m \u001b[0mself\u001b[0m\u001b[0;34m.\u001b[0m\u001b[0m_flag\u001b[0m\u001b[0;34m\u001b[0m\u001b[0;34m\u001b[0m\u001b[0m\n\u001b[1;32m    550\u001b[0m             \u001b[0;32mif\u001b[0m \u001b[0;32mnot\u001b[0m \u001b[0msignaled\u001b[0m\u001b[0;34m:\u001b[0m\u001b[0;34m\u001b[0m\u001b[0;34m\u001b[0m\u001b[0m\n\u001b[0;32m--> 551\u001b[0;31m                 \u001b[0msignaled\u001b[0m \u001b[0;34m=\u001b[0m \u001b[0mself\u001b[0m\u001b[0;34m.\u001b[0m\u001b[0m_cond\u001b[0m\u001b[0;34m.\u001b[0m\u001b[0mwait\u001b[0m\u001b[0;34m(\u001b[0m\u001b[0mtimeout\u001b[0m\u001b[0;34m)\u001b[0m\u001b[0;34m\u001b[0m\u001b[0;34m\u001b[0m\u001b[0m\n\u001b[0m\u001b[1;32m    552\u001b[0m             \u001b[0;32mreturn\u001b[0m \u001b[0msignaled\u001b[0m\u001b[0;34m\u001b[0m\u001b[0;34m\u001b[0m\u001b[0m\n\u001b[1;32m    553\u001b[0m \u001b[0;34m\u001b[0m\u001b[0m\n",
      "\u001b[0;32m~/.pyenv/versions/3.6.7/lib/python3.6/threading.py\u001b[0m in \u001b[0;36mwait\u001b[0;34m(self, timeout)\u001b[0m\n\u001b[1;32m    297\u001b[0m             \u001b[0;32melse\u001b[0m\u001b[0;34m:\u001b[0m\u001b[0;34m\u001b[0m\u001b[0;34m\u001b[0m\u001b[0m\n\u001b[1;32m    298\u001b[0m                 \u001b[0;32mif\u001b[0m \u001b[0mtimeout\u001b[0m \u001b[0;34m>\u001b[0m \u001b[0;36m0\u001b[0m\u001b[0;34m:\u001b[0m\u001b[0;34m\u001b[0m\u001b[0;34m\u001b[0m\u001b[0m\n\u001b[0;32m--> 299\u001b[0;31m                     \u001b[0mgotit\u001b[0m \u001b[0;34m=\u001b[0m \u001b[0mwaiter\u001b[0m\u001b[0;34m.\u001b[0m\u001b[0macquire\u001b[0m\u001b[0;34m(\u001b[0m\u001b[0;32mTrue\u001b[0m\u001b[0;34m,\u001b[0m \u001b[0mtimeout\u001b[0m\u001b[0;34m)\u001b[0m\u001b[0;34m\u001b[0m\u001b[0;34m\u001b[0m\u001b[0m\n\u001b[0m\u001b[1;32m    300\u001b[0m                 \u001b[0;32melse\u001b[0m\u001b[0;34m:\u001b[0m\u001b[0;34m\u001b[0m\u001b[0;34m\u001b[0m\u001b[0m\n\u001b[1;32m    301\u001b[0m                     \u001b[0mgotit\u001b[0m \u001b[0;34m=\u001b[0m \u001b[0mwaiter\u001b[0m\u001b[0;34m.\u001b[0m\u001b[0macquire\u001b[0m\u001b[0;34m(\u001b[0m\u001b[0;32mFalse\u001b[0m\u001b[0;34m)\u001b[0m\u001b[0;34m\u001b[0m\u001b[0;34m\u001b[0m\u001b[0m\n",
      "\u001b[0;31mKeyboardInterrupt\u001b[0m: "
     ]
    }
   ],
   "source": [
    "aida_input_bag = db.read_text(\n",
    "    aida_input_files,\n",
    "    storage_options=IMPRESSO_STORAGEOPT\n",
    ").map(json.loads)\\\n",
    ".map_partitions(aida_disambiguate_documents)\\\n",
    ".map(json.dumps)\\\n",
    ".to_textfiles(\n",
    "    aida_output_files\n",
    "    # storage_options=IMPRESSO_STORAGEOPT\n",
    ")"
   ]
  },
  {
   "cell_type": "markdown",
   "metadata": {},
   "source": [
    "## process remaining partitions"
   ]
  },
  {
   "cell_type": "code",
   "execution_count": 84,
   "metadata": {},
   "outputs": [],
   "source": [
    "aida_input_files = fixed_s3fs_glob(\"s3://processed-canonical-data/entities/aida-input/*.bz2\")"
   ]
  },
  {
   "cell_type": "code",
   "execution_count": 85,
   "metadata": {},
   "outputs": [
    {
     "data": {
      "text/plain": [
       "4394"
      ]
     },
     "execution_count": 85,
     "metadata": {},
     "output_type": "execute_result"
    }
   ],
   "source": [
    "len(aida_input_files)"
   ]
  },
  {
   "cell_type": "code",
   "execution_count": 94,
   "metadata": {},
   "outputs": [],
   "source": [
    "aida_output_files = fixed_s3fs_glob(\"s3://processed-canonical-data/entities/aida-output/*.bz2\")"
   ]
  },
  {
   "cell_type": "code",
   "execution_count": 95,
   "metadata": {},
   "outputs": [
    {
     "data": {
      "text/plain": [
       "4173"
      ]
     },
     "execution_count": 95,
     "metadata": {},
     "output_type": "execute_result"
    }
   ],
   "source": [
    "len(aida_output_files)"
   ]
  },
  {
   "cell_type": "code",
   "execution_count": null,
   "metadata": {},
   "outputs": [],
   "source": [
    "# find out remaining file\n",
    "# change destination path"
   ]
  },
  {
   "cell_type": "code",
   "execution_count": 99,
   "metadata": {},
   "outputs": [],
   "source": [
    "input_filenames = [\n",
    "    os.path.basename(file)\n",
    "    for file in aida_input_files\n",
    "]"
   ]
  },
  {
   "cell_type": "code",
   "execution_count": 100,
   "metadata": {},
   "outputs": [],
   "source": [
    "output_filenames = [\n",
    "    os.path.basename(file)\n",
    "    for file in aida_output_files\n",
    "]"
   ]
  },
  {
   "cell_type": "code",
   "execution_count": 101,
   "metadata": {},
   "outputs": [
    {
     "data": {
      "text/plain": [
       "4394"
      ]
     },
     "execution_count": 101,
     "metadata": {},
     "output_type": "execute_result"
    }
   ],
   "source": [
    "len(input_filenames)"
   ]
  },
  {
   "cell_type": "code",
   "execution_count": 102,
   "metadata": {},
   "outputs": [
    {
     "data": {
      "text/plain": [
       "4173"
      ]
     },
     "execution_count": 102,
     "metadata": {},
     "output_type": "execute_result"
    }
   ],
   "source": [
    "len(output_filenames)"
   ]
  },
  {
   "cell_type": "code",
   "execution_count": 103,
   "metadata": {},
   "outputs": [],
   "source": [
    "remaining_filenames = set(input_filenames).difference(set(output_filenames))"
   ]
  },
  {
   "cell_type": "code",
   "execution_count": 104,
   "metadata": {},
   "outputs": [
    {
     "data": {
      "text/plain": [
       "221"
      ]
     },
     "execution_count": 104,
     "metadata": {},
     "output_type": "execute_result"
    }
   ],
   "source": [
    "len(remaining_filenames)"
   ]
  },
  {
   "cell_type": "code",
   "execution_count": 106,
   "metadata": {},
   "outputs": [],
   "source": [
    "aida_input_remaining = [\n",
    "    file\n",
    "    for file in aida_input_files\n",
    "    if os.path.basename(file) in remaining_filenames\n",
    "]"
   ]
  },
  {
   "cell_type": "code",
   "execution_count": null,
   "metadata": {},
   "outputs": [],
   "source": [
    "aida_input_remaining = [\n",
    "    file\n",
    "    for file in aida_input_files\n",
    "    if os.path.basename(file) in remaining_filenames\n",
    "]"
   ]
  },
  {
   "cell_type": "code",
   "execution_count": 107,
   "metadata": {},
   "outputs": [
    {
     "data": {
      "text/plain": [
       "221"
      ]
     },
     "execution_count": 107,
     "metadata": {},
     "output_type": "execute_result"
    }
   ],
   "source": [
    "len(aida_input_remaining)"
   ]
  },
  {
   "cell_type": "code",
   "execution_count": 114,
   "metadata": {
    "collapsed": true
   },
   "outputs": [
    {
     "data": {
      "text/plain": [
       "['/media/romanell/4T/matteo/impresso-entities/aida-output/1008.bz2',\n",
       " '/media/romanell/4T/matteo/impresso-entities/aida-output/1010.bz2',\n",
       " '/media/romanell/4T/matteo/impresso-entities/aida-output/1021.bz2',\n",
       " '/media/romanell/4T/matteo/impresso-entities/aida-output/1028.bz2',\n",
       " '/media/romanell/4T/matteo/impresso-entities/aida-output/1034.bz2',\n",
       " '/media/romanell/4T/matteo/impresso-entities/aida-output/1044.bz2',\n",
       " '/media/romanell/4T/matteo/impresso-entities/aida-output/1062.bz2',\n",
       " '/media/romanell/4T/matteo/impresso-entities/aida-output/1069.bz2',\n",
       " '/media/romanell/4T/matteo/impresso-entities/aida-output/1089.bz2',\n",
       " '/media/romanell/4T/matteo/impresso-entities/aida-output/1102.bz2',\n",
       " '/media/romanell/4T/matteo/impresso-entities/aida-output/1104.bz2',\n",
       " '/media/romanell/4T/matteo/impresso-entities/aida-output/1109.bz2',\n",
       " '/media/romanell/4T/matteo/impresso-entities/aida-output/1114.bz2',\n",
       " '/media/romanell/4T/matteo/impresso-entities/aida-output/1116.bz2',\n",
       " '/media/romanell/4T/matteo/impresso-entities/aida-output/1120.bz2',\n",
       " '/media/romanell/4T/matteo/impresso-entities/aida-output/1125.bz2',\n",
       " '/media/romanell/4T/matteo/impresso-entities/aida-output/1126.bz2',\n",
       " '/media/romanell/4T/matteo/impresso-entities/aida-output/1127.bz2',\n",
       " '/media/romanell/4T/matteo/impresso-entities/aida-output/1154.bz2',\n",
       " '/media/romanell/4T/matteo/impresso-entities/aida-output/1166.bz2',\n",
       " '/media/romanell/4T/matteo/impresso-entities/aida-output/1173.bz2',\n",
       " '/media/romanell/4T/matteo/impresso-entities/aida-output/1179.bz2',\n",
       " '/media/romanell/4T/matteo/impresso-entities/aida-output/1183.bz2',\n",
       " '/media/romanell/4T/matteo/impresso-entities/aida-output/1204.bz2',\n",
       " '/media/romanell/4T/matteo/impresso-entities/aida-output/1211.bz2',\n",
       " '/media/romanell/4T/matteo/impresso-entities/aida-output/1233.bz2',\n",
       " '/media/romanell/4T/matteo/impresso-entities/aida-output/1234.bz2',\n",
       " '/media/romanell/4T/matteo/impresso-entities/aida-output/1236.bz2',\n",
       " '/media/romanell/4T/matteo/impresso-entities/aida-output/1243.bz2',\n",
       " '/media/romanell/4T/matteo/impresso-entities/aida-output/1246.bz2',\n",
       " '/media/romanell/4T/matteo/impresso-entities/aida-output/1247.bz2',\n",
       " '/media/romanell/4T/matteo/impresso-entities/aida-output/1256.bz2',\n",
       " '/media/romanell/4T/matteo/impresso-entities/aida-output/1265.bz2',\n",
       " '/media/romanell/4T/matteo/impresso-entities/aida-output/1269.bz2',\n",
       " '/media/romanell/4T/matteo/impresso-entities/aida-output/1289.bz2',\n",
       " '/media/romanell/4T/matteo/impresso-entities/aida-output/1293.bz2',\n",
       " '/media/romanell/4T/matteo/impresso-entities/aida-output/1330.bz2',\n",
       " '/media/romanell/4T/matteo/impresso-entities/aida-output/1355.bz2',\n",
       " '/media/romanell/4T/matteo/impresso-entities/aida-output/1361.bz2',\n",
       " '/media/romanell/4T/matteo/impresso-entities/aida-output/1366.bz2',\n",
       " '/media/romanell/4T/matteo/impresso-entities/aida-output/1367.bz2',\n",
       " '/media/romanell/4T/matteo/impresso-entities/aida-output/1373.bz2',\n",
       " '/media/romanell/4T/matteo/impresso-entities/aida-output/1375.bz2',\n",
       " '/media/romanell/4T/matteo/impresso-entities/aida-output/1377.bz2',\n",
       " '/media/romanell/4T/matteo/impresso-entities/aida-output/1384.bz2',\n",
       " '/media/romanell/4T/matteo/impresso-entities/aida-output/1397.bz2',\n",
       " '/media/romanell/4T/matteo/impresso-entities/aida-output/1404.bz2',\n",
       " '/media/romanell/4T/matteo/impresso-entities/aida-output/1406.bz2',\n",
       " '/media/romanell/4T/matteo/impresso-entities/aida-output/1409.bz2',\n",
       " '/media/romanell/4T/matteo/impresso-entities/aida-output/1411.bz2',\n",
       " '/media/romanell/4T/matteo/impresso-entities/aida-output/1412.bz2',\n",
       " '/media/romanell/4T/matteo/impresso-entities/aida-output/1421.bz2',\n",
       " '/media/romanell/4T/matteo/impresso-entities/aida-output/1422.bz2',\n",
       " '/media/romanell/4T/matteo/impresso-entities/aida-output/1432.bz2',\n",
       " '/media/romanell/4T/matteo/impresso-entities/aida-output/1441.bz2',\n",
       " '/media/romanell/4T/matteo/impresso-entities/aida-output/1445.bz2',\n",
       " '/media/romanell/4T/matteo/impresso-entities/aida-output/1449.bz2',\n",
       " '/media/romanell/4T/matteo/impresso-entities/aida-output/1450.bz2',\n",
       " '/media/romanell/4T/matteo/impresso-entities/aida-output/1463.bz2',\n",
       " '/media/romanell/4T/matteo/impresso-entities/aida-output/1470.bz2',\n",
       " '/media/romanell/4T/matteo/impresso-entities/aida-output/1477.bz2',\n",
       " '/media/romanell/4T/matteo/impresso-entities/aida-output/1481.bz2',\n",
       " '/media/romanell/4T/matteo/impresso-entities/aida-output/1488.bz2',\n",
       " '/media/romanell/4T/matteo/impresso-entities/aida-output/1492.bz2',\n",
       " '/media/romanell/4T/matteo/impresso-entities/aida-output/1496.bz2',\n",
       " '/media/romanell/4T/matteo/impresso-entities/aida-output/1497.bz2',\n",
       " '/media/romanell/4T/matteo/impresso-entities/aida-output/1500.bz2',\n",
       " '/media/romanell/4T/matteo/impresso-entities/aida-output/1547.bz2',\n",
       " '/media/romanell/4T/matteo/impresso-entities/aida-output/1568.bz2',\n",
       " '/media/romanell/4T/matteo/impresso-entities/aida-output/1575.bz2',\n",
       " '/media/romanell/4T/matteo/impresso-entities/aida-output/1608.bz2',\n",
       " '/media/romanell/4T/matteo/impresso-entities/aida-output/1620.bz2',\n",
       " '/media/romanell/4T/matteo/impresso-entities/aida-output/1623.bz2',\n",
       " '/media/romanell/4T/matteo/impresso-entities/aida-output/1627.bz2',\n",
       " '/media/romanell/4T/matteo/impresso-entities/aida-output/1656.bz2',\n",
       " '/media/romanell/4T/matteo/impresso-entities/aida-output/1667.bz2',\n",
       " '/media/romanell/4T/matteo/impresso-entities/aida-output/1671.bz2',\n",
       " '/media/romanell/4T/matteo/impresso-entities/aida-output/1678.bz2',\n",
       " '/media/romanell/4T/matteo/impresso-entities/aida-output/1703.bz2',\n",
       " '/media/romanell/4T/matteo/impresso-entities/aida-output/1704.bz2',\n",
       " '/media/romanell/4T/matteo/impresso-entities/aida-output/1706.bz2',\n",
       " '/media/romanell/4T/matteo/impresso-entities/aida-output/1708.bz2',\n",
       " '/media/romanell/4T/matteo/impresso-entities/aida-output/1709.bz2',\n",
       " '/media/romanell/4T/matteo/impresso-entities/aida-output/1725.bz2',\n",
       " '/media/romanell/4T/matteo/impresso-entities/aida-output/1739.bz2',\n",
       " '/media/romanell/4T/matteo/impresso-entities/aida-output/1744.bz2',\n",
       " '/media/romanell/4T/matteo/impresso-entities/aida-output/1748.bz2',\n",
       " '/media/romanell/4T/matteo/impresso-entities/aida-output/1754.bz2',\n",
       " '/media/romanell/4T/matteo/impresso-entities/aida-output/1768.bz2',\n",
       " '/media/romanell/4T/matteo/impresso-entities/aida-output/1775.bz2',\n",
       " '/media/romanell/4T/matteo/impresso-entities/aida-output/1780.bz2',\n",
       " '/media/romanell/4T/matteo/impresso-entities/aida-output/1781.bz2',\n",
       " '/media/romanell/4T/matteo/impresso-entities/aida-output/1823.bz2',\n",
       " '/media/romanell/4T/matteo/impresso-entities/aida-output/1829.bz2',\n",
       " '/media/romanell/4T/matteo/impresso-entities/aida-output/1833.bz2',\n",
       " '/media/romanell/4T/matteo/impresso-entities/aida-output/1835.bz2',\n",
       " '/media/romanell/4T/matteo/impresso-entities/aida-output/1841.bz2',\n",
       " '/media/romanell/4T/matteo/impresso-entities/aida-output/1844.bz2',\n",
       " '/media/romanell/4T/matteo/impresso-entities/aida-output/1848.bz2',\n",
       " '/media/romanell/4T/matteo/impresso-entities/aida-output/1860.bz2',\n",
       " '/media/romanell/4T/matteo/impresso-entities/aida-output/1867.bz2',\n",
       " '/media/romanell/4T/matteo/impresso-entities/aida-output/1876.bz2',\n",
       " '/media/romanell/4T/matteo/impresso-entities/aida-output/1880.bz2',\n",
       " '/media/romanell/4T/matteo/impresso-entities/aida-output/1884.bz2',\n",
       " '/media/romanell/4T/matteo/impresso-entities/aida-output/1902.bz2',\n",
       " '/media/romanell/4T/matteo/impresso-entities/aida-output/1904.bz2',\n",
       " '/media/romanell/4T/matteo/impresso-entities/aida-output/1911.bz2',\n",
       " '/media/romanell/4T/matteo/impresso-entities/aida-output/1930.bz2',\n",
       " '/media/romanell/4T/matteo/impresso-entities/aida-output/1935.bz2',\n",
       " '/media/romanell/4T/matteo/impresso-entities/aida-output/1937.bz2',\n",
       " '/media/romanell/4T/matteo/impresso-entities/aida-output/1938.bz2',\n",
       " '/media/romanell/4T/matteo/impresso-entities/aida-output/1940.bz2',\n",
       " '/media/romanell/4T/matteo/impresso-entities/aida-output/1943.bz2',\n",
       " '/media/romanell/4T/matteo/impresso-entities/aida-output/1973.bz2',\n",
       " '/media/romanell/4T/matteo/impresso-entities/aida-output/1996.bz2',\n",
       " '/media/romanell/4T/matteo/impresso-entities/aida-output/2001.bz2',\n",
       " '/media/romanell/4T/matteo/impresso-entities/aida-output/2019.bz2',\n",
       " '/media/romanell/4T/matteo/impresso-entities/aida-output/2041.bz2',\n",
       " '/media/romanell/4T/matteo/impresso-entities/aida-output/2050.bz2',\n",
       " '/media/romanell/4T/matteo/impresso-entities/aida-output/2081.bz2',\n",
       " '/media/romanell/4T/matteo/impresso-entities/aida-output/2087.bz2',\n",
       " '/media/romanell/4T/matteo/impresso-entities/aida-output/2099.bz2',\n",
       " '/media/romanell/4T/matteo/impresso-entities/aida-output/2104.bz2',\n",
       " '/media/romanell/4T/matteo/impresso-entities/aida-output/2119.bz2',\n",
       " '/media/romanell/4T/matteo/impresso-entities/aida-output/2134.bz2',\n",
       " '/media/romanell/4T/matteo/impresso-entities/aida-output/2140.bz2',\n",
       " '/media/romanell/4T/matteo/impresso-entities/aida-output/2146.bz2',\n",
       " '/media/romanell/4T/matteo/impresso-entities/aida-output/2154.bz2',\n",
       " '/media/romanell/4T/matteo/impresso-entities/aida-output/2179.bz2',\n",
       " '/media/romanell/4T/matteo/impresso-entities/aida-output/2197.bz2',\n",
       " '/media/romanell/4T/matteo/impresso-entities/aida-output/2201.bz2',\n",
       " '/media/romanell/4T/matteo/impresso-entities/aida-output/2206.bz2',\n",
       " '/media/romanell/4T/matteo/impresso-entities/aida-output/2212.bz2',\n",
       " '/media/romanell/4T/matteo/impresso-entities/aida-output/2214.bz2',\n",
       " '/media/romanell/4T/matteo/impresso-entities/aida-output/2230.bz2',\n",
       " '/media/romanell/4T/matteo/impresso-entities/aida-output/2249.bz2',\n",
       " '/media/romanell/4T/matteo/impresso-entities/aida-output/2254.bz2',\n",
       " '/media/romanell/4T/matteo/impresso-entities/aida-output/2256.bz2',\n",
       " '/media/romanell/4T/matteo/impresso-entities/aida-output/2282.bz2',\n",
       " '/media/romanell/4T/matteo/impresso-entities/aida-output/2287.bz2',\n",
       " '/media/romanell/4T/matteo/impresso-entities/aida-output/2294.bz2',\n",
       " '/media/romanell/4T/matteo/impresso-entities/aida-output/2302.bz2',\n",
       " '/media/romanell/4T/matteo/impresso-entities/aida-output/2323.bz2',\n",
       " '/media/romanell/4T/matteo/impresso-entities/aida-output/2354.bz2',\n",
       " '/media/romanell/4T/matteo/impresso-entities/aida-output/2355.bz2',\n",
       " '/media/romanell/4T/matteo/impresso-entities/aida-output/2357.bz2',\n",
       " '/media/romanell/4T/matteo/impresso-entities/aida-output/2358.bz2',\n",
       " '/media/romanell/4T/matteo/impresso-entities/aida-output/2364.bz2',\n",
       " '/media/romanell/4T/matteo/impresso-entities/aida-output/2367.bz2',\n",
       " '/media/romanell/4T/matteo/impresso-entities/aida-output/2369.bz2',\n",
       " '/media/romanell/4T/matteo/impresso-entities/aida-output/2375.bz2',\n",
       " '/media/romanell/4T/matteo/impresso-entities/aida-output/2391.bz2',\n",
       " '/media/romanell/4T/matteo/impresso-entities/aida-output/2394.bz2',\n",
       " '/media/romanell/4T/matteo/impresso-entities/aida-output/2402.bz2',\n",
       " '/media/romanell/4T/matteo/impresso-entities/aida-output/2408.bz2',\n",
       " '/media/romanell/4T/matteo/impresso-entities/aida-output/2434.bz2',\n",
       " '/media/romanell/4T/matteo/impresso-entities/aida-output/2448.bz2',\n",
       " '/media/romanell/4T/matteo/impresso-entities/aida-output/2463.bz2',\n",
       " '/media/romanell/4T/matteo/impresso-entities/aida-output/2467.bz2',\n",
       " '/media/romanell/4T/matteo/impresso-entities/aida-output/2472.bz2',\n",
       " '/media/romanell/4T/matteo/impresso-entities/aida-output/2480.bz2',\n",
       " '/media/romanell/4T/matteo/impresso-entities/aida-output/2481.bz2',\n",
       " '/media/romanell/4T/matteo/impresso-entities/aida-output/2483.bz2',\n",
       " '/media/romanell/4T/matteo/impresso-entities/aida-output/2503.bz2',\n",
       " '/media/romanell/4T/matteo/impresso-entities/aida-output/2508.bz2',\n",
       " '/media/romanell/4T/matteo/impresso-entities/aida-output/2513.bz2',\n",
       " '/media/romanell/4T/matteo/impresso-entities/aida-output/2516.bz2',\n",
       " '/media/romanell/4T/matteo/impresso-entities/aida-output/2550.bz2',\n",
       " '/media/romanell/4T/matteo/impresso-entities/aida-output/2552.bz2',\n",
       " '/media/romanell/4T/matteo/impresso-entities/aida-output/2557.bz2',\n",
       " '/media/romanell/4T/matteo/impresso-entities/aida-output/2576.bz2',\n",
       " '/media/romanell/4T/matteo/impresso-entities/aida-output/2591.bz2',\n",
       " '/media/romanell/4T/matteo/impresso-entities/aida-output/2595.bz2',\n",
       " '/media/romanell/4T/matteo/impresso-entities/aida-output/2610.bz2',\n",
       " '/media/romanell/4T/matteo/impresso-entities/aida-output/2623.bz2',\n",
       " '/media/romanell/4T/matteo/impresso-entities/aida-output/2626.bz2',\n",
       " '/media/romanell/4T/matteo/impresso-entities/aida-output/2629.bz2',\n",
       " '/media/romanell/4T/matteo/impresso-entities/aida-output/2633.bz2',\n",
       " '/media/romanell/4T/matteo/impresso-entities/aida-output/2643.bz2',\n",
       " '/media/romanell/4T/matteo/impresso-entities/aida-output/2659.bz2',\n",
       " '/media/romanell/4T/matteo/impresso-entities/aida-output/2688.bz2',\n",
       " '/media/romanell/4T/matteo/impresso-entities/aida-output/2692.bz2',\n",
       " '/media/romanell/4T/matteo/impresso-entities/aida-output/2698.bz2',\n",
       " '/media/romanell/4T/matteo/impresso-entities/aida-output/2718.bz2',\n",
       " '/media/romanell/4T/matteo/impresso-entities/aida-output/2734.bz2',\n",
       " '/media/romanell/4T/matteo/impresso-entities/aida-output/2735.bz2',\n",
       " '/media/romanell/4T/matteo/impresso-entities/aida-output/2739.bz2',\n",
       " '/media/romanell/4T/matteo/impresso-entities/aida-output/2744.bz2',\n",
       " '/media/romanell/4T/matteo/impresso-entities/aida-output/2764.bz2',\n",
       " '/media/romanell/4T/matteo/impresso-entities/aida-output/2765.bz2',\n",
       " '/media/romanell/4T/matteo/impresso-entities/aida-output/2774.bz2',\n",
       " '/media/romanell/4T/matteo/impresso-entities/aida-output/2778.bz2',\n",
       " '/media/romanell/4T/matteo/impresso-entities/aida-output/2787.bz2',\n",
       " '/media/romanell/4T/matteo/impresso-entities/aida-output/2789.bz2',\n",
       " '/media/romanell/4T/matteo/impresso-entities/aida-output/2793.bz2',\n",
       " '/media/romanell/4T/matteo/impresso-entities/aida-output/2795.bz2',\n",
       " '/media/romanell/4T/matteo/impresso-entities/aida-output/2799.bz2',\n",
       " '/media/romanell/4T/matteo/impresso-entities/aida-output/2811.bz2',\n",
       " '/media/romanell/4T/matteo/impresso-entities/aida-output/2824.bz2',\n",
       " '/media/romanell/4T/matteo/impresso-entities/aida-output/2827.bz2',\n",
       " '/media/romanell/4T/matteo/impresso-entities/aida-output/2867.bz2',\n",
       " '/media/romanell/4T/matteo/impresso-entities/aida-output/2874.bz2',\n",
       " '/media/romanell/4T/matteo/impresso-entities/aida-output/2877.bz2',\n",
       " '/media/romanell/4T/matteo/impresso-entities/aida-output/2880.bz2',\n",
       " '/media/romanell/4T/matteo/impresso-entities/aida-output/2889.bz2',\n",
       " '/media/romanell/4T/matteo/impresso-entities/aida-output/2892.bz2',\n",
       " '/media/romanell/4T/matteo/impresso-entities/aida-output/2896.bz2',\n",
       " '/media/romanell/4T/matteo/impresso-entities/aida-output/2897.bz2',\n",
       " '/media/romanell/4T/matteo/impresso-entities/aida-output/2901.bz2',\n",
       " '/media/romanell/4T/matteo/impresso-entities/aida-output/2905.bz2',\n",
       " '/media/romanell/4T/matteo/impresso-entities/aida-output/2931.bz2',\n",
       " '/media/romanell/4T/matteo/impresso-entities/aida-output/2932.bz2',\n",
       " '/media/romanell/4T/matteo/impresso-entities/aida-output/2934.bz2',\n",
       " '/media/romanell/4T/matteo/impresso-entities/aida-output/2954.bz2',\n",
       " '/media/romanell/4T/matteo/impresso-entities/aida-output/2960.bz2',\n",
       " '/media/romanell/4T/matteo/impresso-entities/aida-output/2969.bz2',\n",
       " '/media/romanell/4T/matteo/impresso-entities/aida-output/2977.bz2',\n",
       " '/media/romanell/4T/matteo/impresso-entities/aida-output/2979.bz2',\n",
       " '/media/romanell/4T/matteo/impresso-entities/aida-output/2983.bz2',\n",
       " '/media/romanell/4T/matteo/impresso-entities/aida-output/2984.bz2',\n",
       " '/media/romanell/4T/matteo/impresso-entities/aida-output/2990.bz2']"
      ]
     },
     "execution_count": 114,
     "metadata": {},
     "output_type": "execute_result"
    }
   ],
   "source": [
    "aida_output_remaining"
   ]
  },
  {
   "cell_type": "code",
   "execution_count": 111,
   "metadata": {},
   "outputs": [],
   "source": [
    "aida_output_remaining = [\n",
    "    os.path.join(local_output_dir, os.path.basename(file))\n",
    "    for file in aida_input_remaining\n",
    "]"
   ]
  },
  {
   "cell_type": "code",
   "execution_count": 113,
   "metadata": {},
   "outputs": [],
   "source": [
    "assert len(aida_input_remaining) == len(aida_output_remaining)"
   ]
  },
  {
   "cell_type": "code",
   "execution_count": null,
   "metadata": {},
   "outputs": [],
   "source": [
    "result = db.read_text(\n",
    "    aida_input_remaining,\n",
    "    storage_options=IMPRESSO_STORAGEOPT\n",
    ").map(json.loads)\\\n",
    ".map_partitions(aida_disambiguate_documents, 25333)\\\n",
    ".map(json.dumps)\\\n",
    ".to_textfiles(\n",
    "    aida_output_remaining\n",
    ")"
   ]
  },
  {
   "cell_type": "markdown",
   "metadata": {},
   "source": [
    "## Disambiguation (s3 input)"
   ]
  },
  {
   "cell_type": "code",
   "execution_count": 17,
   "metadata": {},
   "outputs": [],
   "source": [
    "# aida_input_path = f\"s3://canonical-rebuilt/{np}/*.jsonl.bz2\"\n",
    "\n",
    "aida_input = \"s3://processed-canonical-data/entities/aida-input/GDL/*.bz2\"\n",
    "aida_input_bag = db.read_text(\n",
    "    aida_input,\n",
    "    storage_options=IMPRESSO_STORAGEOPT\n",
    ").map(json.loads)\\\n",
    ".map(aida_disambiguate)"
   ]
  },
  {
   "cell_type": "code",
   "execution_count": 19,
   "metadata": {
    "collapsed": true
   },
   "outputs": [
    {
     "name": "stderr",
     "output_type": "stream",
     "text": [
      "ERROR:root:Exception while sending command.\n",
      "Traceback (most recent call last):\n",
      "  File \"/home/romanell/.local/share/virtualenvs/impresso-ne-linking-3S6qaXXb/lib/python3.6/site-packages/py4j/java_gateway.py\", line 1188, in send_command\n",
      "    raise Py4JNetworkError(\"Answer from Java side is empty\")\n",
      "py4j.protocol.Py4JNetworkError: Answer from Java side is empty\n",
      "\n",
      "During handling of the above exception, another exception occurred:\n",
      "\n",
      "Traceback (most recent call last):\n",
      "  File \"/home/romanell/.local/share/virtualenvs/impresso-ne-linking-3S6qaXXb/lib/python3.6/site-packages/py4j/java_gateway.py\", line 1014, in send_command\n",
      "    response = connection.send_command(command)\n",
      "  File \"/home/romanell/.local/share/virtualenvs/impresso-ne-linking-3S6qaXXb/lib/python3.6/site-packages/py4j/java_gateway.py\", line 1193, in send_command\n",
      "    \"Error while receiving\", e, proto.ERROR_ON_RECEIVE)\n",
      "py4j.protocol.Py4JNetworkError: Error while receiving\n",
      "distributed.comm.tcp - WARNING - Closing dangling stream in <TCP  local=tcp://127.0.0.1:32918 remote=tcp://127.0.0.1:39407>\n",
      "distributed.comm.tcp - WARNING - Closing dangling stream in <TCP  local=tcp://127.0.0.1:32920 remote=tcp://127.0.0.1:39407>\n",
      "distributed.comm.tcp - WARNING - Closing dangling stream in <TCP  local=tcp://127.0.0.1:32922 remote=tcp://127.0.0.1:39407>\n"
     ]
    },
    {
     "name": "stdout",
     "output_type": "stream",
     "text": [
      "CPU times: user 1h 23min 39s, sys: 9min 14s, total: 1h 32min 54s\n",
      "Wall time: 19h 11min 15s\n"
     ]
    }
   ],
   "source": [
    "%%time\n",
    "aida_results = aida_input_bag\\\n",
    "    .map(json.dumps)\\\n",
    "    .to_textfiles(\n",
    "        f\"s3://processed-canonical-data/entities/aida-output/GDL/*.bz2\",\n",
    "        storage_options=IMPRESSO_STORAGEOPT\n",
    "    )"
   ]
  }
 ],
 "metadata": {
  "kernelspec": {
   "display_name": "Python 3",
   "language": "python",
   "name": "python3"
  },
  "language_info": {
   "codemirror_mode": {
    "name": "ipython",
    "version": 3
   },
   "file_extension": ".py",
   "mimetype": "text/x-python",
   "name": "python",
   "nbconvert_exporter": "python",
   "pygments_lexer": "ipython3",
   "version": "3.6.7"
  },
  "toc": {
   "base_numbering": 1,
   "nav_menu": {},
   "number_sections": true,
   "sideBar": true,
   "skip_h1_title": false,
   "title_cell": "Table of Contents",
   "title_sidebar": "Contents",
   "toc_cell": false,
   "toc_position": {
    "height": "calc(100% - 180px)",
    "left": "10px",
    "top": "150px",
    "width": "363.75px"
   },
   "toc_section_display": true,
   "toc_window_display": true
  }
 },
 "nbformat": 4,
 "nbformat_minor": 2
}
