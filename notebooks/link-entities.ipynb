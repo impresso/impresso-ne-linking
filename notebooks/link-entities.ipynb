{
 "cells": [
  {
   "cell_type": "code",
   "execution_count": 1,
   "metadata": {},
   "outputs": [],
   "source": [
    "import json\n",
    "from impresso_commons.path.path_s3 import IMPRESSO_STORAGEOPT\n",
    "from impresso_images.data_utils import fixed_s3fs_glob\n",
    "from dask import bag as db\n",
    "# from tabulate import tabulate\n",
    "#import matplotlib\n",
    "#from matplotlib import pyplot as plt"
   ]
  },
  {
   "cell_type": "code",
   "execution_count": 2,
   "metadata": {},
   "outputs": [],
   "source": [
    "import os\n",
    "from dask_k8 import DaskCluster\n",
    "from dask import bag as db\n",
    "from impresso_commons.path.path_s3 import read_s3_issues\n",
    "from impresso_commons.text.rebuilder import rebuild_issues, compress, upload, cleanup"
   ]
  },
  {
   "cell_type": "code",
   "execution_count": 3,
   "metadata": {},
   "outputs": [],
   "source": [
    "import dask"
   ]
  },
  {
   "cell_type": "code",
   "execution_count": 4,
   "metadata": {},
   "outputs": [
    {
     "data": {
      "text/plain": [
       "'1.1.5'"
      ]
     },
     "execution_count": 4,
     "metadata": {},
     "output_type": "execute_result"
    }
   ],
   "source": [
    "dask.__version__"
   ]
  },
  {
   "cell_type": "markdown",
   "metadata": {},
   "source": [
    "## Set up dask kubernetes cluster"
   ]
  },
  {
   "cell_type": "code",
   "execution_count": 6,
   "metadata": {
    "code_folding": [
     0
    ]
   },
   "outputs": [],
   "source": [
    "kube_cfg = \"\"\"\n",
    "  containers:\n",
    "    - image: daskdev/dask:1.1.5\n",
    "      args: [dask-worker, $(DASK_SCHEDULER_ADDRESS), --nthreads, '1', --no-bokeh, --memory-limit, 20GB, --death-timeout, '120']\n",
    "      imagePullPolicy: Always\n",
    "      name: dask-worker\n",
    "      env:\n",
    "        - name: POD_IP\n",
    "          valueFrom:\n",
    "            fieldRef:\n",
    "              fieldPath: status.podIP\n",
    "        - name: POD_NAME\n",
    "          valueFrom:\n",
    "            fieldRef:\n",
    "              fieldPath: metadata.name\n",
    "        - name: EXTRA_PIP_PACKAGES\n",
    "          value: https://github.com/impresso/impresso-pycommons/archive/master.zip\n",
    "        - name: EXTRA_CONDA_PACKAGES\n",
    "          value:\n",
    "        - name: SE_ACCESS_KEY\n",
    "          value: {}\n",
    "        - name: SE_SECRET_KEY\n",
    "          value: {}\n",
    "      resources:\n",
    "        requests:\n",
    "          cpu: 1\n",
    "          memory: \"20G\"\n",
    "        limits:\n",
    "          cpu: 1\n",
    "          memory: \"20G\"\n",
    "      volumeMounts:\n",
    "        - mountPath: /scratch\n",
    "          name: scratch\n",
    "          subPath: romanell\n",
    "  volumes:\n",
    "    - name: scratch\n",
    "      persistentVolumeClaim:\n",
    "        claimName: dhlab-scratch\n",
    "\"\"\".format(\n",
    "    os.environ[\"SE_ACCESS_KEY\"],\n",
    "    os.environ[\"SE_SECRET_KEY\"]\n",
    ")"
   ]
  },
  {
   "cell_type": "code",
   "execution_count": 7,
   "metadata": {},
   "outputs": [],
   "source": [
    "cluster = DaskCluster(namespace=\"dhlab\", cluster_id=\"matteo-dask\", worker_pod_spec=kube_cfg)"
   ]
  },
  {
   "cell_type": "code",
   "execution_count": 8,
   "metadata": {},
   "outputs": [
    {
     "name": "stdout",
     "output_type": "stream",
     "text": [
      "Scheduler: tcp://10.90.47.27:9752\n",
      "Dashboard: http://10.90.47.27:12262\n"
     ]
    }
   ],
   "source": [
    "cluster.create()"
   ]
  },
  {
   "cell_type": "code",
   "execution_count": 8,
   "metadata": {},
   "outputs": [],
   "source": [
    "cluster.close()"
   ]
  },
  {
   "cell_type": "code",
   "execution_count": 9,
   "metadata": {},
   "outputs": [],
   "source": [
    "cluster.scale(50, blocking=False)"
   ]
  },
  {
   "cell_type": "code",
   "execution_count": 11,
   "metadata": {},
   "outputs": [
    {
     "name": "stdout",
     "output_type": "stream",
     "text": [
      "Could not connect to scheduler, retrying...\n",
      "Could not connect to scheduler, retrying...\n"
     ]
    }
   ],
   "source": [
    "dask_client = cluster.make_dask_client()"
   ]
  },
  {
   "cell_type": "code",
   "execution_count": 12,
   "metadata": {},
   "outputs": [
    {
     "data": {
      "text/html": [
       "<table style=\"border: 2px solid white;\">\n",
       "<tr>\n",
       "<td style=\"vertical-align: top; border: 0px solid white\">\n",
       "<h3>Client</h3>\n",
       "<ul>\n",
       "  <li><b>Scheduler: </b>tcp://10.90.47.11:24379\n",
       "  <li><b>Dashboard: </b><a href='http://10.90.47.11:8787/status' target='_blank'>http://10.90.47.11:8787/status</a>\n",
       "</ul>\n",
       "</td>\n",
       "<td style=\"vertical-align: top; border: 0px solid white\">\n",
       "<h3>Cluster</h3>\n",
       "<ul>\n",
       "  <li><b>Workers: </b>7</li>\n",
       "  <li><b>Cores: </b>7</li>\n",
       "  <li><b>Memory: </b>140.00 GB</li>\n",
       "</ul>\n",
       "</td>\n",
       "</tr>\n",
       "</table>"
      ],
      "text/plain": [
       "<Client: scheduler='tcp://10.233.76.72:8786' processes=7 cores=7>"
      ]
     },
     "execution_count": 12,
     "metadata": {},
     "output_type": "execute_result"
    }
   ],
   "source": [
    "dask_client"
   ]
  },
  {
   "cell_type": "markdown",
   "metadata": {},
   "source": [
    "## Process named entity mentions"
   ]
  },
  {
   "cell_type": "code",
   "execution_count": 13,
   "metadata": {},
   "outputs": [],
   "source": [
    "files = []\n",
    "\n",
    "nps = ['GDL']\n",
    "\n",
    "for np in nps:\n",
    "    files += fixed_s3fs_glob(f\"s3://processed-canonical-data/ne_mentions/{np}/18*.jsonl.bz2\")"
   ]
  },
  {
   "cell_type": "code",
   "execution_count": 14,
   "metadata": {},
   "outputs": [
    {
     "data": {
      "text/plain": [
       "10"
      ]
     },
     "execution_count": 14,
     "metadata": {},
     "output_type": "execute_result"
    }
   ],
   "source": [
    "len(files)"
   ]
  },
  {
   "cell_type": "code",
   "execution_count": 15,
   "metadata": {},
   "outputs": [],
   "source": [
    "bag = db.read_text(\n",
    "    files,\n",
    "    storage_options=IMPRESSO_STORAGEOPT\n",
    ").map(json.loads).persist()"
   ]
  },
  {
   "cell_type": "code",
   "execution_count": 65,
   "metadata": {},
   "outputs": [
    {
     "data": {
      "text/html": [
       "<div>\n",
       "<style scoped>\n",
       "    .dataframe tbody tr th:only-of-type {\n",
       "        vertical-align: middle;\n",
       "    }\n",
       "\n",
       "    .dataframe tbody tr th {\n",
       "        vertical-align: top;\n",
       "    }\n",
       "\n",
       "    .dataframe thead th {\n",
       "        text-align: right;\n",
       "    }\n",
       "</style>\n",
       "<table border=\"1\" class=\"dataframe\">\n",
       "  <thead>\n",
       "    <tr style=\"text-align: right;\">\n",
       "      <th></th>\n",
       "      <th>id</th>\n",
       "      <th>nes</th>\n",
       "      <th>s3v</th>\n",
       "      <th>sys_id</th>\n",
       "      <th>ts</th>\n",
       "    </tr>\n",
       "  </thead>\n",
       "  <tbody>\n",
       "    <tr>\n",
       "      <th>0</th>\n",
       "      <td>GDL-1805-02-01-a-i0003</td>\n",
       "      <td>[{'type': 'Location', 'subType': 'countryName'...</td>\n",
       "      <td>null</td>\n",
       "      <td>rb</td>\n",
       "      <td>2019-01-24T16:09:24Z</td>\n",
       "    </tr>\n",
       "    <tr>\n",
       "      <th>1</th>\n",
       "      <td>GDL-1888-06-19-a-i0004</td>\n",
       "      <td>[{'type': 'Person', 'surface': 'Gazelle de Lau...</td>\n",
       "      <td>null</td>\n",
       "      <td>rb</td>\n",
       "      <td>2019-01-24T17:42:55Z</td>\n",
       "    </tr>\n",
       "    <tr>\n",
       "      <th>2</th>\n",
       "      <td>GDL-1970-06-10-a-i0214</td>\n",
       "      <td>[{'type': 'Location', 'subType': 'countryName'...</td>\n",
       "      <td>null</td>\n",
       "      <td>rb</td>\n",
       "      <td>2019-01-24T21:01:30Z</td>\n",
       "    </tr>\n",
       "    <tr>\n",
       "      <th>3</th>\n",
       "      <td>GDL-1980-06-23-a-i0052</td>\n",
       "      <td>[{'type': 'Location', 'subType': 'adminUnit', ...</td>\n",
       "      <td>null</td>\n",
       "      <td>rb</td>\n",
       "      <td>2019-01-24T21:46:15Z</td>\n",
       "    </tr>\n",
       "    <tr>\n",
       "      <th>4</th>\n",
       "      <td>GDL-1984-01-27-a-i0157</td>\n",
       "      <td>[{'type': 'Location', 'subType': 'countryName'...</td>\n",
       "      <td>null</td>\n",
       "      <td>rb</td>\n",
       "      <td>2019-01-24T22:07:44Z</td>\n",
       "    </tr>\n",
       "  </tbody>\n",
       "</table>\n",
       "</div>"
      ],
      "text/plain": [
       "                       id                                                nes  \\\n",
       "0  GDL-1805-02-01-a-i0003  [{'type': 'Location', 'subType': 'countryName'...   \n",
       "1  GDL-1888-06-19-a-i0004  [{'type': 'Person', 'surface': 'Gazelle de Lau...   \n",
       "2  GDL-1970-06-10-a-i0214  [{'type': 'Location', 'subType': 'countryName'...   \n",
       "3  GDL-1980-06-23-a-i0052  [{'type': 'Location', 'subType': 'adminUnit', ...   \n",
       "4  GDL-1984-01-27-a-i0157  [{'type': 'Location', 'subType': 'countryName'...   \n",
       "\n",
       "    s3v sys_id                    ts  \n",
       "0  null     rb  2019-01-24T16:09:24Z  \n",
       "1  null     rb  2019-01-24T17:42:55Z  \n",
       "2  null     rb  2019-01-24T21:01:30Z  \n",
       "3  null     rb  2019-01-24T21:46:15Z  \n",
       "4  null     rb  2019-01-24T22:07:44Z  "
      ]
     },
     "execution_count": 65,
     "metadata": {},
     "output_type": "execute_result"
    }
   ],
   "source": [
    "mentions_df.head()"
   ]
  },
  {
   "cell_type": "code",
   "execution_count": 16,
   "metadata": {},
   "outputs": [
    {
     "data": {
      "text/plain": [
       "42763"
      ]
     },
     "execution_count": 16,
     "metadata": {},
     "output_type": "execute_result"
    }
   ],
   "source": [
    "bag.count().compute()"
   ]
  },
  {
   "cell_type": "code",
   "execution_count": 20,
   "metadata": {
    "collapsed": true
   },
   "outputs": [
    {
     "data": {
      "text/plain": [
       "({'id': 'GDL-1809-06-02-a-i0002',\n",
       "  's3v': 'null',\n",
       "  'ts': '2019-01-24T16:14:04Z',\n",
       "  'sys_id': 'rb',\n",
       "  'nes': [{'type': 'Location',\n",
       "    'subType': 'provinceCapital',\n",
       "    'surface': 'Schwarzenberg',\n",
       "    'name': 'Schwarzenberg',\n",
       "    'lOffset': 49,\n",
       "    'rOffset': 62},\n",
       "   {'type': 'Location',\n",
       "    'subType': 'countryName',\n",
       "    'surface': 'Autriche',\n",
       "    'name': 'Autriche',\n",
       "    'lOffset': 78,\n",
       "    'rOffset': 86},\n",
       "   {'type': 'Location',\n",
       "    'subType': 'countryName',\n",
       "    'surface': 'Suède',\n",
       "    'name': 'Suède',\n",
       "    'lOffset': 126,\n",
       "    'rOffset': 131},\n",
       "   {'type': 'Location',\n",
       "    'subType': 'countryName',\n",
       "    'surface': 'Suède',\n",
       "    'name': 'Suède',\n",
       "    'lOffset': 246,\n",
       "    'rOffset': 251},\n",
       "   {'type': 'Location',\n",
       "    'subType': 'adminUnit',\n",
       "    'surface': 'France',\n",
       "    'name': 'France',\n",
       "    'lOffset': 293,\n",
       "    'rOffset': 299},\n",
       "   {'type': 'Location',\n",
       "    'subType': 'countryName',\n",
       "    'surface': 'Russie',\n",
       "    'name': 'Russie',\n",
       "    'lOffset': 306,\n",
       "    'rOffset': 312},\n",
       "   {'type': 'Location',\n",
       "    'subType': 'countryName',\n",
       "    'surface': 'Suède',\n",
       "    'name': 'Suède',\n",
       "    'lOffset': 434,\n",
       "    'rOffset': 439},\n",
       "   {'type': 'Location',\n",
       "    'subType': 'countryName',\n",
       "    'surface': 'Finlande',\n",
       "    'name': 'Finlande',\n",
       "    'lOffset': 490,\n",
       "    'rOffset': 498},\n",
       "   {'type': 'Location',\n",
       "    'subType': 'countryName',\n",
       "    'surface': 'Russie',\n",
       "    'name': 'Russie',\n",
       "    'lOffset': 507,\n",
       "    'rOffset': 513},\n",
       "   {'type': 'Person',\n",
       "    'surface': 'M. Short',\n",
       "    'name': 'M. Short',\n",
       "    'firstname': 'M.',\n",
       "    'surname': 'Short',\n",
       "    'lOffset': 605,\n",
       "    'rOffset': 613,\n",
       "    'mrule': 'person1_basic_initials_1_passed',\n",
       "    'confidence': 'medium'},\n",
       "   {'type': 'Person',\n",
       "    'surface': 'comte Fedor Petrowitsch',\n",
       "    'name': 'Fedor Petrowitsch',\n",
       "    'firstname': 'Fedor',\n",
       "    'surname': 'Petrowitsch',\n",
       "    'lOffset': 683,\n",
       "    'rOffset': 706,\n",
       "    'title': 'comte',\n",
       "    'mrule': 'person2_title_pre_4_stw_passed',\n",
       "    'confidence': 'low'},\n",
       "   {'type': 'Location',\n",
       "    'subType': 'provinceCapital',\n",
       "    'surface': 'Schwarzenberg',\n",
       "    'name': 'Schwarzenberg',\n",
       "    'lOffset': 905,\n",
       "    'rOffset': 918},\n",
       "   {'type': 'Location',\n",
       "    'subType': 'countryName',\n",
       "    'surface': 'Autriche',\n",
       "    'name': 'Autriche',\n",
       "    'lOffset': 934,\n",
       "    'rOffset': 942},\n",
       "   {'type': 'Person',\n",
       "    'surface': 'S. Exe',\n",
       "    'name': 'S. Exe',\n",
       "    'firstname': 'S.',\n",
       "    'surname': 'Exe',\n",
       "    'lOffset': 966,\n",
       "    'rOffset': 972,\n",
       "    'mrule': 'person1_basic_initials_1_passed',\n",
       "    'confidence': 'medium'}]},)"
      ]
     },
     "execution_count": 20,
     "metadata": {},
     "output_type": "execute_result"
    }
   ],
   "source": [
    "bag.take(1)"
   ]
  },
  {
   "cell_type": "code",
   "execution_count": 17,
   "metadata": {},
   "outputs": [],
   "source": [
    "grouped_mentions = bag.groupby(lambda r: f\"{r['id'].split('-')[0]}-{r['id'].split('-')[1]}\")"
   ]
  },
  {
   "cell_type": "code",
   "execution_count": 59,
   "metadata": {},
   "outputs": [],
   "source": [
    "np = 'GDL'\n",
    "year = 1888\n",
    "rebuilt_path = f\"s3://canonical-rebuilt/{np}/{np}-{year}.jsonl.bz2\"\n",
    "rebuilt_data = db.read_text(\n",
    "    rebuilt_path,\n",
    "    storage_options=IMPRESSO_STORAGEOPT\n",
    ").map(json.loads).persist()"
   ]
  },
  {
   "cell_type": "code",
   "execution_count": 60,
   "metadata": {},
   "outputs": [],
   "source": [
    "joined_bag = bag.join(rebuilt_data, lambda x: x['id'], lambda y: y['id']).persist()"
   ]
  },
  {
   "cell_type": "code",
   "execution_count": 61,
   "metadata": {},
   "outputs": [],
   "source": [
    "w = joined_bag.map(lambda x: (x[1]['nes'], x[0]['ft'])).compute()"
   ]
  },
  {
   "cell_type": "code",
   "execution_count": 63,
   "metadata": {
    "collapsed": true
   },
   "outputs": [
    {
     "data": {
      "text/plain": [
       "([{'type': 'Location',\n",
       "   'subType': 'provinceCapital',\n",
       "   'surface': 'CANTON',\n",
       "   'name': 'CANTON',\n",
       "   'lOffset': 0,\n",
       "   'rOffset': 6},\n",
       "  {'type': 'Location',\n",
       "   'subType': 'provinceCapital',\n",
       "   'surface': 'Vevey',\n",
       "   'name': 'Vevey',\n",
       "   'lOffset': 173,\n",
       "   'rOffset': 178},\n",
       "  {'type': 'Location',\n",
       "   'subType': 'adminUnit',\n",
       "   'surface': 'MONTREUX',\n",
       "   'name': 'MONTREUX',\n",
       "   'lOffset': 247,\n",
       "   'rOffset': 255},\n",
       "  {'type': 'Location',\n",
       "   'subType': 'adminUnit',\n",
       "   'surface': 'Montreux',\n",
       "   'name': 'Montreux',\n",
       "   'lOffset': 309,\n",
       "   'rOffset': 317},\n",
       "  {'type': 'Person',\n",
       "   'surface': 'M. Louis Favez',\n",
       "   'name': 'Louis Favez',\n",
       "   'firstname': 'Louis',\n",
       "   'surname': 'Favez',\n",
       "   'lOffset': 488,\n",
       "   'rOffset': 502,\n",
       "   'title': 'M.',\n",
       "   'mrule': 'person2_title_pre_4_stw_passed',\n",
       "   'confidence': 'low'},\n",
       "  {'type': 'Person',\n",
       "   'surface': 'M. Herzog',\n",
       "   'name': 'M. Herzog',\n",
       "   'firstname': 'M.',\n",
       "   'surname': 'Herzog',\n",
       "   'lOffset': 547,\n",
       "   'rOffset': 556,\n",
       "   'mrule': 'person1_basic_initials_1_passed',\n",
       "   'confidence': 'medium'},\n",
       "  {'type': 'Location',\n",
       "   'subType': 'adminUnit',\n",
       "   'surface': 'Montreux',\n",
       "   'name': 'Montreux',\n",
       "   'lOffset': 568,\n",
       "   'rOffset': 576},\n",
       "  {'type': 'Person',\n",
       "   'surface': 'M. Berger',\n",
       "   'name': 'M. Berger',\n",
       "   'firstname': 'M.',\n",
       "   'surname': 'Berger',\n",
       "   'lOffset': 602,\n",
       "   'rOffset': 611,\n",
       "   'mrule': 'person1_basic_initials_1_passed',\n",
       "   'confidence': 'medium'},\n",
       "  {'type': 'Location',\n",
       "   'subType': 'provinceCapital',\n",
       "   'surface': 'Aigle',\n",
       "   'name': 'Aigle',\n",
       "   'lOffset': 623,\n",
       "   'rOffset': 628},\n",
       "  {'type': 'Person',\n",
       "   'functionType': 'gov',\n",
       "   'surface': 'Aimé Cherix, député',\n",
       "   'name': 'Aimé Cherix',\n",
       "   'firstname': 'Aimé',\n",
       "   'surname': 'Cherix',\n",
       "   'lOffset': 873,\n",
       "   'rOffset': 892,\n",
       "   'function': 'député',\n",
       "   'mrule': 'person2_positionApp_1_passed',\n",
       "   'confidence': 'high'},\n",
       "  {'type': 'Location',\n",
       "   'subType': 'adminUnit',\n",
       "   'surface': 'Montreux',\n",
       "   'name': 'Montreux',\n",
       "   'lOffset': 926,\n",
       "   'rOffset': 934},\n",
       "  {'type': 'Location',\n",
       "   'subType': 'adminUnit',\n",
       "   'surface': 'Montreux',\n",
       "   'name': 'Montreux',\n",
       "   'lOffset': 965,\n",
       "   'rOffset': 973},\n",
       "  {'type': 'Location',\n",
       "   'subType': 'provinceCapital',\n",
       "   'surface': 'MORGES',\n",
       "   'name': 'MORGES',\n",
       "   'lOffset': 987,\n",
       "   'rOffset': 993},\n",
       "  {'type': 'Location',\n",
       "   'subType': 'provinceCapital',\n",
       "   'surface': 'Muret',\n",
       "   'name': 'Muret',\n",
       "   'lOffset': 1832,\n",
       "   'rOffset': 1837}],\n",
       " \"CANTON DE VAilD — Quelques électeurs radicaux, réunis hier à Chillon, ont élu député au Conseil national, en remplacement de M. Ruchonnet, M. Pernoux, actuellement préfet à Vevey. La formalité dp la votation populaire aura lieu dimanche prochain. MONTREUX. — Le comité de l'Orphelinat des Alpes s'est réuni à Montreux, mercredi dernier, 11 janvier. A sa demande M. Secretan, pasteur à Bex, a été remplacé dans la direction de la société. Un successeur lui a été donné dans la personne de M. Louis Favez, pasteur à Leysin, précédemment secrétaire. M. Herzog, pasteur à Montreux, a été nommé secrétaire. M. Berger, pasteur a Aigle, s'est fait l'organe du comité pour remercier le président sortant de charge des bons services qu'il a rendus à l'œuvre qu'il a créée et qui est en pleine prospérité. Le bureau du comité est donc constitué comme suit : M. L. Favez, président ; Aimé Cherix, député, vice président ; J. Dubochet, à Montreux, caissier ; Herzog, pasteur à Montreux, secrélaire. MORGES. — On lit dans le Semeur vaudois : i Depuis quelques mois il existe dans notre ville une association scientifique et littéraire qui compte déjà une trentaine d'adhérents : instituteurs, pasteurs, professeurs, médecins, négociants, etc. La société se réunit tous les quinze jours, le vendredi soir à l'hôtel du Port. L'un des membres présente un travail qui sert de base à une conversation animée entre hommes dont les opinions peuvent différer, mais qui sont unis par le désir de s'instruire et de s'occuper ensemble du bien public. Les discussions irritantes de la politique sont bannies de ces réunions. Jusqu'ici, des travaux ont été présentés par M. le professeur Dufour, sur la trombe du 20 août 1887 ; par M. le pasteur de Perrot, sur St-Sulpice et son temple ; par M. diable, instituteur au Collège, sur Beaumarchais ; par M. Eug. Muret, sur l'histoire du café ; par M. Barblan, instituteur au Collège, sur les nouvelles méthodes pédagogiques. L'initiative de ces réunions a été prise par MM. Barblan et Carrara, instituteurs, et le succès a répondu à leurs efforts. De pareilles associations peuvent faire beaucoup de bien, en rapprochant des concitoyens qui vivent à côté les uns des autres sans se connaiire, parce que chacun d'eux se meut dans un cercle différent d'aclivité. » AVENCHES. — Mercredi dernier, deux acci dents de quelque gravité se sont produits, à Avenches. Le facteur, un excellent employé, déjà d'un certain âge, est tombé du haut d'un perron sur la chaussée et a été levé dans un piteux état. Le mémo jour, un terrassier, d'origine fribourgeoise, rentrant à la maison pris de vin, est tombé sur l'escalier de la Synagogue et s'est tué. \")"
      ]
     },
     "execution_count": 63,
     "metadata": {},
     "output_type": "execute_result"
    }
   ],
   "source": [
    "w[1]"
   ]
  },
  {
   "cell_type": "markdown",
   "metadata": {},
   "source": [
    "### try join between dataframes"
   ]
  },
  {
   "cell_type": "markdown",
   "metadata": {},
   "source": [
    "Merging between dataframes is more performant than between bags."
   ]
  },
  {
   "cell_type": "code",
   "execution_count": 76,
   "metadata": {},
   "outputs": [],
   "source": [
    "mentions_df = db.read_text(\n",
    "    files,\n",
    "    storage_options=IMPRESSO_STORAGEOPT\n",
    ").map(json.loads).to_dataframe().set_index('id')"
   ]
  },
  {
   "cell_type": "code",
   "execution_count": 78,
   "metadata": {},
   "outputs": [
    {
     "data": {
      "text/plain": [
       "Dask Index Structure:\n",
       "npartitions=10\n",
       "GDL-1798-02-01-a-i0001    object\n",
       "GDL-1887-05-13-a-i0020       ...\n",
       "                           ...  \n",
       "GDL-1992-05-26-a-i0218       ...\n",
       "GDL-1997-12-31-a-i0031       ...\n",
       "Name: id, dtype: object\n",
       "Dask Name: sort_index, 230 tasks"
      ]
     },
     "execution_count": 78,
     "metadata": {},
     "output_type": "execute_result"
    }
   ],
   "source": [
    "mentions_df.index"
   ]
  },
  {
   "cell_type": "code",
   "execution_count": 79,
   "metadata": {},
   "outputs": [],
   "source": [
    "rebuilt_path = f\"s3://canonical-rebuilt/{np}/{np}-18*.jsonl.bz2\"\n",
    "rebuilt_df = db.read_text(\n",
    "    rebuilt_path,\n",
    "    storage_options=IMPRESSO_STORAGEOPT\n",
    ").map(json.loads).persist().to_dataframe().set_index('id')"
   ]
  },
  {
   "cell_type": "code",
   "execution_count": 80,
   "metadata": {},
   "outputs": [
    {
     "data": {
      "text/plain": [
       "Dask Index Structure:\n",
       "npartitions=96\n",
       "GDL-1804-01-03-a-i0001    object\n",
       "GDL-1805-01-01-a-i0001       ...\n",
       "                           ...  \n",
       "GDL-1899-01-03-a-i0001       ...\n",
       "GDL-1899-12-30-a-i0085       ...\n",
       "Name: id, dtype: object\n",
       "Dask Name: sort_index, 480 tasks"
      ]
     },
     "execution_count": 80,
     "metadata": {},
     "output_type": "execute_result"
    }
   ],
   "source": [
    "rebuilt_df.index"
   ]
  },
  {
   "cell_type": "code",
   "execution_count": 83,
   "metadata": {},
   "outputs": [],
   "source": [
    "merged_dfs = mentions_df.merge(rebuilt_df, left_index=True, right_index=True)"
   ]
  },
  {
   "cell_type": "code",
   "execution_count": 130,
   "metadata": {},
   "outputs": [],
   "source": [
    "merged_bag = merged_dfs[['ft', 'nes', 'sys_id']].to_bag(index=True).persist()"
   ]
  },
  {
   "cell_type": "code",
   "execution_count": 158,
   "metadata": {},
   "outputs": [],
   "source": [
    "def prepare_input(ci_id, fulltext, mentions, system_id):\n",
    "    start = 0\n",
    "    prepared_input = \"\"\n",
    "    for mention in mentions:\n",
    "        prepared_input += fulltext[start:mention['lOffset']]\n",
    "        prepared_input += f\"[[{fulltext[mention['lOffset']:mention['rOffset']]}]]\"\n",
    "        start = mention['rOffset']\n",
    "    return {\n",
    "        \"id\": ci_id,\n",
    "        \"ft\": fulltext,\n",
    "        \"input\": prepared_input,\n",
    "        \"nes\": mentions,\n",
    "        \"sys_id\": system_id\n",
    "    }\n",
    "        "
   ]
  },
  {
   "cell_type": "code",
   "execution_count": 163,
   "metadata": {},
   "outputs": [],
   "source": [
    "prepared_input = merged_bag.starmap(prepare_input).persist()"
   ]
  },
  {
   "cell_type": "markdown",
   "metadata": {},
   "source": [
    "## try disambiguating"
   ]
  },
  {
   "cell_type": "markdown",
   "metadata": {},
   "source": [
    "**NB**: `findExtractedMentions()` doesn't seem to work when the character preceding a mention is an apostrophe (e.g. l'[[Egypte]])."
   ]
  },
  {
   "cell_type": "code",
   "execution_count": 170,
   "metadata": {},
   "outputs": [],
   "source": [
    "from py4j.java_gateway import JavaGateway\n",
    "gateway = JavaGateway()\n",
    "\n",
    "aida_server = gateway.entry_point.getAida()"
   ]
  },
  {
   "cell_type": "code",
   "execution_count": 214,
   "metadata": {},
   "outputs": [],
   "source": [
    "x = prepared_input.take(21, npartitions=100)[-1]"
   ]
  },
  {
   "cell_type": "code",
   "execution_count": 215,
   "metadata": {},
   "outputs": [],
   "source": [
    "test_sentence = x['input']"
   ]
  },
  {
   "cell_type": "code",
   "execution_count": 216,
   "metadata": {},
   "outputs": [
    {
     "data": {
      "text/plain": [
       "\"RÉPUBLIQUE [[SUISSE]]. De St. Gall, le 28 juillet. L'on recommence de nouveau, d'après le système ifincamération trichienne-, à procéder contre toutes les propriétés helvétiques situées de l'autre côté du Rhin, & déjà les possessions des communes du Rheinthal, qui sont d'une valeur très-considérable, viennent d'être séquestrées. De Berne, le 29 juillet. Parmi le grand nombre de voyageurs de marque qui ont passé ici, l'on distingue le général Sebastiani, connu par son rapport sur l'[[Egypte]]. Il n'a fait qu'un très-petit séjour dans notre ville, qu'il a en majeure partie . passé chez son excellence le ministre français. Il y a eu en outre plusieurs suédois, danois & allemands, qui tous sont allés voir l'institut de Pestalozzi, à Bouchsée. — Dans la séance de la diète du 14, à l'occasion de la discussion sur les troubles du canton de [[Zurich]], la proposition de faire une loi organique en explication du 20. art. de fafte de médiation, a été mise à l'ordre du jour. Cet article est de la teneur suivante : •, 5 En cas de révolte dans l'intérieur d'un canton, ou de tout autre besoin pressant, le landaman fait marcher des troupes d'un canton à l'autre, mais seulement sur la demande du grand ou du petit conseil du canton qui réclame des secours, & après avoir pris l'avis du petit-conseil du canton directeur, sauf à convoquer la diète après la répression des hostilités, ou si le danger continue ,,. — Mais comme il n'a pas été question de cet objet dans la compétence du. landamman, presque toutes les députations, à l'exception de celles des nouveaux cantons, se trouvaient sans instructions. Les députés d'Uri, d'Unterwalden, [[Fribourg]]\""
      ]
     },
     "execution_count": 216,
     "metadata": {},
     "output_type": "execute_result"
    }
   ],
   "source": [
    "x['input']"
   ]
  },
  {
   "cell_type": "code",
   "execution_count": 217,
   "metadata": {},
   "outputs": [],
   "source": [
    "mentions = gateway.entry_point.findExtractedMentions(test_sentence)\n",
    "annotations = aida_server.disambiguate(test_sentence, mentions, \"fullSettings\")"
   ]
  },
  {
   "cell_type": "code",
   "execution_count": 218,
   "metadata": {},
   "outputs": [
    {
     "name": "stdout",
     "output_type": "stream",
     "text": [
      "Zurich http://en.wikipedia.org/wiki/Zürich\n",
      "SUISSE http://en.wikipedia.org/wiki/Suisse,_Moselle\n",
      "Fribourg http://en.wikipedia.org/wiki/Fribourg\n"
     ]
    }
   ],
   "source": [
    "for mention in annotations.keySet():\n",
    "    wikipedia_entity_id = f\"http://en.wikipedia.org/wiki/{annotations.get(mention).getName()}\"\n",
    "    print(mention.getMention(), wikipedia_entity_id)"
   ]
  },
  {
   "cell_type": "code",
   "execution_count": 166,
   "metadata": {},
   "outputs": [
    {
     "data": {
      "text/plain": [
       "4990"
      ]
     },
     "execution_count": 166,
     "metadata": {},
     "output_type": "execute_result"
    }
   ],
   "source": [
    "prepared_input.count().compute()"
   ]
  },
  {
   "cell_type": "code",
   "execution_count": 220,
   "metadata": {},
   "outputs": [],
   "source": [
    "cluster.close()"
   ]
  },
  {
   "cell_type": "markdown",
   "metadata": {},
   "source": [
    "## Olf stuff"
   ]
  },
  {
   "cell_type": "code",
   "execution_count": 214,
   "metadata": {},
   "outputs": [],
   "source": [
    "data = bag.pluck('i')\\\n",
    "    .flatten()\\\n",
    "    .map(lambda x: {\n",
    "        'id': x['m']['id'],\n",
    "        'lang': x['m']['l'] if 'l' in x['m'] else None,\n",
    "        'type': x['m']['tp'],\n",
    "        'year': int(x['m']['id'].split('-')[1]),\n",
    "        'newspaper': x['m']['id'].split('-')[0]\n",
    "    })\\\n",
    "    .persist()"
   ]
  },
  {
   "cell_type": "code",
   "execution_count": 215,
   "metadata": {},
   "outputs": [],
   "source": [
    "df = data.to_dataframe()"
   ]
  },
  {
   "cell_type": "code",
   "execution_count": 216,
   "metadata": {},
   "outputs": [],
   "source": [
    "future, n_col = df.shape"
   ]
  },
  {
   "cell_type": "code",
   "execution_count": 217,
   "metadata": {},
   "outputs": [
    {
     "data": {
      "text/plain": [
       "2088386"
      ]
     },
     "execution_count": 217,
     "metadata": {},
     "output_type": "execute_result"
    }
   ],
   "source": [
    "future.compute()"
   ]
  },
  {
   "cell_type": "code",
   "execution_count": 218,
   "metadata": {},
   "outputs": [
    {
     "name": "stdout",
     "output_type": "stream",
     "text": [
      "| newspaper   |   content item count |\n",
      "|-------------|----------------------|\n",
      "| luxwort     |          1.19195e+06 |\n",
      "| indeplux    |     764854           |\n",
      "| armeteufel  |      20968           |\n",
      "| courriergdl |      76922           |\n",
      "| diekwochen  |       8239           |\n",
      "| luxzeit1858 |      14216           |\n",
      "| onsjongen   |      11233           |\n"
     ]
    }
   ],
   "source": [
    "print(tabulate(\n",
    "        df.groupby('newspaper')[['id']].count().compute(),\n",
    "        tablefmt='github',\n",
    "        headers=['newspaper', 'content item count']\n",
    "))"
   ]
  },
  {
   "cell_type": "code",
   "execution_count": 222,
   "metadata": {},
   "outputs": [
    {
     "name": "stdout",
     "output_type": "stream",
     "text": [
      "|-----------------------|--------|\n",
      "| ('luxwort', 'fr')     |  28279 |\n",
      "| ('luxwort', 'de')     | 631154 |\n",
      "| ('luxwort', 'nl')     |     16 |\n",
      "| ('luxwort', 'fi')     |      7 |\n",
      "| ('luxwort', 'da')     |      2 |\n",
      "| ('luxwort', 'pt')     |      1 |\n",
      "| ('luxwort', 'lb')     |    415 |\n",
      "| ('luxwort', 'en')     |     39 |\n",
      "| ('indeplux', 'de')    |   9145 |\n",
      "| ('indeplux', 'fr')    | 566572 |\n",
      "| ('armeteufel', 'de')  |  13637 |\n",
      "| ('armeteufel', 'fr')  |      1 |\n",
      "| ('courriergdl', 'de') |   2437 |\n",
      "| ('courriergdl', 'fr') |  48450 |\n",
      "| ('diekwochen', 'de')  |   6864 |\n",
      "| ('diekwochen', 'fr')  |    228 |\n",
      "| ('diekwochen', 'lb')  |    137 |\n",
      "| ('luxzeit1858', 'de') |   3620 |\n",
      "| ('luxzeit1858', 'fr') |   5313 |\n",
      "| ('luxzeit1858', 'lb') |    328 |\n",
      "| ('onsjongen', 'de')   |   2534 |\n",
      "| ('onsjongen', 'fr')   |    719 |\n",
      "| ('onsjongen', 'lb')   |   1298 |\n",
      "| ('onsjongen', 'en')   |      2 |\n"
     ]
    },
    {
     "name": "stderr",
     "output_type": "stream",
     "text": [
      "distributed.client - ERROR - Failed to reconnect to scheduler after 10.00 seconds, closing client\n",
      "distributed.client - ERROR - Failed to reconnect to scheduler after 10.00 seconds, closing client\n",
      "distributed.client - ERROR - Failed to reconnect to scheduler after 10.00 seconds, closing client\n",
      "distributed.client - ERROR - Failed to reconnect to scheduler after 10.00 seconds, closing client\n",
      "distributed.client - ERROR - Failed to reconnect to scheduler after 10.00 seconds, closing client\n",
      "distributed.client - ERROR - Failed to reconnect to scheduler after 10.00 seconds, closing client\n",
      "distributed.client - ERROR - Failed to reconnect to scheduler after 10.00 seconds, closing client\n",
      "distributed.client - ERROR - Failed to reconnect to scheduler after 10.00 seconds, closing client\n",
      "distributed.client - ERROR - Failed to reconnect to scheduler after 10.00 seconds, closing client\n",
      "distributed.client - ERROR - Failed to reconnect to scheduler after 10.00 seconds, closing client\n",
      "distributed.client - ERROR - Failed to reconnect to scheduler after 10.00 seconds, closing client\n",
      "distributed.client - ERROR - Failed to reconnect to scheduler after 10.00 seconds, closing client\n",
      "distributed.client - ERROR - Failed to reconnect to scheduler after 10.00 seconds, closing client\n",
      "distributed.client - ERROR - Failed to reconnect to scheduler after 10.00 seconds, closing client\n",
      "distributed.client - ERROR - Failed to reconnect to scheduler after 10.00 seconds, closing client\n",
      "distributed.client - ERROR - Failed to reconnect to scheduler after 10.00 seconds, closing client\n",
      "distributed.client - ERROR - Failed to reconnect to scheduler after 10.00 seconds, closing client\n",
      "distributed.client - ERROR - Failed to reconnect to scheduler after 10.00 seconds, closing client\n",
      "distributed.client - ERROR - Failed to reconnect to scheduler after 10.00 seconds, closing client\n"
     ]
    }
   ],
   "source": [
    "print(tabulate(\n",
    "        df.groupby(['newspaper', 'lang'])[['type']].count().compute(),\n",
    "        tablefmt='github',\n",
    "))"
   ]
  },
  {
   "cell_type": "code",
   "execution_count": 147,
   "metadata": {},
   "outputs": [
    {
     "name": "stdout",
     "output_type": "stream",
     "text": [
      "| content item type   |           count |\n",
      "|---------------------|-----------------|\n",
      "| ad                  | 598016          |\n",
      "| article             |      1.3212e+06 |\n",
      "| death_notice        |  88925          |\n",
      "| table               |  43221          |\n",
      "| image               |  35266          |\n",
      "| weather             |   1760          |\n"
     ]
    }
   ],
   "source": [
    "print(tabulate(\n",
    "        df.groupby('type')[['type']].count().compute(),\n",
    "        tablefmt='github',\n",
    "        headers=['content item type','count']\n",
    "))"
   ]
  },
  {
   "cell_type": "code",
   "execution_count": 192,
   "metadata": {},
   "outputs": [],
   "source": [
    "np_by_year = df.groupby('year')[['year']].count().compute()"
   ]
  },
  {
   "cell_type": "code",
   "execution_count": 204,
   "metadata": {},
   "outputs": [
    {
     "data": {
      "text/plain": [
       "<BarContainer object of 111 artists>"
      ]
     },
     "execution_count": 204,
     "metadata": {},
     "output_type": "execute_result"
    },
    {
     "data": {
      "image/png": "[encoded data removed]",
      "text/plain": [
       "<Figure size 432x288 with 1 Axes>"
      ]
     },
     "metadata": {
      "needs_background": "light"
     },
     "output_type": "display_data"
    }
   ],
   "source": [
    "plt.bar(np_by_year.index, np_by_year.year)"
   ]
  }
 ],
 "metadata": {
  "kernelspec": {
   "display_name": "Python 3",
   "language": "python",
   "name": "python3"
  },
  "language_info": {
   "codemirror_mode": {
    "name": "ipython",
    "version": 3
   },
   "file_extension": ".py",
   "mimetype": "text/x-python",
   "name": "python",
   "nbconvert_exporter": "python",
   "pygments_lexer": "ipython3",
   "version": "3.6.7"
  },
  "toc": {
   "base_numbering": 1,
   "nav_menu": {},
   "number_sections": true,
   "sideBar": true,
   "skip_h1_title": false,
   "title_cell": "Table of Contents",
   "title_sidebar": "Contents",
   "toc_cell": false,
   "toc_position": {},
   "toc_section_display": true,
   "toc_window_display": true
  }
 },
 "nbformat": 4,
 "nbformat_minor": 2
}
