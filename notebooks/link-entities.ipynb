{
 "cells": [
  {
   "cell_type": "code",
   "execution_count": 1,
   "metadata": {},
   "outputs": [],
   "source": [
    "import json\n",
    "from impresso_commons.path.path_s3 import IMPRESSO_STORAGEOPT\n",
    "from impresso_images.data_utils import fixed_s3fs_glob\n",
    "from dask import bag as db\n",
    "# from tabulate import tabulate\n",
    "#import matplotlib\n",
    "#from matplotlib import pyplot as plt"
   ]
  },
  {
   "cell_type": "code",
   "execution_count": 2,
   "metadata": {},
   "outputs": [],
   "source": [
    "import os\n",
    "from dask_k8 import DaskCluster\n",
    "from dask import bag as db\n",
    "from impresso_commons.path.path_s3 import read_s3_issues\n",
    "from impresso_commons.text.rebuilder import rebuild_issues, compress, upload, cleanup"
   ]
  },
  {
   "cell_type": "code",
   "execution_count": 3,
   "metadata": {},
   "outputs": [],
   "source": [
    "import dask"
   ]
  },
  {
   "cell_type": "code",
   "execution_count": 4,
   "metadata": {},
   "outputs": [
    {
     "data": {
      "text/plain": [
       "'1.1.5'"
      ]
     },
     "execution_count": 4,
     "metadata": {},
     "output_type": "execute_result"
    }
   ],
   "source": [
    "dask.__version__"
   ]
  },
  {
   "cell_type": "markdown",
   "metadata": {},
   "source": [
    "## Set up dask kubernetes cluster"
   ]
  },
  {
   "cell_type": "code",
   "execution_count": 49,
   "metadata": {
    "code_folding": [
     38
    ]
   },
   "outputs": [],
   "source": [
    "kube_cfg = \"\"\"\n",
    "  containers:\n",
    "    - image: daskdev/dask:1.1.5\n",
    "      args: [dask-worker, $(DASK_SCHEDULER_ADDRESS), --nthreads, '1', --no-bokeh, --memory-limit, 20GB, --death-timeout, '120']\n",
    "      imagePullPolicy: Always\n",
    "      name: dask-worker\n",
    "      env:\n",
    "        - name: POD_IP\n",
    "          valueFrom:\n",
    "            fieldRef:\n",
    "              fieldPath: status.podIP\n",
    "        - name: POD_NAME\n",
    "          valueFrom:\n",
    "            fieldRef:\n",
    "              fieldPath: metadata.name\n",
    "        - name: EXTRA_PIP_PACKAGES\n",
    "          value: https://github.com/impresso/impresso-pycommons/archive/master.zip\n",
    "        - name: EXTRA_CONDA_PACKAGES\n",
    "          value:\n",
    "        - name: SE_ACCESS_KEY\n",
    "          value: {}\n",
    "        - name: SE_SECRET_KEY\n",
    "          value: {}\n",
    "      resources:\n",
    "        requests:\n",
    "          cpu: 1\n",
    "          memory: \"20G\"\n",
    "        limits:\n",
    "          cpu: 1\n",
    "          memory: \"20G\"\n",
    "      volumeMounts:\n",
    "        - mountPath: /scratch\n",
    "          name: scratch\n",
    "          subPath: romanell\n",
    "  volumes:\n",
    "    - name: scratch\n",
    "      persistentVolumeClaim:\n",
    "        claimName: dhlab-scratch\n",
    "\"\"\".format(\n",
    "    os.environ[\"SE_ACCESS_KEY\"],\n",
    "    os.environ[\"SE_SECRET_KEY\"]\n",
    ")"
   ]
  },
  {
   "cell_type": "code",
   "execution_count": 53,
   "metadata": {},
   "outputs": [],
   "source": [
    "cluster = DaskCluster(namespace=\"dhlab\", cluster_id=\"matteo-entity-linking\", worker_pod_spec=kube_cfg)"
   ]
  },
  {
   "cell_type": "code",
   "execution_count": 54,
   "metadata": {},
   "outputs": [
    {
     "name": "stdout",
     "output_type": "stream",
     "text": [
      "Scheduler: tcp://10.90.47.20:30758\n",
      "Dashboard: http://10.90.47.20:7596\n"
     ]
    }
   ],
   "source": [
    "cluster.create()"
   ]
  },
  {
   "cell_type": "code",
   "execution_count": 51,
   "metadata": {},
   "outputs": [],
   "source": [
    "cluster.close()"
   ]
  },
  {
   "cell_type": "code",
   "execution_count": 55,
   "metadata": {},
   "outputs": [],
   "source": [
    "cluster.scale(100, blocking=False)"
   ]
  },
  {
   "cell_type": "code",
   "execution_count": 56,
   "metadata": {},
   "outputs": [],
   "source": [
    "dask_client = cluster.make_dask_client()"
   ]
  },
  {
   "cell_type": "code",
   "execution_count": 69,
   "metadata": {},
   "outputs": [
    {
     "data": {
      "text/html": [
       "<table style=\"border: 2px solid white;\">\n",
       "<tr>\n",
       "<td style=\"vertical-align: top; border: 0px solid white\">\n",
       "<h3>Client</h3>\n",
       "<ul>\n",
       "  <li><b>Scheduler: </b>tcp://10.90.47.20:30758\n",
       "  <li><b>Dashboard: </b><a href='http://10.90.47.20:8787/status' target='_blank'>http://10.90.47.20:8787/status</a>\n",
       "</ul>\n",
       "</td>\n",
       "<td style=\"vertical-align: top; border: 0px solid white\">\n",
       "<h3>Cluster</h3>\n",
       "<ul>\n",
       "  <li><b>Workers: </b>50</li>\n",
       "  <li><b>Cores: </b>50</li>\n",
       "  <li><b>Memory: </b>1000.00 GB</li>\n",
       "</ul>\n",
       "</td>\n",
       "</tr>\n",
       "</table>"
      ],
      "text/plain": [
       "<Client: scheduler='tcp://10.233.70.51:8786' processes=50 cores=50>"
      ]
     },
     "execution_count": 69,
     "metadata": {},
     "output_type": "execute_result"
    }
   ],
   "source": [
    "dask_client"
   ]
  },
  {
   "cell_type": "markdown",
   "metadata": {},
   "source": [
    "## Process named entity mentions"
   ]
  },
  {
   "cell_type": "code",
   "execution_count": 70,
   "metadata": {},
   "outputs": [],
   "source": [
    "# files = fixed_s3fs_glob(f\"s3://processed-canonical-data/ne-mentions/public_release/*.bz2\")\n",
    "files = fixed_s3fs_glob(f\"s3://processed-canonical-data/mentions_public/*.bz2\")"
   ]
  },
  {
   "cell_type": "code",
   "execution_count": 71,
   "metadata": {},
   "outputs": [
    {
     "data": {
      "text/plain": [
       "2197"
      ]
     },
     "execution_count": 71,
     "metadata": {},
     "output_type": "execute_result"
    }
   ],
   "source": [
    "len(files)"
   ]
  },
  {
   "cell_type": "code",
   "execution_count": 72,
   "metadata": {},
   "outputs": [],
   "source": [
    "mentions_bag = db.read_text(\n",
    "    files,\n",
    "    storage_options=IMPRESSO_STORAGEOPT\n",
    ").map(json.loads).persist()"
   ]
  },
  {
   "cell_type": "code",
   "execution_count": 27,
   "metadata": {},
   "outputs": [],
   "source": [
    "dask_client.cancel(mentions_bag)"
   ]
  },
  {
   "cell_type": "code",
   "execution_count": 74,
   "metadata": {},
   "outputs": [
    {
     "data": {
      "text/plain": [
       "({'id': 'LSE-1897-09-25-a-i0032',\n",
       "  's3v': None,\n",
       "  'ts': '2019-06-17T11:00:30Z',\n",
       "  'sys_id': 'nerb-0001',\n",
       "  'nes': [{'type': 'Person',\n",
       "    'surface': 'RUE DU GRENIER',\n",
       "    'name': 'RUE DU GRENIER',\n",
       "    'firstname': 'RUE',\n",
       "    'surname': 'DU GRENIER',\n",
       "    'lOffset': 146,\n",
       "    'rOffset': 160,\n",
       "    'mrule': 'person1_basic_6_passed',\n",
       "    'confidence': 'high',\n",
       "    'id': 'LSE-1897-09-25-a-i0032:146:160:person:nerb-0001'}]},)"
      ]
     },
     "execution_count": 74,
     "metadata": {},
     "output_type": "execute_result"
    }
   ],
   "source": [
    "mentions_bag.take(1)"
   ]
  },
  {
   "cell_type": "code",
   "execution_count": 76,
   "metadata": {},
   "outputs": [
    {
     "data": {
      "text/plain": [
       "30233580"
      ]
     },
     "execution_count": 76,
     "metadata": {},
     "output_type": "execute_result"
    }
   ],
   "source": [
    "mentions_bag.count().compute()"
   ]
  },
  {
   "cell_type": "markdown",
   "metadata": {},
   "source": [
    "### try join between dataframes"
   ]
  },
  {
   "cell_type": "markdown",
   "metadata": {},
   "source": [
    "Merging between dataframes is more performant than between bags."
   ]
  },
  {
   "cell_type": "code",
   "execution_count": 77,
   "metadata": {},
   "outputs": [],
   "source": [
    "files = fixed_s3fs_glob(f\"s3://processed-canonical-data/mentions_public/*.bz2\")"
   ]
  },
  {
   "cell_type": "code",
   "execution_count": 78,
   "metadata": {},
   "outputs": [],
   "source": [
    "mentions_df = db.read_text(\n",
    "    files,\n",
    "    storage_options=IMPRESSO_STORAGEOPT\n",
    ").map(json.loads).to_dataframe().set_index('id')"
   ]
  },
  {
   "cell_type": "code",
   "execution_count": 79,
   "metadata": {},
   "outputs": [
    {
     "data": {
      "text/plain": [
       "Dask Index Structure:\n",
       "npartitions=2197\n",
       "BDC-1839-01-20-a-i0001          object\n",
       "CDV-1843-03-04-a-i0001             ...\n",
       "                                 ...  \n",
       "waeschfra-1884-01-06-a-i0016       ...\n",
       "waeschfra-1884-07-05-a-i0017       ...\n",
       "Name: id, dtype: object\n",
       "Dask Name: sort_index, 123032 tasks"
      ]
     },
     "execution_count": 79,
     "metadata": {},
     "output_type": "execute_result"
    }
   ],
   "source": [
    "mentions_df.index"
   ]
  },
  {
   "cell_type": "code",
   "execution_count": 80,
   "metadata": {},
   "outputs": [],
   "source": [
    "# s3://evenized-light-canonical-rebuilt-pubrelease\n",
    "rebuilt_files = fixed_s3fs_glob(\"s3://evenized-light-canonical-rebuilt-pubrelease/*.bz2\")\n",
    "rebuilt_df = db.read_text(\n",
    "    rebuilt_files,\n",
    "    storage_options=IMPRESSO_STORAGEOPT\n",
    ").map(json.loads).to_dataframe().set_index('id')"
   ]
  },
  {
   "cell_type": "code",
   "execution_count": 81,
   "metadata": {},
   "outputs": [
    {
     "data": {
      "text/plain": [
       "Dask Index Structure:\n",
       "npartitions=2197\n",
       "BDC-1839-01-20-a-i0001          object\n",
       "CDV-1843-02-22-a-i0019             ...\n",
       "                                 ...  \n",
       "waeschfra-1884-02-24-a-i0021       ...\n",
       "waeschfra-1884-07-05-a-i0021       ...\n",
       "Name: id, dtype: object\n",
       "Dask Name: sort_index, 123032 tasks"
      ]
     },
     "execution_count": 81,
     "metadata": {},
     "output_type": "execute_result"
    }
   ],
   "source": [
    "rebuilt_df.index"
   ]
  },
  {
   "cell_type": "code",
   "execution_count": 82,
   "metadata": {},
   "outputs": [],
   "source": [
    "merged_dfs = mentions_df.merge(rebuilt_df, left_index=True, right_index=True)"
   ]
  },
  {
   "cell_type": "code",
   "execution_count": 22,
   "metadata": {
    "collapsed": true
   },
   "outputs": [
    {
     "ename": "KeyboardInterrupt",
     "evalue": "",
     "output_type": "error",
     "traceback": [
      "\u001b[0;31m---------------------------------------------------------------------------\u001b[0m",
      "\u001b[0;31mKeyboardInterrupt\u001b[0m                         Traceback (most recent call last)",
      "\u001b[0;32m<ipython-input-22-467556ec3ecc>\u001b[0m in \u001b[0;36m<module>\u001b[0;34m\u001b[0m\n\u001b[0;32m----> 1\u001b[0;31m \u001b[0mmerged_dfs\u001b[0m\u001b[0;34m.\u001b[0m\u001b[0mhead\u001b[0m\u001b[0;34m(\u001b[0m\u001b[0;34m)\u001b[0m\u001b[0;34m\u001b[0m\u001b[0;34m\u001b[0m\u001b[0m\n\u001b[0m",
      "\u001b[0;32m~/.local/share/virtualenvs/impresso-ne-linking-3S6qaXXb/lib/python3.6/site-packages/dask/dataframe/core.py\u001b[0m in \u001b[0;36mhead\u001b[0;34m(self, n, npartitions, compute)\u001b[0m\n\u001b[1;32m    903\u001b[0m \u001b[0;34m\u001b[0m\u001b[0m\n\u001b[1;32m    904\u001b[0m         \u001b[0;32mif\u001b[0m \u001b[0mcompute\u001b[0m\u001b[0;34m:\u001b[0m\u001b[0;34m\u001b[0m\u001b[0;34m\u001b[0m\u001b[0m\n\u001b[0;32m--> 905\u001b[0;31m             \u001b[0mresult\u001b[0m \u001b[0;34m=\u001b[0m \u001b[0mresult\u001b[0m\u001b[0;34m.\u001b[0m\u001b[0mcompute\u001b[0m\u001b[0;34m(\u001b[0m\u001b[0;34m)\u001b[0m\u001b[0;34m\u001b[0m\u001b[0;34m\u001b[0m\u001b[0m\n\u001b[0m\u001b[1;32m    906\u001b[0m         \u001b[0;32mreturn\u001b[0m \u001b[0mresult\u001b[0m\u001b[0;34m\u001b[0m\u001b[0;34m\u001b[0m\u001b[0m\n\u001b[1;32m    907\u001b[0m \u001b[0;34m\u001b[0m\u001b[0m\n",
      "\u001b[0;32m~/.local/share/virtualenvs/impresso-ne-linking-3S6qaXXb/lib/python3.6/site-packages/dask/base.py\u001b[0m in \u001b[0;36mcompute\u001b[0;34m(self, **kwargs)\u001b[0m\n\u001b[1;32m    154\u001b[0m         \u001b[0mdask\u001b[0m\u001b[0;34m.\u001b[0m\u001b[0mbase\u001b[0m\u001b[0;34m.\u001b[0m\u001b[0mcompute\u001b[0m\u001b[0;34m\u001b[0m\u001b[0;34m\u001b[0m\u001b[0m\n\u001b[1;32m    155\u001b[0m         \"\"\"\n\u001b[0;32m--> 156\u001b[0;31m         \u001b[0;34m(\u001b[0m\u001b[0mresult\u001b[0m\u001b[0;34m,\u001b[0m\u001b[0;34m)\u001b[0m \u001b[0;34m=\u001b[0m \u001b[0mcompute\u001b[0m\u001b[0;34m(\u001b[0m\u001b[0mself\u001b[0m\u001b[0;34m,\u001b[0m \u001b[0mtraverse\u001b[0m\u001b[0;34m=\u001b[0m\u001b[0;32mFalse\u001b[0m\u001b[0;34m,\u001b[0m \u001b[0;34m**\u001b[0m\u001b[0mkwargs\u001b[0m\u001b[0;34m)\u001b[0m\u001b[0;34m\u001b[0m\u001b[0;34m\u001b[0m\u001b[0m\n\u001b[0m\u001b[1;32m    157\u001b[0m         \u001b[0;32mreturn\u001b[0m \u001b[0mresult\u001b[0m\u001b[0;34m\u001b[0m\u001b[0;34m\u001b[0m\u001b[0m\n\u001b[1;32m    158\u001b[0m \u001b[0;34m\u001b[0m\u001b[0m\n",
      "\u001b[0;32m~/.local/share/virtualenvs/impresso-ne-linking-3S6qaXXb/lib/python3.6/site-packages/dask/base.py\u001b[0m in \u001b[0;36mcompute\u001b[0;34m(*args, **kwargs)\u001b[0m\n\u001b[1;32m    396\u001b[0m     \u001b[0mkeys\u001b[0m \u001b[0;34m=\u001b[0m \u001b[0;34m[\u001b[0m\u001b[0mx\u001b[0m\u001b[0;34m.\u001b[0m\u001b[0m__dask_keys__\u001b[0m\u001b[0;34m(\u001b[0m\u001b[0;34m)\u001b[0m \u001b[0;32mfor\u001b[0m \u001b[0mx\u001b[0m \u001b[0;32min\u001b[0m \u001b[0mcollections\u001b[0m\u001b[0;34m]\u001b[0m\u001b[0;34m\u001b[0m\u001b[0;34m\u001b[0m\u001b[0m\n\u001b[1;32m    397\u001b[0m     \u001b[0mpostcomputes\u001b[0m \u001b[0;34m=\u001b[0m \u001b[0;34m[\u001b[0m\u001b[0mx\u001b[0m\u001b[0;34m.\u001b[0m\u001b[0m__dask_postcompute__\u001b[0m\u001b[0;34m(\u001b[0m\u001b[0;34m)\u001b[0m \u001b[0;32mfor\u001b[0m \u001b[0mx\u001b[0m \u001b[0;32min\u001b[0m \u001b[0mcollections\u001b[0m\u001b[0;34m]\u001b[0m\u001b[0;34m\u001b[0m\u001b[0;34m\u001b[0m\u001b[0m\n\u001b[0;32m--> 398\u001b[0;31m     \u001b[0mresults\u001b[0m \u001b[0;34m=\u001b[0m \u001b[0mschedule\u001b[0m\u001b[0;34m(\u001b[0m\u001b[0mdsk\u001b[0m\u001b[0;34m,\u001b[0m \u001b[0mkeys\u001b[0m\u001b[0;34m,\u001b[0m \u001b[0;34m**\u001b[0m\u001b[0mkwargs\u001b[0m\u001b[0;34m)\u001b[0m\u001b[0;34m\u001b[0m\u001b[0;34m\u001b[0m\u001b[0m\n\u001b[0m\u001b[1;32m    399\u001b[0m     \u001b[0;32mreturn\u001b[0m \u001b[0mrepack\u001b[0m\u001b[0;34m(\u001b[0m\u001b[0;34m[\u001b[0m\u001b[0mf\u001b[0m\u001b[0;34m(\u001b[0m\u001b[0mr\u001b[0m\u001b[0;34m,\u001b[0m \u001b[0;34m*\u001b[0m\u001b[0ma\u001b[0m\u001b[0;34m)\u001b[0m \u001b[0;32mfor\u001b[0m \u001b[0mr\u001b[0m\u001b[0;34m,\u001b[0m \u001b[0;34m(\u001b[0m\u001b[0mf\u001b[0m\u001b[0;34m,\u001b[0m \u001b[0ma\u001b[0m\u001b[0;34m)\u001b[0m \u001b[0;32min\u001b[0m \u001b[0mzip\u001b[0m\u001b[0;34m(\u001b[0m\u001b[0mresults\u001b[0m\u001b[0;34m,\u001b[0m \u001b[0mpostcomputes\u001b[0m\u001b[0;34m)\u001b[0m\u001b[0;34m]\u001b[0m\u001b[0;34m)\u001b[0m\u001b[0;34m\u001b[0m\u001b[0;34m\u001b[0m\u001b[0m\n\u001b[1;32m    400\u001b[0m \u001b[0;34m\u001b[0m\u001b[0m\n",
      "\u001b[0;32m~/.local/share/virtualenvs/impresso-ne-linking-3S6qaXXb/lib/python3.6/site-packages/distributed/client.py\u001b[0m in \u001b[0;36mget\u001b[0;34m(self, dsk, keys, restrictions, loose_restrictions, resources, sync, asynchronous, direct, retries, priority, fifo_timeout, actors, **kwargs)\u001b[0m\n\u001b[1;32m   2566\u001b[0m                     \u001b[0mshould_rejoin\u001b[0m \u001b[0;34m=\u001b[0m \u001b[0;32mFalse\u001b[0m\u001b[0;34m\u001b[0m\u001b[0;34m\u001b[0m\u001b[0m\n\u001b[1;32m   2567\u001b[0m             \u001b[0;32mtry\u001b[0m\u001b[0;34m:\u001b[0m\u001b[0;34m\u001b[0m\u001b[0;34m\u001b[0m\u001b[0m\n\u001b[0;32m-> 2568\u001b[0;31m                 \u001b[0mresults\u001b[0m \u001b[0;34m=\u001b[0m \u001b[0mself\u001b[0m\u001b[0;34m.\u001b[0m\u001b[0mgather\u001b[0m\u001b[0;34m(\u001b[0m\u001b[0mpacked\u001b[0m\u001b[0;34m,\u001b[0m \u001b[0masynchronous\u001b[0m\u001b[0;34m=\u001b[0m\u001b[0masynchronous\u001b[0m\u001b[0;34m,\u001b[0m \u001b[0mdirect\u001b[0m\u001b[0;34m=\u001b[0m\u001b[0mdirect\u001b[0m\u001b[0;34m)\u001b[0m\u001b[0;34m\u001b[0m\u001b[0;34m\u001b[0m\u001b[0m\n\u001b[0m\u001b[1;32m   2569\u001b[0m             \u001b[0;32mfinally\u001b[0m\u001b[0;34m:\u001b[0m\u001b[0;34m\u001b[0m\u001b[0;34m\u001b[0m\u001b[0m\n\u001b[1;32m   2570\u001b[0m                 \u001b[0;32mfor\u001b[0m \u001b[0mf\u001b[0m \u001b[0;32min\u001b[0m \u001b[0mfutures\u001b[0m\u001b[0;34m.\u001b[0m\u001b[0mvalues\u001b[0m\u001b[0;34m(\u001b[0m\u001b[0;34m)\u001b[0m\u001b[0;34m:\u001b[0m\u001b[0;34m\u001b[0m\u001b[0;34m\u001b[0m\u001b[0m\n",
      "\u001b[0;32m~/.local/share/virtualenvs/impresso-ne-linking-3S6qaXXb/lib/python3.6/site-packages/distributed/client.py\u001b[0m in \u001b[0;36mgather\u001b[0;34m(self, futures, errors, maxsize, direct, asynchronous)\u001b[0m\n\u001b[1;32m   1820\u001b[0m                 \u001b[0mdirect\u001b[0m\u001b[0;34m=\u001b[0m\u001b[0mdirect\u001b[0m\u001b[0;34m,\u001b[0m\u001b[0;34m\u001b[0m\u001b[0;34m\u001b[0m\u001b[0m\n\u001b[1;32m   1821\u001b[0m                 \u001b[0mlocal_worker\u001b[0m\u001b[0;34m=\u001b[0m\u001b[0mlocal_worker\u001b[0m\u001b[0;34m,\u001b[0m\u001b[0;34m\u001b[0m\u001b[0;34m\u001b[0m\u001b[0m\n\u001b[0;32m-> 1822\u001b[0;31m                 \u001b[0masynchronous\u001b[0m\u001b[0;34m=\u001b[0m\u001b[0masynchronous\u001b[0m\u001b[0;34m,\u001b[0m\u001b[0;34m\u001b[0m\u001b[0;34m\u001b[0m\u001b[0m\n\u001b[0m\u001b[1;32m   1823\u001b[0m             )\n\u001b[1;32m   1824\u001b[0m \u001b[0;34m\u001b[0m\u001b[0m\n",
      "\u001b[0;32m~/.local/share/virtualenvs/impresso-ne-linking-3S6qaXXb/lib/python3.6/site-packages/distributed/client.py\u001b[0m in \u001b[0;36msync\u001b[0;34m(self, func, *args, **kwargs)\u001b[0m\n\u001b[1;32m    751\u001b[0m             \u001b[0;32mreturn\u001b[0m \u001b[0mfuture\u001b[0m\u001b[0;34m\u001b[0m\u001b[0;34m\u001b[0m\u001b[0m\n\u001b[1;32m    752\u001b[0m         \u001b[0;32melse\u001b[0m\u001b[0;34m:\u001b[0m\u001b[0;34m\u001b[0m\u001b[0;34m\u001b[0m\u001b[0m\n\u001b[0;32m--> 753\u001b[0;31m             \u001b[0;32mreturn\u001b[0m \u001b[0msync\u001b[0m\u001b[0;34m(\u001b[0m\u001b[0mself\u001b[0m\u001b[0;34m.\u001b[0m\u001b[0mloop\u001b[0m\u001b[0;34m,\u001b[0m \u001b[0mfunc\u001b[0m\u001b[0;34m,\u001b[0m \u001b[0;34m*\u001b[0m\u001b[0margs\u001b[0m\u001b[0;34m,\u001b[0m \u001b[0;34m**\u001b[0m\u001b[0mkwargs\u001b[0m\u001b[0;34m)\u001b[0m\u001b[0;34m\u001b[0m\u001b[0;34m\u001b[0m\u001b[0m\n\u001b[0m\u001b[1;32m    754\u001b[0m \u001b[0;34m\u001b[0m\u001b[0m\n\u001b[1;32m    755\u001b[0m     \u001b[0;32mdef\u001b[0m \u001b[0m__repr__\u001b[0m\u001b[0;34m(\u001b[0m\u001b[0mself\u001b[0m\u001b[0;34m)\u001b[0m\u001b[0;34m:\u001b[0m\u001b[0;34m\u001b[0m\u001b[0;34m\u001b[0m\u001b[0m\n",
      "\u001b[0;32m~/.local/share/virtualenvs/impresso-ne-linking-3S6qaXXb/lib/python3.6/site-packages/distributed/utils.py\u001b[0m in \u001b[0;36msync\u001b[0;34m(loop, func, *args, **kwargs)\u001b[0m\n\u001b[1;32m    327\u001b[0m     \u001b[0;32melse\u001b[0m\u001b[0;34m:\u001b[0m\u001b[0;34m\u001b[0m\u001b[0;34m\u001b[0m\u001b[0m\n\u001b[1;32m    328\u001b[0m         \u001b[0;32mwhile\u001b[0m \u001b[0;32mnot\u001b[0m \u001b[0me\u001b[0m\u001b[0;34m.\u001b[0m\u001b[0mis_set\u001b[0m\u001b[0;34m(\u001b[0m\u001b[0;34m)\u001b[0m\u001b[0;34m:\u001b[0m\u001b[0;34m\u001b[0m\u001b[0;34m\u001b[0m\u001b[0m\n\u001b[0;32m--> 329\u001b[0;31m             \u001b[0me\u001b[0m\u001b[0;34m.\u001b[0m\u001b[0mwait\u001b[0m\u001b[0;34m(\u001b[0m\u001b[0;36m10\u001b[0m\u001b[0;34m)\u001b[0m\u001b[0;34m\u001b[0m\u001b[0;34m\u001b[0m\u001b[0m\n\u001b[0m\u001b[1;32m    330\u001b[0m     \u001b[0;32mif\u001b[0m \u001b[0merror\u001b[0m\u001b[0;34m[\u001b[0m\u001b[0;36m0\u001b[0m\u001b[0;34m]\u001b[0m\u001b[0;34m:\u001b[0m\u001b[0;34m\u001b[0m\u001b[0;34m\u001b[0m\u001b[0m\n\u001b[1;32m    331\u001b[0m         \u001b[0msix\u001b[0m\u001b[0;34m.\u001b[0m\u001b[0mreraise\u001b[0m\u001b[0;34m(\u001b[0m\u001b[0;34m*\u001b[0m\u001b[0merror\u001b[0m\u001b[0;34m[\u001b[0m\u001b[0;36m0\u001b[0m\u001b[0;34m]\u001b[0m\u001b[0;34m)\u001b[0m\u001b[0;34m\u001b[0m\u001b[0;34m\u001b[0m\u001b[0m\n",
      "\u001b[0;32m~/.pyenv/versions/3.6.7/lib/python3.6/threading.py\u001b[0m in \u001b[0;36mwait\u001b[0;34m(self, timeout)\u001b[0m\n\u001b[1;32m    549\u001b[0m             \u001b[0msignaled\u001b[0m \u001b[0;34m=\u001b[0m \u001b[0mself\u001b[0m\u001b[0;34m.\u001b[0m\u001b[0m_flag\u001b[0m\u001b[0;34m\u001b[0m\u001b[0;34m\u001b[0m\u001b[0m\n\u001b[1;32m    550\u001b[0m             \u001b[0;32mif\u001b[0m \u001b[0;32mnot\u001b[0m \u001b[0msignaled\u001b[0m\u001b[0;34m:\u001b[0m\u001b[0;34m\u001b[0m\u001b[0;34m\u001b[0m\u001b[0m\n\u001b[0;32m--> 551\u001b[0;31m                 \u001b[0msignaled\u001b[0m \u001b[0;34m=\u001b[0m \u001b[0mself\u001b[0m\u001b[0;34m.\u001b[0m\u001b[0m_cond\u001b[0m\u001b[0;34m.\u001b[0m\u001b[0mwait\u001b[0m\u001b[0;34m(\u001b[0m\u001b[0mtimeout\u001b[0m\u001b[0;34m)\u001b[0m\u001b[0;34m\u001b[0m\u001b[0;34m\u001b[0m\u001b[0m\n\u001b[0m\u001b[1;32m    552\u001b[0m             \u001b[0;32mreturn\u001b[0m \u001b[0msignaled\u001b[0m\u001b[0;34m\u001b[0m\u001b[0;34m\u001b[0m\u001b[0m\n\u001b[1;32m    553\u001b[0m \u001b[0;34m\u001b[0m\u001b[0m\n",
      "\u001b[0;32m~/.pyenv/versions/3.6.7/lib/python3.6/threading.py\u001b[0m in \u001b[0;36mwait\u001b[0;34m(self, timeout)\u001b[0m\n\u001b[1;32m    297\u001b[0m             \u001b[0;32melse\u001b[0m\u001b[0;34m:\u001b[0m\u001b[0;34m\u001b[0m\u001b[0;34m\u001b[0m\u001b[0m\n\u001b[1;32m    298\u001b[0m                 \u001b[0;32mif\u001b[0m \u001b[0mtimeout\u001b[0m \u001b[0;34m>\u001b[0m \u001b[0;36m0\u001b[0m\u001b[0;34m:\u001b[0m\u001b[0;34m\u001b[0m\u001b[0;34m\u001b[0m\u001b[0m\n\u001b[0;32m--> 299\u001b[0;31m                     \u001b[0mgotit\u001b[0m \u001b[0;34m=\u001b[0m \u001b[0mwaiter\u001b[0m\u001b[0;34m.\u001b[0m\u001b[0macquire\u001b[0m\u001b[0;34m(\u001b[0m\u001b[0;32mTrue\u001b[0m\u001b[0;34m,\u001b[0m \u001b[0mtimeout\u001b[0m\u001b[0;34m)\u001b[0m\u001b[0;34m\u001b[0m\u001b[0;34m\u001b[0m\u001b[0m\n\u001b[0m\u001b[1;32m    300\u001b[0m                 \u001b[0;32melse\u001b[0m\u001b[0;34m:\u001b[0m\u001b[0;34m\u001b[0m\u001b[0;34m\u001b[0m\u001b[0m\n\u001b[1;32m    301\u001b[0m                     \u001b[0mgotit\u001b[0m \u001b[0;34m=\u001b[0m \u001b[0mwaiter\u001b[0m\u001b[0;34m.\u001b[0m\u001b[0macquire\u001b[0m\u001b[0;34m(\u001b[0m\u001b[0;32mFalse\u001b[0m\u001b[0;34m)\u001b[0m\u001b[0;34m\u001b[0m\u001b[0;34m\u001b[0m\u001b[0m\n",
      "\u001b[0;31mKeyboardInterrupt\u001b[0m: "
     ]
    }
   ],
   "source": [
    "merged_dfs.head()"
   ]
  },
  {
   "cell_type": "code",
   "execution_count": 83,
   "metadata": {},
   "outputs": [],
   "source": [
    "merged_bag = merged_dfs[['ft', 'nes', 'sys_id']].to_bag(index=True)"
   ]
  },
  {
   "cell_type": "code",
   "execution_count": 84,
   "metadata": {},
   "outputs": [],
   "source": [
    "def prepare_input(ci_id, fulltext, mentions, system_id):\n",
    "    start = 0\n",
    "    prepared_input = \"\"\n",
    "    \n",
    "    for mention in mentions:\n",
    "        \n",
    "        if isinstance(fulltext, float):\n",
    "            continue\n",
    "        \n",
    "        if isinstance(mention, float):\n",
    "            continue\n",
    "        \n",
    "        prepared_input += fulltext[start:mention['lOffset']]\n",
    "        prepared_input += f\"[[{fulltext[mention['lOffset']:mention['rOffset']]}]]\"\n",
    "        start = mention['rOffset']\n",
    "    return {\n",
    "        \"id\": ci_id,\n",
    "        \"ft\": fulltext,\n",
    "        \"input\": prepared_input,\n",
    "        \"nes\": mentions,\n",
    "        \"sys_id\": system_id\n",
    "    }\n",
    "        "
   ]
  },
  {
   "cell_type": "code",
   "execution_count": 85,
   "metadata": {},
   "outputs": [],
   "source": [
    "prepared_input = merged_bag.starmap(prepare_input).map(json.dumps).to_textfiles(\n",
    "    f\"s3://processed-canonical-data/entities/aida-input/*.bz2\",\n",
    "    storage_options=IMPRESSO_STORAGEOPT\n",
    ")"
   ]
  },
  {
   "cell_type": "code",
   "execution_count": 30,
   "metadata": {},
   "outputs": [
    {
     "data": {
      "text/plain": [
       "3198"
      ]
     },
     "execution_count": 30,
     "metadata": {},
     "output_type": "execute_result"
    }
   ],
   "source": [
    "len(prepared_input)"
   ]
  },
  {
   "cell_type": "code",
   "execution_count": 35,
   "metadata": {
    "collapsed": true
   },
   "outputs": [
    {
     "name": "stderr",
     "output_type": "stream",
     "text": [
      "tornado.application - ERROR - Exception in callback <bound method Client._heartbeat of <Client: scheduler='tcp://10.233.78.196:8786' processes=0 cores=0>>\n",
      "Traceback (most recent call last):\n",
      "  File \"/home/romanell/.local/share/virtualenvs/impresso-ne-linking-3S6qaXXb/lib/python3.6/site-packages/tornado/ioloop.py\", line 907, in _run\n",
      "    return self.callback()\n",
      "  File \"/home/romanell/.local/share/virtualenvs/impresso-ne-linking-3S6qaXXb/lib/python3.6/site-packages/distributed/client.py\", line 1055, in _heartbeat\n",
      "    self.scheduler_comm.send({\"op\": \"heartbeat-client\"})\n",
      "  File \"/home/romanell/.local/share/virtualenvs/impresso-ne-linking-3S6qaXXb/lib/python3.6/site-packages/distributed/batched.py\", line 119, in send\n",
      "    raise CommClosedError\n",
      "distributed.comm.core.CommClosedError\n",
      "distributed.client - ERROR - Failed to reconnect to scheduler after 10.00 seconds, closing client\n",
      "distributed.client - ERROR - Failed to reconnect to scheduler after 10.00 seconds, closing client\n",
      "distributed.client - ERROR - Failed to reconnect to scheduler after 10.00 seconds, closing client\n",
      "distributed.client - ERROR - Failed to reconnect to scheduler after 10.00 seconds, closing client\n",
      "distributed.client - ERROR - Failed to reconnect to scheduler after 10.00 seconds, closing client\n",
      "distributed.client - ERROR - Failed to reconnect to scheduler after 10.00 seconds, closing client\n",
      "distributed.client - ERROR - Failed to reconnect to scheduler after 10.00 seconds, closing client\n",
      "distributed.client - ERROR - Failed to reconnect to scheduler after 10.00 seconds, closing client\n",
      "distributed.client - ERROR - Failed to reconnect to scheduler after 10.00 seconds, closing client\n",
      "distributed.client - ERROR - Failed to reconnect to scheduler after 10.00 seconds, closing client\n",
      "distributed.client - ERROR - Failed to reconnect to scheduler after 10.00 seconds, closing client\n",
      "distributed.client - ERROR - Failed to reconnect to scheduler after 10.00 seconds, closing client\n",
      "distributed.client - ERROR - Failed to reconnect to scheduler after 10.00 seconds, closing client\n",
      "distributed.client - ERROR - Failed to reconnect to scheduler after 10.00 seconds, closing client\n",
      "distributed.client - ERROR - Failed to reconnect to scheduler after 10.00 seconds, closing client\n",
      "distributed.client - ERROR - Failed to reconnect to scheduler after 10.00 seconds, closing client\n",
      "distributed.client - ERROR - Failed to reconnect to scheduler after 10.00 seconds, closing client\n",
      "distributed.client - ERROR - Failed to reconnect to scheduler after 10.00 seconds, closing client\n",
      "distributed.client - ERROR - Failed to reconnect to scheduler after 10.00 seconds, closing client\n",
      "distributed.client - ERROR - Failed to reconnect to scheduler after 10.00 seconds, closing client\n"
     ]
    }
   ],
   "source": [
    "cluster.close()"
   ]
  },
  {
   "cell_type": "markdown",
   "metadata": {},
   "source": [
    "## try disambiguating"
   ]
  },
  {
   "cell_type": "markdown",
   "metadata": {},
   "source": [
    "**NB**: `findExtractedMentions()` doesn't seem to work when the character preceding a mention is an apostrophe (e.g. l'[[Egypte]])."
   ]
  },
  {
   "cell_type": "code",
   "execution_count": 5,
   "metadata": {},
   "outputs": [],
   "source": [
    "from py4j.java_gateway import JavaGateway\n",
    "gateway = JavaGateway()\n",
    "\n",
    "aida_server = gateway.entry_point.getAida()"
   ]
  },
  {
   "cell_type": "code",
   "execution_count": 214,
   "metadata": {},
   "outputs": [],
   "source": [
    "x = prepared_input.take(21, npartitions=100)[-1]"
   ]
  },
  {
   "cell_type": "code",
   "execution_count": 215,
   "metadata": {},
   "outputs": [],
   "source": [
    "test_sentence = x['input']"
   ]
  },
  {
   "cell_type": "code",
   "execution_count": 216,
   "metadata": {},
   "outputs": [
    {
     "data": {
      "text/plain": [
       "\"RÉPUBLIQUE [[SUISSE]]. De St. Gall, le 28 juillet. L'on recommence de nouveau, d'après le système ifincamération trichienne-, à procéder contre toutes les propriétés helvétiques situées de l'autre côté du Rhin, & déjà les possessions des communes du Rheinthal, qui sont d'une valeur très-considérable, viennent d'être séquestrées. De Berne, le 29 juillet. Parmi le grand nombre de voyageurs de marque qui ont passé ici, l'on distingue le général Sebastiani, connu par son rapport sur l'[[Egypte]]. Il n'a fait qu'un très-petit séjour dans notre ville, qu'il a en majeure partie . passé chez son excellence le ministre français. Il y a eu en outre plusieurs suédois, danois & allemands, qui tous sont allés voir l'institut de Pestalozzi, à Bouchsée. — Dans la séance de la diète du 14, à l'occasion de la discussion sur les troubles du canton de [[Zurich]], la proposition de faire une loi organique en explication du 20. art. de fafte de médiation, a été mise à l'ordre du jour. Cet article est de la teneur suivante : •, 5 En cas de révolte dans l'intérieur d'un canton, ou de tout autre besoin pressant, le landaman fait marcher des troupes d'un canton à l'autre, mais seulement sur la demande du grand ou du petit conseil du canton qui réclame des secours, & après avoir pris l'avis du petit-conseil du canton directeur, sauf à convoquer la diète après la répression des hostilités, ou si le danger continue ,,. — Mais comme il n'a pas été question de cet objet dans la compétence du. landamman, presque toutes les députations, à l'exception de celles des nouveaux cantons, se trouvaient sans instructions. Les députés d'Uri, d'Unterwalden, [[Fribourg]]\""
      ]
     },
     "execution_count": 216,
     "metadata": {},
     "output_type": "execute_result"
    }
   ],
   "source": [
    "x['input']"
   ]
  },
  {
   "cell_type": "code",
   "execution_count": 217,
   "metadata": {},
   "outputs": [],
   "source": [
    "mentions = gateway.entry_point.findExtractedMentions(test_sentence)\n",
    "annotations = aida_server.disambiguate(test_sentence, mentions, \"fullSettings\")"
   ]
  },
  {
   "cell_type": "code",
   "execution_count": 218,
   "metadata": {},
   "outputs": [
    {
     "name": "stdout",
     "output_type": "stream",
     "text": [
      "Zurich http://en.wikipedia.org/wiki/Zürich\n",
      "SUISSE http://en.wikipedia.org/wiki/Suisse,_Moselle\n",
      "Fribourg http://en.wikipedia.org/wiki/Fribourg\n"
     ]
    }
   ],
   "source": [
    "for mention in annotations.keySet():\n",
    "    wikipedia_entity_id = f\"http://en.wikipedia.org/wiki/{annotations.get(mention).getName()}\"\n",
    "    print(mention.getMention(), wikipedia_entity_id)"
   ]
  },
  {
   "cell_type": "code",
   "execution_count": 166,
   "metadata": {},
   "outputs": [
    {
     "data": {
      "text/plain": [
       "4990"
      ]
     },
     "execution_count": 166,
     "metadata": {},
     "output_type": "execute_result"
    }
   ],
   "source": [
    "prepared_input.count().compute()"
   ]
  },
  {
   "cell_type": "code",
   "execution_count": 220,
   "metadata": {},
   "outputs": [],
   "source": [
    "cluster.close()"
   ]
  },
  {
   "cell_type": "markdown",
   "metadata": {},
   "source": [
    "## Disambiguation test"
   ]
  },
  {
   "cell_type": "code",
   "execution_count": 5,
   "metadata": {},
   "outputs": [],
   "source": [
    "from dask.distributed import Client, progress\n",
    "from py4j.java_gateway import JavaGateway\n",
    "from time import strftime"
   ]
  },
  {
   "cell_type": "code",
   "execution_count": 6,
   "metadata": {},
   "outputs": [],
   "source": [
    "dask_client = Client()"
   ]
  },
  {
   "cell_type": "code",
   "execution_count": 7,
   "metadata": {},
   "outputs": [
    {
     "data": {
      "text/html": [
       "<table style=\"border: 2px solid white;\">\n",
       "<tr>\n",
       "<td style=\"vertical-align: top; border: 0px solid white\">\n",
       "<h3>Client</h3>\n",
       "<ul>\n",
       "  <li><b>Scheduler: </b>tcp://127.0.0.1:36657\n",
       "</ul>\n",
       "</td>\n",
       "<td style=\"vertical-align: top; border: 0px solid white\">\n",
       "<h3>Cluster</h3>\n",
       "<ul>\n",
       "  <li><b>Workers: </b>4</li>\n",
       "  <li><b>Cores: </b>8</li>\n",
       "  <li><b>Memory: </b>33.65 GB</li>\n",
       "</ul>\n",
       "</td>\n",
       "</tr>\n",
       "</table>"
      ],
      "text/plain": [
       "<Client: scheduler='tcp://127.0.0.1:36657' processes=4 cores=8>"
      ]
     },
     "execution_count": 7,
     "metadata": {},
     "output_type": "execute_result"
    }
   ],
   "source": [
    "dask_client"
   ]
  },
  {
   "cell_type": "code",
   "execution_count": 17,
   "metadata": {},
   "outputs": [],
   "source": [
    "gateway = JavaGateway()"
   ]
  },
  {
   "cell_type": "code",
   "execution_count": 46,
   "metadata": {
    "code_folding": [
     0
    ]
   },
   "outputs": [],
   "source": [
    "def aida_disambiguate_documents(documents):\n",
    "    \n",
    "    # do py4j business\n",
    "    gateway = JavaGateway()\n",
    "    aida_server = gateway.entry_point.getAida()\n",
    "    \n",
    "    output = []\n",
    "    \n",
    "    for document in documents:\n",
    "    \n",
    "        prepared_input = document['input'] \n",
    "        mentions = gateway.entry_point.findExtractedMentions(prepared_input)\n",
    "        annotations = aida_server.disambiguate(prepared_input, mentions, \"fullSettings\")\n",
    "\n",
    "        output_doc = {\n",
    "            \"id\": document['id'],\n",
    "            \"sys_id\": \"aidalight-fullSettings\",\n",
    "            \"cdt\": strftime(\"%Y-%m-%d %H:%M:%S\")\n",
    "        }\n",
    "        linked_entities = []\n",
    "\n",
    "        for mention in annotations.keySet():\n",
    "\n",
    "            annotation = annotations.get(mention)\n",
    "            entity_id = annotation.getName()\n",
    "            wikipedia_entity_id = f\"http://en.wikipedia.org/wiki/{entity_id}\"\n",
    "            char_offset = mention.getCharOffset()\n",
    "            char_length = mention.getCharLength()\n",
    "\n",
    "            # uncomment for debug\n",
    "            #print(document['ft'][char_offset:char_offset + char_length])\n",
    "            #print(mention.getMention(), wikipedia_entity_id)\n",
    "\n",
    "            try:\n",
    "                matching_mention = [\n",
    "                    ne\n",
    "                    for ne in document['nes']\n",
    "                    if ne['lOffset'] == char_offset and\n",
    "                    ne['rOffset'] == char_offset + char_length\n",
    "                ][0]\n",
    "            except:\n",
    "                print(f\"error in {document['id']}\")\n",
    "                continue\n",
    "\n",
    "            ci_id = document['id']\n",
    "            start = matching_mention['lOffset']\n",
    "            end  = matching_mention['rOffset']\n",
    "            ne_type = matching_mention['type']\n",
    "            system = document['sys_id']\n",
    "            mention_id = matching_mention['id']\n",
    "\n",
    "            linked_entities.append(\n",
    "                {\n",
    "                    \"mention_id\": mention_id,\n",
    "                    \"surface\": matching_mention['surface'],\n",
    "                    \"entity_id\": entity_id,\n",
    "                    \"entity_link\": wikipedia_entity_id,\n",
    "                    \"normalized_name\": annotation.getNMEnormalizedName(),\n",
    "                    \"mention_entity_similarity\": annotation.getMentionEntitySimilarity()\n",
    "                }\n",
    "            )\n",
    "        output_doc['ne_links'] = linked_entities\n",
    "        output.append(output_doc)\n",
    "        \n",
    "    return output"
   ]
  },
  {
   "cell_type": "code",
   "execution_count": 66,
   "metadata": {},
   "outputs": [],
   "source": [
    "!s3cmd ls s3://processed-canonical-data/entities/aida-output/"
   ]
  },
  {
   "cell_type": "code",
   "execution_count": 11,
   "metadata": {},
   "outputs": [],
   "source": [
    "aida_input_files = fixed_s3fs_glob(\"s3://processed-canonical-data/entities/aida-input/000*.bz2\")"
   ]
  },
  {
   "cell_type": "code",
   "execution_count": 12,
   "metadata": {},
   "outputs": [
    {
     "data": {
      "text/plain": [
       "['s3://processed-canonical-data/entities/aida-input/0000.bz2',\n",
       " 's3://processed-canonical-data/entities/aida-input/0001.bz2',\n",
       " 's3://processed-canonical-data/entities/aida-input/0002.bz2',\n",
       " 's3://processed-canonical-data/entities/aida-input/0003.bz2',\n",
       " 's3://processed-canonical-data/entities/aida-input/0004.bz2',\n",
       " 's3://processed-canonical-data/entities/aida-input/0005.bz2',\n",
       " 's3://processed-canonical-data/entities/aida-input/0006.bz2',\n",
       " 's3://processed-canonical-data/entities/aida-input/0007.bz2',\n",
       " 's3://processed-canonical-data/entities/aida-input/0008.bz2',\n",
       " 's3://processed-canonical-data/entities/aida-input/0009.bz2']"
      ]
     },
     "execution_count": 12,
     "metadata": {},
     "output_type": "execute_result"
    }
   ],
   "source": [
    "aida_input_files"
   ]
  },
  {
   "cell_type": "code",
   "execution_count": 13,
   "metadata": {},
   "outputs": [
    {
     "data": {
      "text/plain": [
       "10"
      ]
     },
     "execution_count": 13,
     "metadata": {},
     "output_type": "execute_result"
    }
   ],
   "source": [
    "len(aida_input_files)"
   ]
  },
  {
   "cell_type": "code",
   "execution_count": 19,
   "metadata": {},
   "outputs": [],
   "source": [
    "aida_input_bag = db.read_text(\n",
    "    aida_input_files,\n",
    "    storage_options=IMPRESSO_STORAGEOPT\n",
    ").map(json.loads).persist()"
   ]
  },
  {
   "cell_type": "code",
   "execution_count": 29,
   "metadata": {},
   "outputs": [],
   "source": [
    "test = aida_input_bag.take(10)"
   ]
  },
  {
   "cell_type": "code",
   "execution_count": 31,
   "metadata": {
    "collapsed": true
   },
   "outputs": [
    {
     "data": {
      "text/plain": [
       "[{'id': 'BDC-1839-01-20-a-i0001',\n",
       "  'sys_id': 'aidalight-fullSettings',\n",
       "  'cdt': '2019-06-20 18:12:12',\n",
       "  'ne_links': [{'mention_id': 'BDC-1839-01-20-a-i0001:0:9:person:nerb-0001',\n",
       "    'surface': 'AVIS Dans',\n",
       "    'entity_id': '--NME--',\n",
       "    'entity_link': 'http://en.wikipedia.org/wiki/--NME--',\n",
       "    'normalized_name': '--NME--',\n",
       "    'mention_entity_similarity': -1.0},\n",
       "   {'mention_id': 'BDC-1839-01-20-a-i0001:1438:1444:location:nerb-0001',\n",
       "    'surface': 'Suisse',\n",
       "    'entity_id': 'Suisse,_Moselle',\n",
       "    'entity_link': 'http://en.wikipedia.org/wiki/Suisse,_Moselle',\n",
       "    'normalized_name': 'Suisse,_Moselle',\n",
       "    'mention_entity_similarity': -1.0}]},\n",
       " {'id': 'BDC-1839-01-20-a-i0002',\n",
       "  'sys_id': 'aidalight-fullSettings',\n",
       "  'cdt': '2019-06-20 18:12:12',\n",
       "  'ne_links': [{'mention_id': 'BDC-1839-01-20-a-i0002:2691:2698:location:nerb-0001',\n",
       "    'surface': 'Maurice',\n",
       "    'entity_id': 'Maurice_Cox',\n",
       "    'entity_link': 'http://en.wikipedia.org/wiki/Maurice_Cox',\n",
       "    'normalized_name': 'Maurice_Cox',\n",
       "    'mention_entity_similarity': -1.0},\n",
       "   {'mention_id': 'BDC-1839-01-20-a-i0002:0:4:location:nerb-0001',\n",
       "    'surface': 'Sion',\n",
       "    'entity_id': 'FC_Sion',\n",
       "    'entity_link': 'http://en.wikipedia.org/wiki/FC_Sion',\n",
       "    'normalized_name': 'FC_Sion',\n",
       "    'mention_entity_similarity': -1.0},\n",
       "   {'mention_id': 'BDC-1839-01-20-a-i0002:2666:2674:location:nerb-0001',\n",
       "    'surface': 'Martigny',\n",
       "    'entity_id': 'Martigny',\n",
       "    'entity_link': 'http://en.wikipedia.org/wiki/Martigny',\n",
       "    'normalized_name': 'Martigny',\n",
       "    'mention_entity_similarity': -1.0},\n",
       "   {'mention_id': 'BDC-1839-01-20-a-i0002:2702:2709:location:nerb-0001',\n",
       "    'surface': 'Monthey',\n",
       "    'entity_id': 'Monthey',\n",
       "    'entity_link': 'http://en.wikipedia.org/wiki/Monthey',\n",
       "    'normalized_name': 'Monthey',\n",
       "    'mention_entity_similarity': -1.0}]},\n",
       " {'id': 'BDC-1839-01-20-a-i0003',\n",
       "  'sys_id': 'aidalight-fullSettings',\n",
       "  'cdt': '2019-06-20 18:12:12',\n",
       "  'ne_links': []},\n",
       " {'id': 'BDC-1839-01-20-a-i0004',\n",
       "  'sys_id': 'aidalight-fullSettings',\n",
       "  'cdt': '2019-06-20 18:12:12',\n",
       "  'ne_links': [{'mention_id': 'BDC-1839-01-20-a-i0004:159:165:location:nerb-0001',\n",
       "    'surface': 'Suisse',\n",
       "    'entity_id': 'Suisse,_Moselle',\n",
       "    'entity_link': 'http://en.wikipedia.org/wiki/Suisse,_Moselle',\n",
       "    'normalized_name': 'Suisse,_Moselle',\n",
       "    'mention_entity_similarity': -1.0},\n",
       "   {'mention_id': 'BDC-1839-01-20-a-i0004:1715:1725:location:nerb-0001',\n",
       "    'surface': 'Providence',\n",
       "    'entity_id': 'Providence,_Rhode_Island',\n",
       "    'entity_link': 'http://en.wikipedia.org/wiki/Providence,_Rhode_Island',\n",
       "    'normalized_name': 'Providence,_Rhode_Island',\n",
       "    'mention_entity_similarity': -1.0}]},\n",
       " {'id': 'BDC-1839-01-20-a-i0005',\n",
       "  'sys_id': 'aidalight-fullSettings',\n",
       "  'cdt': '2019-06-20 18:12:12',\n",
       "  'ne_links': [{'mention_id': 'BDC-1839-01-20-a-i0005:63:67:location:nerb-0001',\n",
       "    'surface': 'Sion',\n",
       "    'entity_id': 'FC_Sion',\n",
       "    'entity_link': 'http://en.wikipedia.org/wiki/FC_Sion',\n",
       "    'normalized_name': 'FC_Sion',\n",
       "    'mention_entity_similarity': -1.0}]},\n",
       " {'id': 'BDC-1839-01-20-a-i0006',\n",
       "  'sys_id': 'aidalight-fullSettings',\n",
       "  'cdt': '2019-06-20 18:12:12',\n",
       "  'ne_links': []},\n",
       " {'id': 'BDC-1839-01-20-a-i0007',\n",
       "  'sys_id': 'aidalight-fullSettings',\n",
       "  'cdt': '2019-06-20 18:12:12',\n",
       "  'ne_links': [{'mention_id': 'BDC-1839-01-20-a-i0007:73:79:location:nerb-0001',\n",
       "    'surface': 'Canton',\n",
       "    'entity_id': 'Cantons_of_Switzerland',\n",
       "    'entity_link': 'http://en.wikipedia.org/wiki/Cantons_of_Switzerland',\n",
       "    'normalized_name': 'Cantons_of_Switzerland',\n",
       "    'mention_entity_similarity': -1.0}]},\n",
       " {'id': 'BDC-1839-01-20-a-i0008',\n",
       "  'sys_id': 'aidalight-fullSettings',\n",
       "  'cdt': '2019-06-20 18:12:12',\n",
       "  'ne_links': [{'mention_id': 'BDC-1839-01-20-a-i0008:366:372:location:nerb-0001',\n",
       "    'surface': 'Canton',\n",
       "    'entity_id': 'Cantons_of_Switzerland',\n",
       "    'entity_link': 'http://en.wikipedia.org/wiki/Cantons_of_Switzerland',\n",
       "    'normalized_name': 'Cantons_of_Switzerland',\n",
       "    'mention_entity_similarity': -1.0}]},\n",
       " {'id': 'BDC-1839-01-20-a-i0009',\n",
       "  'sys_id': 'aidalight-fullSettings',\n",
       "  'cdt': '2019-06-20 18:12:12',\n",
       "  'ne_links': []},\n",
       " {'id': 'BDC-1839-01-20-a-i0011',\n",
       "  'sys_id': 'aidalight-fullSettings',\n",
       "  'cdt': '2019-06-20 18:12:12',\n",
       "  'ne_links': [{'mention_id': 'BDC-1839-01-20-a-i0011:15:40:person:nerb-0001',\n",
       "    'surface': 'JOSEPH CALPINI-ALBERTAZZU',\n",
       "    'entity_id': '--NME--',\n",
       "    'entity_link': 'http://en.wikipedia.org/wiki/--NME--',\n",
       "    'normalized_name': '--NME--',\n",
       "    'mention_entity_similarity': -1.0}]}]"
      ]
     },
     "execution_count": 31,
     "metadata": {},
     "output_type": "execute_result"
    }
   ],
   "source": [
    "aida_disambiguate_documents(test, gateway)"
   ]
  },
  {
   "cell_type": "code",
   "execution_count": 32,
   "metadata": {},
   "outputs": [],
   "source": [
    "local_input_dir = \"/media/romanell/4T/matteo/impresso-entities/aida-input/\"\n",
    "local_output_dir = \"/media/romanell/4T/matteo/impresso-entities/aida-output/\""
   ]
  },
  {
   "cell_type": "code",
   "execution_count": 62,
   "metadata": {},
   "outputs": [],
   "source": [
    "range_start = 0\n",
    "range_end = 1000"
   ]
  },
  {
   "cell_type": "code",
   "execution_count": 66,
   "metadata": {},
   "outputs": [],
   "source": [
    "aida_input_files = [\n",
    "    os.path.join(local_input_dir, file)\n",
    "    for file in os.listdir(local_input_dir)\n",
    "    if int(file.replace(\".bz2\", \"\")) >= range_start and int(file.replace(\".bz2\", \"\")) < range_end\n",
    "]"
   ]
  },
  {
   "cell_type": "code",
   "execution_count": 67,
   "metadata": {},
   "outputs": [],
   "source": [
    "aida_output_files = [\n",
    "    file.replace('aida-input', 'aida-output')\n",
    "    for file in aida_input_files\n",
    "]"
   ]
  },
  {
   "cell_type": "code",
   "execution_count": 68,
   "metadata": {},
   "outputs": [
    {
     "data": {
      "text/plain": [
       "1000"
      ]
     },
     "execution_count": 68,
     "metadata": {},
     "output_type": "execute_result"
    }
   ],
   "source": [
    "len(aida_input_files)"
   ]
  },
  {
   "cell_type": "code",
   "execution_count": 69,
   "metadata": {},
   "outputs": [
    {
     "data": {
      "text/plain": [
       "['/media/romanell/4T/matteo/impresso-entities/aida-input/0013.bz2',\n",
       " '/media/romanell/4T/matteo/impresso-entities/aida-input/0128.bz2',\n",
       " '/media/romanell/4T/matteo/impresso-entities/aida-input/0973.bz2',\n",
       " '/media/romanell/4T/matteo/impresso-entities/aida-input/0058.bz2',\n",
       " '/media/romanell/4T/matteo/impresso-entities/aida-input/0095.bz2',\n",
       " '/media/romanell/4T/matteo/impresso-entities/aida-input/0601.bz2',\n",
       " '/media/romanell/4T/matteo/impresso-entities/aida-input/0099.bz2',\n",
       " '/media/romanell/4T/matteo/impresso-entities/aida-input/0433.bz2',\n",
       " '/media/romanell/4T/matteo/impresso-entities/aida-input/0721.bz2',\n",
       " '/media/romanell/4T/matteo/impresso-entities/aida-input/0756.bz2']"
      ]
     },
     "execution_count": 69,
     "metadata": {},
     "output_type": "execute_result"
    }
   ],
   "source": [
    "aida_input_files[:10]"
   ]
  },
  {
   "cell_type": "code",
   "execution_count": 71,
   "metadata": {},
   "outputs": [
    {
     "data": {
      "text/plain": [
       "['/media/romanell/4T/matteo/impresso-entities/aida-output/0013.bz2',\n",
       " '/media/romanell/4T/matteo/impresso-entities/aida-output/0128.bz2',\n",
       " '/media/romanell/4T/matteo/impresso-entities/aida-output/0973.bz2',\n",
       " '/media/romanell/4T/matteo/impresso-entities/aida-output/0058.bz2',\n",
       " '/media/romanell/4T/matteo/impresso-entities/aida-output/0095.bz2',\n",
       " '/media/romanell/4T/matteo/impresso-entities/aida-output/0601.bz2',\n",
       " '/media/romanell/4T/matteo/impresso-entities/aida-output/0099.bz2',\n",
       " '/media/romanell/4T/matteo/impresso-entities/aida-output/0433.bz2',\n",
       " '/media/romanell/4T/matteo/impresso-entities/aida-output/0721.bz2',\n",
       " '/media/romanell/4T/matteo/impresso-entities/aida-output/0756.bz2']"
      ]
     },
     "execution_count": 71,
     "metadata": {},
     "output_type": "execute_result"
    }
   ],
   "source": [
    "aida_output_files[:10]"
   ]
  },
  {
   "cell_type": "code",
   "execution_count": null,
   "metadata": {},
   "outputs": [],
   "source": [
    "aida_input_bag = db.read_text(\n",
    "    aida_input_files,\n",
    "    storage_options=IMPRESSO_STORAGEOPT\n",
    ").map(json.loads)\\\n",
    ".map_partitions(aida_disambiguate_documents)\\\n",
    ".map(json.dumps)\\\n",
    ".to_textfiles(\n",
    "    aida_output_files\n",
    "    # storage_options=IMPRESSO_STORAGEOPT\n",
    ")"
   ]
  },
  {
   "cell_type": "markdown",
   "metadata": {},
   "source": [
    "## Disambiguation (s3 input)"
   ]
  },
  {
   "cell_type": "code",
   "execution_count": 17,
   "metadata": {},
   "outputs": [],
   "source": [
    "# aida_input_path = f\"s3://canonical-rebuilt/{np}/*.jsonl.bz2\"\n",
    "\n",
    "aida_input = \"s3://processed-canonical-data/entities/aida-input/GDL/*.bz2\"\n",
    "aida_input_bag = db.read_text(\n",
    "    aida_input,\n",
    "    storage_options=IMPRESSO_STORAGEOPT\n",
    ").map(json.loads)\\\n",
    ".map(aida_disambiguate)"
   ]
  },
  {
   "cell_type": "code",
   "execution_count": 19,
   "metadata": {
    "collapsed": true
   },
   "outputs": [
    {
     "name": "stderr",
     "output_type": "stream",
     "text": [
      "ERROR:root:Exception while sending command.\n",
      "Traceback (most recent call last):\n",
      "  File \"/home/romanell/.local/share/virtualenvs/impresso-ne-linking-3S6qaXXb/lib/python3.6/site-packages/py4j/java_gateway.py\", line 1188, in send_command\n",
      "    raise Py4JNetworkError(\"Answer from Java side is empty\")\n",
      "py4j.protocol.Py4JNetworkError: Answer from Java side is empty\n",
      "\n",
      "During handling of the above exception, another exception occurred:\n",
      "\n",
      "Traceback (most recent call last):\n",
      "  File \"/home/romanell/.local/share/virtualenvs/impresso-ne-linking-3S6qaXXb/lib/python3.6/site-packages/py4j/java_gateway.py\", line 1014, in send_command\n",
      "    response = connection.send_command(command)\n",
      "  File \"/home/romanell/.local/share/virtualenvs/impresso-ne-linking-3S6qaXXb/lib/python3.6/site-packages/py4j/java_gateway.py\", line 1193, in send_command\n",
      "    \"Error while receiving\", e, proto.ERROR_ON_RECEIVE)\n",
      "py4j.protocol.Py4JNetworkError: Error while receiving\n",
      "distributed.comm.tcp - WARNING - Closing dangling stream in <TCP  local=tcp://127.0.0.1:32918 remote=tcp://127.0.0.1:39407>\n",
      "distributed.comm.tcp - WARNING - Closing dangling stream in <TCP  local=tcp://127.0.0.1:32920 remote=tcp://127.0.0.1:39407>\n",
      "distributed.comm.tcp - WARNING - Closing dangling stream in <TCP  local=tcp://127.0.0.1:32922 remote=tcp://127.0.0.1:39407>\n"
     ]
    },
    {
     "name": "stdout",
     "output_type": "stream",
     "text": [
      "CPU times: user 1h 23min 39s, sys: 9min 14s, total: 1h 32min 54s\n",
      "Wall time: 19h 11min 15s\n"
     ]
    }
   ],
   "source": [
    "%%time\n",
    "aida_results = aida_input_bag\\\n",
    "    .map(json.dumps)\\\n",
    "    .to_textfiles(\n",
    "        f\"s3://processed-canonical-data/entities/aida-output/GDL/*.bz2\",\n",
    "        storage_options=IMPRESSO_STORAGEOPT\n",
    "    )"
   ]
  }
 ],
 "metadata": {
  "kernelspec": {
   "display_name": "Python 3",
   "language": "python",
   "name": "python3"
  },
  "language_info": {
   "codemirror_mode": {
    "name": "ipython",
    "version": 3
   },
   "file_extension": ".py",
   "mimetype": "text/x-python",
   "name": "python",
   "nbconvert_exporter": "python",
   "pygments_lexer": "ipython3",
   "version": "3.6.7"
  },
  "toc": {
   "base_numbering": 1,
   "nav_menu": {},
   "number_sections": true,
   "sideBar": true,
   "skip_h1_title": false,
   "title_cell": "Table of Contents",
   "title_sidebar": "Contents",
   "toc_cell": false,
   "toc_position": {
    "height": "calc(100% - 180px)",
    "left": "10px",
    "top": "150px",
    "width": "363.75px"
   },
   "toc_section_display": true,
   "toc_window_display": true
  }
 },
 "nbformat": 4,
 "nbformat_minor": 2
}
